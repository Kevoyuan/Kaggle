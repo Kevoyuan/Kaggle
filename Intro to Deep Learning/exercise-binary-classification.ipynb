{
 "cells": [
  {
   "cell_type": "markdown",
   "id": "d028fa44",
   "metadata": {
    "papermill": {
     "duration": 0.005986,
     "end_time": "2022-10-09T12:08:21.927502",
     "exception": false,
     "start_time": "2022-10-09T12:08:21.921516",
     "status": "completed"
    },
    "tags": []
   },
   "source": [
    "**This notebook is an exercise in the [Intro to Deep Learning](https://www.kaggle.com/learn/intro-to-deep-learning) course.  You can reference the tutorial at [this link](https://www.kaggle.com/ryanholbrook/binary-classification).**\n",
    "\n",
    "---\n"
   ]
  },
  {
   "cell_type": "markdown",
   "id": "9781eed2",
   "metadata": {
    "papermill": {
     "duration": 0.003725,
     "end_time": "2022-10-09T12:08:21.935572",
     "exception": false,
     "start_time": "2022-10-09T12:08:21.931847",
     "status": "completed"
    },
    "tags": []
   },
   "source": [
    "# Introduction #\n",
    "\n",
    "In this exercise, you'll build a model to predict hotel cancellations with a binary classifier."
   ]
  },
  {
   "cell_type": "code",
   "execution_count": 1,
   "id": "1834e1a0",
   "metadata": {
    "execution": {
     "iopub.execute_input": "2022-10-09T12:08:21.945659Z",
     "iopub.status.busy": "2022-10-09T12:08:21.945221Z",
     "iopub.status.idle": "2022-10-09T12:08:22.009825Z",
     "shell.execute_reply": "2022-10-09T12:08:22.008246Z"
    },
    "lines_to_next_cell": 0,
    "papermill": {
     "duration": 0.073864,
     "end_time": "2022-10-09T12:08:22.013554",
     "exception": false,
     "start_time": "2022-10-09T12:08:21.939690",
     "status": "completed"
    },
    "tags": []
   },
   "outputs": [],
   "source": [
    "# Setup plotting\n",
    "import matplotlib.pyplot as plt\n",
    "plt.style.use('seaborn-whitegrid')\n",
    "# Set Matplotlib defaults\n",
    "plt.rc('figure', autolayout=True)\n",
    "plt.rc('axes', labelweight='bold', labelsize='large',\n",
    "       titleweight='bold', titlesize=18, titlepad=10)\n",
    "plt.rc('animation', html='html5')\n",
    "\n",
    "# Setup feedback system\n",
    "from learntools.core import binder\n",
    "binder.bind(globals())\n",
    "from learntools.deep_learning_intro.ex6 import *"
   ]
  },
  {
   "cell_type": "markdown",
   "id": "83d159b9",
   "metadata": {
    "papermill": {
     "duration": 0.004358,
     "end_time": "2022-10-09T12:08:22.022061",
     "exception": false,
     "start_time": "2022-10-09T12:08:22.017703",
     "status": "completed"
    },
    "tags": []
   },
   "source": [
    "First, load the *Hotel Cancellations* dataset."
   ]
  },
  {
   "cell_type": "code",
   "execution_count": 2,
   "id": "0b53f380",
   "metadata": {
    "execution": {
     "iopub.execute_input": "2022-10-09T12:08:22.032122Z",
     "iopub.status.busy": "2022-10-09T12:08:22.031639Z",
     "iopub.status.idle": "2022-10-09T12:08:25.121405Z",
     "shell.execute_reply": "2022-10-09T12:08:25.119984Z"
    },
    "lines_to_next_cell": 2,
    "papermill": {
     "duration": 3.099337,
     "end_time": "2022-10-09T12:08:25.125491",
     "exception": false,
     "start_time": "2022-10-09T12:08:22.026154",
     "status": "completed"
    },
    "tags": []
   },
   "outputs": [],
   "source": [
    "import pandas as pd\n",
    "\n",
    "from sklearn.model_selection import train_test_split\n",
    "from sklearn.preprocessing import StandardScaler, OneHotEncoder\n",
    "from sklearn.impute import SimpleImputer\n",
    "from sklearn.pipeline import make_pipeline\n",
    "from sklearn.compose import make_column_transformer\n",
    "\n",
    "hotel = pd.read_csv('../input/dl-course-data/hotel.csv')\n",
    "\n",
    "X = hotel.copy()\n",
    "y = X.pop('is_canceled')\n",
    "\n",
    "X['arrival_date_month'] = \\\n",
    "    X['arrival_date_month'].map(\n",
    "        {'January':1, 'February': 2, 'March':3,\n",
    "         'April':4, 'May':5, 'June':6, 'July':7,\n",
    "         'August':8, 'September':9, 'October':10,\n",
    "         'November':11, 'December':12}\n",
    "    )\n",
    "\n",
    "features_num = [\n",
    "    \"lead_time\", \"arrival_date_week_number\",\n",
    "    \"arrival_date_day_of_month\", \"stays_in_weekend_nights\",\n",
    "    \"stays_in_week_nights\", \"adults\", \"children\", \"babies\",\n",
    "    \"is_repeated_guest\", \"previous_cancellations\",\n",
    "    \"previous_bookings_not_canceled\", \"required_car_parking_spaces\",\n",
    "    \"total_of_special_requests\", \"adr\",\n",
    "]\n",
    "features_cat = [\n",
    "    \"hotel\", \"arrival_date_month\", \"meal\",\n",
    "    \"market_segment\", \"distribution_channel\",\n",
    "    \"reserved_room_type\", \"deposit_type\", \"customer_type\",\n",
    "]\n",
    "\n",
    "transformer_num = make_pipeline(\n",
    "    SimpleImputer(strategy=\"constant\"), # there are a few missing values\n",
    "    StandardScaler(),\n",
    ")\n",
    "transformer_cat = make_pipeline(\n",
    "    SimpleImputer(strategy=\"constant\", fill_value=\"NA\"),\n",
    "    OneHotEncoder(handle_unknown='ignore'),\n",
    ")\n",
    "\n",
    "preprocessor = make_column_transformer(\n",
    "    (transformer_num, features_num),\n",
    "    (transformer_cat, features_cat),\n",
    ")\n",
    "\n",
    "# stratify - make sure classes are evenlly represented across splits\n",
    "X_train, X_valid, y_train, y_valid = \\\n",
    "    train_test_split(X, y, stratify=y, train_size=0.75)\n",
    "\n",
    "X_train = preprocessor.fit_transform(X_train)\n",
    "X_valid = preprocessor.transform(X_valid)\n",
    "\n",
    "input_shape = [X_train.shape[1]]"
   ]
  },
  {
   "cell_type": "markdown",
   "id": "c6db3c36",
   "metadata": {
    "papermill": {
     "duration": 0.006169,
     "end_time": "2022-10-09T12:08:25.138442",
     "exception": false,
     "start_time": "2022-10-09T12:08:25.132273",
     "status": "completed"
    },
    "tags": []
   },
   "source": [
    "# 1) Define Model #\n",
    "\n",
    "The model we'll use this time will have both batch normalization and dropout layers. To ease reading we've broken the diagram into blocks, but you can define it layer by layer as usual.\n",
    "\n",
    "Define a model with an architecture given by this diagram:\n",
    "\n",
    "<figure style=\"padding: 1em;\">\n",
    "<img src=\"https://i.imgur.com/V04o59Z.png\" width=\"400\" alt=\"Diagram of network architecture: BatchNorm, Dense, BatchNorm, Dropout, Dense, BatchNorm, Dropout, Dense.\">\n",
    "<figcaption style=\"textalign: center; font-style: italic\"><center>Diagram of a binary classifier.</center></figcaption>\n",
    "</figure>\n"
   ]
  },
  {
   "cell_type": "code",
   "execution_count": 3,
   "id": "ff9d3540",
   "metadata": {
    "execution": {
     "iopub.execute_input": "2022-10-09T12:08:25.153438Z",
     "iopub.status.busy": "2022-10-09T12:08:25.152506Z",
     "iopub.status.idle": "2022-10-09T12:08:32.096482Z",
     "shell.execute_reply": "2022-10-09T12:08:32.095277Z"
    },
    "lines_to_next_cell": 2,
    "papermill": {
     "duration": 6.955531,
     "end_time": "2022-10-09T12:08:32.099141",
     "exception": false,
     "start_time": "2022-10-09T12:08:25.143610",
     "status": "completed"
    },
    "tags": []
   },
   "outputs": [
    {
     "name": "stderr",
     "output_type": "stream",
     "text": [
      "2022-10-09 12:08:31.966889: I tensorflow/core/common_runtime/process_util.cc:146] Creating new thread pool with default inter op setting: 2. Tune using inter_op_parallelism_threads for best performance.\n"
     ]
    },
    {
     "data": {
      "application/javascript": [
       "parent.postMessage({\"jupyterEvent\": \"custom.exercise_interaction\", \"data\": {\"outcomeType\": 1, \"valueTowardsCompletion\": 0.3333333333333333, \"interactionType\": 1, \"questionType\": 2, \"questionId\": \"1_Q1\", \"learnToolsVersion\": \"0.3.4\", \"failureMessage\": \"\", \"exceptionClass\": \"\", \"trace\": \"\"}}, \"*\")"
      ],
      "text/plain": [
       "<IPython.core.display.Javascript object>"
      ]
     },
     "metadata": {},
     "output_type": "display_data"
    },
    {
     "data": {
      "text/markdown": [
       "<span style=\"color:#33cc33\">Correct</span>"
      ],
      "text/plain": [
       "Correct"
      ]
     },
     "metadata": {},
     "output_type": "display_data"
    }
   ],
   "source": [
    "from tensorflow import keras\n",
    "from tensorflow.keras import layers\n",
    "\n",
    "# YOUR CODE HERE: define the model given in the diagram\n",
    "model = keras.Sequential([\n",
    "    layers.BatchNormalization(input_shape=input_shape),\n",
    "    layers.Dense(256, activation='relu'),\n",
    "    layers.BatchNormalization(),\n",
    "    layers.Dropout(0.3),\n",
    "    layers.Dense(256, activation='relu'),\n",
    "    layers.BatchNormalization(),\n",
    "    layers.Dropout(0.3),\n",
    "    layers.Dense(1, activation='sigmoid'),\n",
    "])\n",
    "\n",
    "# Check your answer\n",
    "q_1.check()"
   ]
  },
  {
   "cell_type": "markdown",
   "id": "9b3e6141",
   "metadata": {
    "papermill": {
     "duration": 0.004451,
     "end_time": "2022-10-09T12:08:32.108198",
     "exception": false,
     "start_time": "2022-10-09T12:08:32.103747",
     "status": "completed"
    },
    "tags": []
   },
   "source": [
    "# 2) Add Optimizer, Loss, and Metric #\n",
    "\n",
    "Now compile the model with the Adam optimizer and binary versions of the cross-entropy loss and accuracy metric."
   ]
  },
  {
   "cell_type": "code",
   "execution_count": 4,
   "id": "be6ed6c3",
   "metadata": {
    "execution": {
     "iopub.execute_input": "2022-10-09T12:08:32.119815Z",
     "iopub.status.busy": "2022-10-09T12:08:32.118696Z",
     "iopub.status.idle": "2022-10-09T12:08:32.137020Z",
     "shell.execute_reply": "2022-10-09T12:08:32.135817Z"
    },
    "lines_to_next_cell": 0,
    "papermill": {
     "duration": 0.026526,
     "end_time": "2022-10-09T12:08:32.139334",
     "exception": false,
     "start_time": "2022-10-09T12:08:32.112808",
     "status": "completed"
    },
    "tags": []
   },
   "outputs": [
    {
     "data": {
      "application/javascript": [
       "parent.postMessage({\"jupyterEvent\": \"custom.exercise_interaction\", \"data\": {\"outcomeType\": 1, \"valueTowardsCompletion\": 0.3333333333333333, \"interactionType\": 1, \"questionType\": 2, \"questionId\": \"2_Q2\", \"learnToolsVersion\": \"0.3.4\", \"failureMessage\": \"\", \"exceptionClass\": \"\", \"trace\": \"\"}}, \"*\")"
      ],
      "text/plain": [
       "<IPython.core.display.Javascript object>"
      ]
     },
     "metadata": {},
     "output_type": "display_data"
    },
    {
     "data": {
      "text/markdown": [
       "<span style=\"color:#33cc33\">Correct</span>"
      ],
      "text/plain": [
       "Correct"
      ]
     },
     "metadata": {},
     "output_type": "display_data"
    }
   ],
   "source": [
    "# YOUR CODE HERE\n",
    "model.compile(\n",
    "    optimizer='adam',\n",
    "    loss='binary_crossentropy',\n",
    "    metrics=['binary_accuracy'],\n",
    ")\n",
    "\n",
    "# Check your answer\n",
    "q_2.check()"
   ]
  },
  {
   "cell_type": "code",
   "execution_count": 5,
   "id": "4aed784d",
   "metadata": {
    "execution": {
     "iopub.execute_input": "2022-10-09T12:08:32.150884Z",
     "iopub.status.busy": "2022-10-09T12:08:32.149885Z",
     "iopub.status.idle": "2022-10-09T12:08:32.158998Z",
     "shell.execute_reply": "2022-10-09T12:08:32.157855Z"
    },
    "lines_to_next_cell": 0,
    "papermill": {
     "duration": 0.01708,
     "end_time": "2022-10-09T12:08:32.161188",
     "exception": false,
     "start_time": "2022-10-09T12:08:32.144108",
     "status": "completed"
    },
    "tags": []
   },
   "outputs": [
    {
     "data": {
      "application/javascript": [
       "parent.postMessage({\"jupyterEvent\": \"custom.exercise_interaction\", \"data\": {\"interactionType\": 2, \"questionType\": 2, \"questionId\": \"2_Q2\", \"learnToolsVersion\": \"0.3.4\", \"valueTowardsCompletion\": 0.0, \"failureMessage\": \"\", \"exceptionClass\": \"\", \"trace\": \"\", \"outcomeType\": 4}}, \"*\")"
      ],
      "text/plain": [
       "<IPython.core.display.Javascript object>"
      ]
     },
     "metadata": {},
     "output_type": "display_data"
    },
    {
     "data": {
      "text/markdown": [
       "<span style=\"color:#3366cc\">Hint:</span> Your code should look something like:\n",
       "```python\n",
       "model.compile(\n",
       "optimizer=____,\n",
       "loss=____,\n",
       "metrics=____,\n",
       ")\n",
       "```\n"
      ],
      "text/plain": [
       "Hint: Your code should look something like:\n",
       "```python\n",
       "model.compile(\n",
       "optimizer=____,\n",
       "loss=____,\n",
       "metrics=____,\n",
       ")\n",
       "```"
      ]
     },
     "metadata": {},
     "output_type": "display_data"
    }
   ],
   "source": [
    "# Lines below will give you a hint or solution code\n",
    "q_2.hint()\n",
    "#q_2.solution()"
   ]
  },
  {
   "cell_type": "markdown",
   "id": "7f287007",
   "metadata": {
    "papermill": {
     "duration": 0.004561,
     "end_time": "2022-10-09T12:08:32.170619",
     "exception": false,
     "start_time": "2022-10-09T12:08:32.166058",
     "status": "completed"
    },
    "tags": []
   },
   "source": [
    "Finally, run this cell to train the model and view the learning curves. It may run for around 60 to 70 epochs, which could take a minute or two."
   ]
  },
  {
   "cell_type": "code",
   "execution_count": 6,
   "id": "cf972cb1",
   "metadata": {
    "execution": {
     "iopub.execute_input": "2022-10-09T12:08:32.181646Z",
     "iopub.status.busy": "2022-10-09T12:08:32.181257Z",
     "iopub.status.idle": "2022-10-09T12:10:06.106987Z",
     "shell.execute_reply": "2022-10-09T12:10:06.105740Z"
    },
    "papermill": {
     "duration": 93.934081,
     "end_time": "2022-10-09T12:10:06.109411",
     "exception": false,
     "start_time": "2022-10-09T12:08:32.175330",
     "status": "completed"
    },
    "tags": []
   },
   "outputs": [
    {
     "name": "stderr",
     "output_type": "stream",
     "text": [
      "2022-10-09 12:08:32.310050: I tensorflow/compiler/mlir/mlir_graph_optimization_pass.cc:185] None of the MLIR Optimization Passes are enabled (registered 2)\n"
     ]
    },
    {
     "name": "stdout",
     "output_type": "stream",
     "text": [
      "Epoch 1/200\n",
      "175/175 [==============================] - 4s 16ms/step - loss: 0.4856 - binary_accuracy: 0.7704 - val_loss: 0.4309 - val_binary_accuracy: 0.7998\n",
      "Epoch 2/200\n",
      "175/175 [==============================] - 2s 14ms/step - loss: 0.4247 - binary_accuracy: 0.8004 - val_loss: 0.4019 - val_binary_accuracy: 0.8145\n",
      "Epoch 3/200\n",
      "175/175 [==============================] - 2s 14ms/step - loss: 0.4099 - binary_accuracy: 0.8071 - val_loss: 0.3939 - val_binary_accuracy: 0.8176\n",
      "Epoch 4/200\n",
      "175/175 [==============================] - 2s 14ms/step - loss: 0.4032 - binary_accuracy: 0.8123 - val_loss: 0.3899 - val_binary_accuracy: 0.8209\n",
      "Epoch 5/200\n",
      "175/175 [==============================] - 2s 14ms/step - loss: 0.3978 - binary_accuracy: 0.8144 - val_loss: 0.3865 - val_binary_accuracy: 0.8234\n",
      "Epoch 6/200\n",
      "175/175 [==============================] - 2s 14ms/step - loss: 0.3930 - binary_accuracy: 0.8162 - val_loss: 0.3811 - val_binary_accuracy: 0.8233\n",
      "Epoch 7/200\n",
      "175/175 [==============================] - 2s 14ms/step - loss: 0.3882 - binary_accuracy: 0.8189 - val_loss: 0.3809 - val_binary_accuracy: 0.8265\n",
      "Epoch 8/200\n",
      "175/175 [==============================] - 2s 14ms/step - loss: 0.3857 - binary_accuracy: 0.8212 - val_loss: 0.3787 - val_binary_accuracy: 0.8273\n",
      "Epoch 9/200\n",
      "175/175 [==============================] - 2s 14ms/step - loss: 0.3821 - binary_accuracy: 0.8231 - val_loss: 0.3729 - val_binary_accuracy: 0.8292\n",
      "Epoch 10/200\n",
      "175/175 [==============================] - 3s 18ms/step - loss: 0.3792 - binary_accuracy: 0.8243 - val_loss: 0.3735 - val_binary_accuracy: 0.8304\n",
      "Epoch 11/200\n",
      "175/175 [==============================] - 2s 14ms/step - loss: 0.3767 - binary_accuracy: 0.8262 - val_loss: 0.3688 - val_binary_accuracy: 0.8313\n",
      "Epoch 12/200\n",
      "175/175 [==============================] - 2s 14ms/step - loss: 0.3740 - binary_accuracy: 0.8268 - val_loss: 0.3698 - val_binary_accuracy: 0.8309\n",
      "Epoch 13/200\n",
      "175/175 [==============================] - 2s 14ms/step - loss: 0.3734 - binary_accuracy: 0.8278 - val_loss: 0.3668 - val_binary_accuracy: 0.8310\n",
      "Epoch 14/200\n",
      "175/175 [==============================] - 3s 14ms/step - loss: 0.3705 - binary_accuracy: 0.8293 - val_loss: 0.3672 - val_binary_accuracy: 0.8300\n",
      "Epoch 15/200\n",
      "175/175 [==============================] - 2s 14ms/step - loss: 0.3689 - binary_accuracy: 0.8297 - val_loss: 0.3652 - val_binary_accuracy: 0.8325\n",
      "Epoch 16/200\n",
      "175/175 [==============================] - 2s 14ms/step - loss: 0.3669 - binary_accuracy: 0.8315 - val_loss: 0.3615 - val_binary_accuracy: 0.8340\n",
      "Epoch 17/200\n",
      "175/175 [==============================] - 2s 14ms/step - loss: 0.3643 - binary_accuracy: 0.8312 - val_loss: 0.3610 - val_binary_accuracy: 0.8351\n",
      "Epoch 18/200\n",
      "175/175 [==============================] - 2s 14ms/step - loss: 0.3627 - binary_accuracy: 0.8325 - val_loss: 0.3626 - val_binary_accuracy: 0.8338\n",
      "Epoch 19/200\n",
      "175/175 [==============================] - 2s 14ms/step - loss: 0.3598 - binary_accuracy: 0.8349 - val_loss: 0.3609 - val_binary_accuracy: 0.8333\n",
      "Epoch 20/200\n",
      "175/175 [==============================] - 2s 14ms/step - loss: 0.3593 - binary_accuracy: 0.8351 - val_loss: 0.3609 - val_binary_accuracy: 0.8325\n",
      "Epoch 21/200\n",
      "175/175 [==============================] - 2s 13ms/step - loss: 0.3589 - binary_accuracy: 0.8344 - val_loss: 0.3592 - val_binary_accuracy: 0.8346\n",
      "Epoch 22/200\n",
      "175/175 [==============================] - 3s 18ms/step - loss: 0.3566 - binary_accuracy: 0.8354 - val_loss: 0.3604 - val_binary_accuracy: 0.8335\n",
      "Epoch 23/200\n",
      "175/175 [==============================] - 2s 14ms/step - loss: 0.3544 - binary_accuracy: 0.8375 - val_loss: 0.3575 - val_binary_accuracy: 0.8362\n",
      "Epoch 24/200\n",
      "175/175 [==============================] - 2s 14ms/step - loss: 0.3544 - binary_accuracy: 0.8369 - val_loss: 0.3570 - val_binary_accuracy: 0.8370\n",
      "Epoch 25/200\n",
      "175/175 [==============================] - 2s 13ms/step - loss: 0.3533 - binary_accuracy: 0.8378 - val_loss: 0.3561 - val_binary_accuracy: 0.8369\n",
      "Epoch 26/200\n",
      "175/175 [==============================] - 2s 14ms/step - loss: 0.3537 - binary_accuracy: 0.8374 - val_loss: 0.3572 - val_binary_accuracy: 0.8353\n",
      "Epoch 27/200\n",
      "175/175 [==============================] - 2s 13ms/step - loss: 0.3510 - binary_accuracy: 0.8392 - val_loss: 0.3559 - val_binary_accuracy: 0.8371\n",
      "Epoch 28/200\n",
      "175/175 [==============================] - 2s 14ms/step - loss: 0.3499 - binary_accuracy: 0.8389 - val_loss: 0.3556 - val_binary_accuracy: 0.8356\n",
      "Epoch 29/200\n",
      "175/175 [==============================] - 2s 13ms/step - loss: 0.3484 - binary_accuracy: 0.8411 - val_loss: 0.3544 - val_binary_accuracy: 0.8376\n",
      "Epoch 30/200\n",
      "175/175 [==============================] - 2s 14ms/step - loss: 0.3482 - binary_accuracy: 0.8396 - val_loss: 0.3559 - val_binary_accuracy: 0.8358\n",
      "Epoch 31/200\n",
      "175/175 [==============================] - 2s 14ms/step - loss: 0.3471 - binary_accuracy: 0.8412 - val_loss: 0.3536 - val_binary_accuracy: 0.8383\n",
      "Epoch 32/200\n",
      "175/175 [==============================] - 2s 14ms/step - loss: 0.3457 - binary_accuracy: 0.8421 - val_loss: 0.3526 - val_binary_accuracy: 0.8395\n",
      "Epoch 33/200\n",
      "175/175 [==============================] - 2s 14ms/step - loss: 0.3454 - binary_accuracy: 0.8422 - val_loss: 0.3539 - val_binary_accuracy: 0.8380\n",
      "Epoch 34/200\n",
      "175/175 [==============================] - 2s 14ms/step - loss: 0.3443 - binary_accuracy: 0.8411 - val_loss: 0.3526 - val_binary_accuracy: 0.8385\n",
      "Epoch 35/200\n",
      "175/175 [==============================] - 3s 17ms/step - loss: 0.3427 - binary_accuracy: 0.8427 - val_loss: 0.3536 - val_binary_accuracy: 0.8376\n",
      "Epoch 36/200\n",
      "175/175 [==============================] - 2s 14ms/step - loss: 0.3420 - binary_accuracy: 0.8417 - val_loss: 0.3534 - val_binary_accuracy: 0.8371\n",
      "Epoch 37/200\n",
      "175/175 [==============================] - 2s 14ms/step - loss: 0.3408 - binary_accuracy: 0.8430 - val_loss: 0.3521 - val_binary_accuracy: 0.8388\n"
     ]
    },
    {
     "data": {
      "text/plain": [
       "<AxesSubplot:title={'center':'Accuracy'}>"
      ]
     },
     "execution_count": 6,
     "metadata": {},
     "output_type": "execute_result"
    },
    {
     "data": {
      "image/png": "[encoded data removed]",
      "text/plain": [
       "<Figure size 432x288 with 1 Axes>"
      ]
     },
     "metadata": {},
     "output_type": "display_data"
    },
    {
     "data": {
      "image/png": "[encoded data removed]",
      "text/plain": [
       "<Figure size 432x288 with 1 Axes>"
      ]
     },
     "metadata": {},
     "output_type": "display_data"
    }
   ],
   "source": [
    "early_stopping = keras.callbacks.EarlyStopping(\n",
    "    patience=5,\n",
    "    min_delta=0.001,\n",
    "    restore_best_weights=True,\n",
    ")\n",
    "history = model.fit(\n",
    "    X_train, y_train,\n",
    "    validation_data=(X_valid, y_valid),\n",
    "    batch_size=512,\n",
    "    epochs=200,\n",
    "    callbacks=[early_stopping],\n",
    ")\n",
    "\n",
    "history_df = pd.DataFrame(history.history)\n",
    "history_df.loc[:, ['loss', 'val_loss']].plot(title=\"Cross-entropy\")\n",
    "history_df.loc[:, ['binary_accuracy', 'val_binary_accuracy']].plot(title=\"Accuracy\")"
   ]
  },
  {
   "cell_type": "markdown",
   "id": "c15d8f7d",
   "metadata": {
    "papermill": {
     "duration": 0.102556,
     "end_time": "2022-10-09T12:10:06.314704",
     "exception": false,
     "start_time": "2022-10-09T12:10:06.212148",
     "status": "completed"
    },
    "tags": []
   },
   "source": [
    "# 3) Train and Evaluate #\n",
    "\n",
    "\n",
    "What do you think about the learning curves? Does it look like the model underfit or overfit? Was the cross-entropy loss a good stand-in for accuracy?"
   ]
  },
  {
   "cell_type": "code",
   "execution_count": 7,
   "id": "485f2775",
   "metadata": {
    "execution": {
     "iopub.execute_input": "2022-10-09T12:10:06.523960Z",
     "iopub.status.busy": "2022-10-09T12:10:06.523506Z",
     "iopub.status.idle": "2022-10-09T12:10:06.532346Z",
     "shell.execute_reply": "2022-10-09T12:10:06.531294Z"
    },
    "papermill": {
     "duration": 0.117734,
     "end_time": "2022-10-09T12:10:06.534701",
     "exception": false,
     "start_time": "2022-10-09T12:10:06.416967",
     "status": "completed"
    },
    "tags": []
   },
   "outputs": [
    {
     "data": {
      "application/javascript": [
       "parent.postMessage({\"jupyterEvent\": \"custom.exercise_interaction\", \"data\": {\"outcomeType\": 1, \"valueTowardsCompletion\": 0.3333333333333333, \"interactionType\": 1, \"questionType\": 4, \"questionId\": \"3_Q3\", \"learnToolsVersion\": \"0.3.4\", \"failureMessage\": \"\", \"exceptionClass\": \"\", \"trace\": \"\"}}, \"*\")"
      ],
      "text/plain": [
       "<IPython.core.display.Javascript object>"
      ]
     },
     "metadata": {},
     "output_type": "display_data"
    },
    {
     "data": {
      "text/markdown": [
       "<span style=\"color:#33cc33\">Correct:</span> \n",
       "\n",
       "Though we can see the training loss continuing to fall, the early stopping callback prevented any overfitting. Moreover, the accuracy rose at the same rate as the cross-entropy fell, so it appears that minimizing cross-entropy was a good stand-in. All in all, it looks like this training was a success!"
      ],
      "text/plain": [
       "Correct: \n",
       "\n",
       "Though we can see the training loss continuing to fall, the early stopping callback prevented any overfitting. Moreover, the accuracy rose at the same rate as the cross-entropy fell, so it appears that minimizing cross-entropy was a good stand-in. All in all, it looks like this training was a success!"
      ]
     },
     "metadata": {},
     "output_type": "display_data"
    }
   ],
   "source": [
    "# View the solution (Run this cell to receive credit!)\n",
    "q_3.check()"
   ]
  },
  {
   "cell_type": "markdown",
   "id": "707f95e4",
   "metadata": {
    "papermill": {
     "duration": 0.10309,
     "end_time": "2022-10-09T12:10:06.741091",
     "exception": false,
     "start_time": "2022-10-09T12:10:06.638001",
     "status": "completed"
    },
    "tags": []
   },
   "source": [
    "# Conclusion #\n",
    "\n",
    "Congratulations! You've completed Kaggle's *Introduction to Deep Learning* course!\n",
    "\n",
    "With your new skills you're ready to take on more advanced applications like computer vision and sentiment classification. What would you like to do next?\n",
    "\n",
    "Why not try one of our *Getting Started* competitions?\n",
    "\n",
    "- Classify images with TPUs in [**Petals to the Metal**](https://www.kaggle.com/c/tpu-getting-started)\n",
    "- Create art with GANs in [**I'm Something of a Painter Myself**](https://www.kaggle.com/c/gan-getting-started)\n",
    "- Classify Tweets in [**Real or Not? NLP with Disaster Tweets**](https://www.kaggle.com/c/nlp-getting-started)\n",
    "- Detect contradiction and entailment in [**Contradictory, My Dear Watson**](https://www.kaggle.com/c/contradictory-my-dear-watson)\n",
    "\n",
    "Until next time, Kagglers!"
   ]
  },
  {
   "cell_type": "markdown",
   "id": "6bee50e6",
   "metadata": {
    "papermill": {
     "duration": 0.103138,
     "end_time": "2022-10-09T12:10:06.947977",
     "exception": false,
     "start_time": "2022-10-09T12:10:06.844839",
     "status": "completed"
    },
    "tags": []
   },
   "source": [
    "---\n",
    "\n",
    "\n",
    "\n",
    "\n",
    "*Have questions or comments? Visit the [course discussion forum](https://www.kaggle.com/learn/intro-to-deep-learning/discussion) to chat with other learners.*"
   ]
  }
 ],
 "metadata": {
  "kernelspec": {
   "display_name": "Python 3",
   "language": "python",
   "name": "python3"
  },
  "language_info": {
   "codemirror_mode": {
    "name": "ipython",
    "version": 3
   },
   "file_extension": ".py",
   "mimetype": "text/x-python",
   "name": "python",
   "nbconvert_exporter": "python",
   "pygments_lexer": "ipython3",
   "version": "3.7.12"
  },
  "papermill": {
   "default_parameters": {},
   "duration": 118.326903,
   "end_time": "2022-10-09T12:10:10.450963",
   "environment_variables": {},
   "exception": null,
   "input_path": "__notebook__.ipynb",
   "output_path": "__notebook__.ipynb",
   "parameters": {},
   "start_time": "2022-10-09T12:08:12.124060",
   "version": "2.3.4"
  }
 },
 "nbformat": 4,
 "nbformat_minor": 5
}
