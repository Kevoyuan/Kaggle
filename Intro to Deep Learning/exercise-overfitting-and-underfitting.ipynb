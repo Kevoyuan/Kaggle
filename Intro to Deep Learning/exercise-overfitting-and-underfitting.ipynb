{
 "cells": [
  {
   "cell_type": "markdown",
   "id": "8b3b9e9e",
   "metadata": {
    "papermill": {
     "duration": 0.0055,
     "end_time": "2022-09-17T18:38:18.313160",
     "exception": false,
     "start_time": "2022-09-17T18:38:18.307660",
     "status": "completed"
    },
    "tags": []
   },
   "source": [
    "**This notebook is an exercise in the [Intro to Deep Learning](https://www.kaggle.com/learn/intro-to-deep-learning) course.  You can reference the tutorial at [this link](https://www.kaggle.com/ryanholbrook/overfitting-and-underfitting).**\n",
    "\n",
    "---\n"
   ]
  },
  {
   "cell_type": "markdown",
   "id": "56132303",
   "metadata": {
    "papermill": {
     "duration": 0.004429,
     "end_time": "2022-09-17T18:38:18.322371",
     "exception": false,
     "start_time": "2022-09-17T18:38:18.317942",
     "status": "completed"
    },
    "tags": []
   },
   "source": [
    "# Introduction #\n",
    "\n",
    "In this exercise, you’ll learn how to improve training outcomes by including an early stopping callback to prevent overfitting.\n",
    "\n",
    "When you're ready, run this next cell to set everything up!"
   ]
  },
  {
   "cell_type": "code",
   "execution_count": 1,
   "id": "6d41ba27",
   "metadata": {
    "execution": {
     "iopub.execute_input": "2022-09-17T18:38:18.333924Z",
     "iopub.status.busy": "2022-09-17T18:38:18.333137Z",
     "iopub.status.idle": "2022-09-17T18:38:18.396892Z",
     "shell.execute_reply": "2022-09-17T18:38:18.395830Z"
    },
    "papermill": {
     "duration": 0.072075,
     "end_time": "2022-09-17T18:38:18.399116",
     "exception": false,
     "start_time": "2022-09-17T18:38:18.327041",
     "status": "completed"
    },
    "tags": []
   },
   "outputs": [],
   "source": [
    "# Setup plotting\n",
    "import matplotlib.pyplot as plt\n",
    "plt.style.use('seaborn-whitegrid')\n",
    "# Set Matplotlib defaults\n",
    "plt.rc('figure', autolayout=True)\n",
    "plt.rc('axes', labelweight='bold', labelsize='large',\n",
    "       titleweight='bold', titlesize=18, titlepad=10)\n",
    "plt.rc('animation', html='html5')\n",
    "\n",
    "# Setup feedback system\n",
    "from learntools.core import binder\n",
    "binder.bind(globals())\n",
    "from learntools.deep_learning_intro.ex4 import *"
   ]
  },
  {
   "cell_type": "markdown",
   "id": "04975495",
   "metadata": {
    "papermill": {
     "duration": 0.004659,
     "end_time": "2022-09-17T18:38:18.408739",
     "exception": false,
     "start_time": "2022-09-17T18:38:18.404080",
     "status": "completed"
    },
    "tags": []
   },
   "source": [
    "First load the *Spotify* dataset. Your task will be to predict the popularity of a song based on various audio features, like `'tempo'`, `'danceability'`, and `'mode'`."
   ]
  },
  {
   "cell_type": "code",
   "execution_count": 2,
   "id": "aa60f606",
   "metadata": {
    "execution": {
     "iopub.execute_input": "2022-09-17T18:38:18.420799Z",
     "iopub.status.busy": "2022-09-17T18:38:18.420188Z",
     "iopub.status.idle": "2022-09-17T18:38:27.444324Z",
     "shell.execute_reply": "2022-09-17T18:38:27.443146Z"
    },
    "papermill": {
     "duration": 9.032685,
     "end_time": "2022-09-17T18:38:27.446301",
     "exception": false,
     "start_time": "2022-09-17T18:38:18.413616",
     "status": "completed"
    },
    "tags": []
   },
   "outputs": [
    {
     "name": "stdout",
     "output_type": "stream",
     "text": [
      "Input shape: [18]\n"
     ]
    }
   ],
   "source": [
    "import pandas as pd\n",
    "from sklearn.preprocessing import StandardScaler, OneHotEncoder\n",
    "from sklearn.compose import make_column_transformer\n",
    "from sklearn.model_selection import GroupShuffleSplit\n",
    "\n",
    "from tensorflow import keras\n",
    "from tensorflow.keras import layers\n",
    "from tensorflow.keras import callbacks\n",
    "\n",
    "spotify = pd.read_csv('../input/dl-course-data/spotify.csv')\n",
    "\n",
    "X = spotify.copy().dropna()\n",
    "y = X.pop('track_popularity')\n",
    "artists = X['track_artist']\n",
    "\n",
    "features_num = ['danceability', 'energy', 'key', 'loudness', 'mode',\n",
    "                'speechiness', 'acousticness', 'instrumentalness',\n",
    "                'liveness', 'valence', 'tempo', 'duration_ms']\n",
    "features_cat = ['playlist_genre']\n",
    "\n",
    "preprocessor = make_column_transformer(\n",
    "    (StandardScaler(), features_num),\n",
    "    (OneHotEncoder(), features_cat),\n",
    ")\n",
    "\n",
    "# We'll do a \"grouped\" split to keep all of an artist's songs in one\n",
    "# split or the other. This is to help prevent signal leakage.\n",
    "def group_split(X, y, group, train_size=0.75):\n",
    "    splitter = GroupShuffleSplit(train_size=train_size)\n",
    "    train, test = next(splitter.split(X, y, groups=group))\n",
    "    return (X.iloc[train], X.iloc[test], y.iloc[train], y.iloc[test])\n",
    "\n",
    "X_train, X_valid, y_train, y_valid = group_split(X, y, artists)\n",
    "\n",
    "X_train = preprocessor.fit_transform(X_train)\n",
    "X_valid = preprocessor.transform(X_valid)\n",
    "y_train = y_train / 100 # popularity is on a scale 0-100, so this rescales to 0-1.\n",
    "y_valid = y_valid / 100\n",
    "\n",
    "input_shape = [X_train.shape[1]]\n",
    "print(\"Input shape: {}\".format(input_shape))"
   ]
  },
  {
   "cell_type": "markdown",
   "id": "a4a83ea8",
   "metadata": {
    "papermill": {
     "duration": 0.004407,
     "end_time": "2022-09-17T18:38:27.455521",
     "exception": false,
     "start_time": "2022-09-17T18:38:27.451114",
     "status": "completed"
    },
    "tags": []
   },
   "source": [
    "Let's start with the simplest network, a linear model. This model has low capacity.\n",
    "\n",
    "Run this next cell without any changes to train a linear model on the *Spotify* dataset."
   ]
  },
  {
   "cell_type": "code",
   "execution_count": 3,
   "id": "50319e67",
   "metadata": {
    "execution": {
     "iopub.execute_input": "2022-09-17T18:38:27.466404Z",
     "iopub.status.busy": "2022-09-17T18:38:27.466058Z",
     "iopub.status.idle": "2022-09-17T18:38:33.116737Z",
     "shell.execute_reply": "2022-09-17T18:38:33.115406Z"
    },
    "lines_to_next_cell": 0,
    "papermill": {
     "duration": 5.658941,
     "end_time": "2022-09-17T18:38:33.119038",
     "exception": false,
     "start_time": "2022-09-17T18:38:27.460097",
     "status": "completed"
    },
    "tags": []
   },
   "outputs": [
    {
     "name": "stderr",
     "output_type": "stream",
     "text": [
      "2022-09-17 18:38:27.515484: I tensorflow/core/common_runtime/process_util.cc:146] Creating new thread pool with default inter op setting: 2. Tune using inter_op_parallelism_threads for best performance.\n",
      "2022-09-17 18:38:27.676460: I tensorflow/compiler/mlir/mlir_graph_optimization_pass.cc:185] None of the MLIR Optimization Passes are enabled (registered 2)\n"
     ]
    },
    {
     "name": "stdout",
     "output_type": "stream",
     "text": [
      "Minimum Validation Loss: 0.1917\n"
     ]
    },
    {
     "data": {
      "image/png": "[encoded data removed]",
      "text/plain": [
       "<Figure size 432x288 with 1 Axes>"
      ]
     },
     "metadata": {},
     "output_type": "display_data"
    }
   ],
   "source": [
    "model = keras.Sequential([\n",
    "    layers.Dense(1, input_shape=input_shape),\n",
    "])\n",
    "model.compile(\n",
    "    optimizer='adam',\n",
    "    loss='mae',\n",
    ")\n",
    "history = model.fit(\n",
    "    X_train, y_train,\n",
    "    validation_data=(X_valid, y_valid),\n",
    "    batch_size=512,\n",
    "    epochs=50,\n",
    "    verbose=0, # suppress output since we'll plot the curves\n",
    ")\n",
    "history_df = pd.DataFrame(history.history)\n",
    "history_df.loc[0:, ['loss', 'val_loss']].plot()\n",
    "print(\"Minimum Validation Loss: {:0.4f}\".format(history_df['val_loss'].min()));"
   ]
  },
  {
   "cell_type": "markdown",
   "id": "ac695aa9",
   "metadata": {
    "papermill": {
     "duration": 0.004897,
     "end_time": "2022-09-17T18:38:33.129453",
     "exception": false,
     "start_time": "2022-09-17T18:38:33.124556",
     "status": "completed"
    },
    "tags": []
   },
   "source": [
    "It's not uncommon for the curves to follow a \"hockey stick\" pattern like you see here. This makes the final part of training hard to see, so let's start at epoch 10 instead:"
   ]
  },
  {
   "cell_type": "code",
   "execution_count": 4,
   "id": "452b6f00",
   "metadata": {
    "execution": {
     "iopub.execute_input": "2022-09-17T18:38:33.143076Z",
     "iopub.status.busy": "2022-09-17T18:38:33.142718Z",
     "iopub.status.idle": "2022-09-17T18:38:33.369539Z",
     "shell.execute_reply": "2022-09-17T18:38:33.368323Z"
    },
    "papermill": {
     "duration": 0.236396,
     "end_time": "2022-09-17T18:38:33.372165",
     "exception": false,
     "start_time": "2022-09-17T18:38:33.135769",
     "status": "completed"
    },
    "tags": []
   },
   "outputs": [
    {
     "name": "stdout",
     "output_type": "stream",
     "text": [
      "Minimum Validation Loss: 0.1917\n"
     ]
    },
    {
     "data": {
      "image/png": "[encoded data removed]",
      "text/plain": [
       "<Figure size 432x288 with 1 Axes>"
      ]
     },
     "metadata": {},
     "output_type": "display_data"
    }
   ],
   "source": [
    "# Start the plot at epoch 10\n",
    "history_df.loc[10:, ['loss', 'val_loss']].plot()\n",
    "print(\"Minimum Validation Loss: {:0.4f}\".format(history_df['val_loss'].min()));"
   ]
  },
  {
   "cell_type": "markdown",
   "id": "79dfeb67",
   "metadata": {
    "papermill": {
     "duration": 0.005383,
     "end_time": "2022-09-17T18:38:33.383373",
     "exception": false,
     "start_time": "2022-09-17T18:38:33.377990",
     "status": "completed"
    },
    "tags": []
   },
   "source": [
    "# 1) Evaluate Baseline\n",
    "\n",
    "What do you think? Would you say this model is underfitting, overfitting, just right?"
   ]
  },
  {
   "cell_type": "code",
   "execution_count": 5,
   "id": "64994ef4",
   "metadata": {
    "execution": {
     "iopub.execute_input": "2022-09-17T18:38:33.396194Z",
     "iopub.status.busy": "2022-09-17T18:38:33.395844Z",
     "iopub.status.idle": "2022-09-17T18:38:33.404819Z",
     "shell.execute_reply": "2022-09-17T18:38:33.404135Z"
    },
    "papermill": {
     "duration": 0.018073,
     "end_time": "2022-09-17T18:38:33.407100",
     "exception": false,
     "start_time": "2022-09-17T18:38:33.389027",
     "status": "completed"
    },
    "tags": []
   },
   "outputs": [
    {
     "data": {
      "application/javascript": [
       "parent.postMessage({\"jupyterEvent\": \"custom.exercise_interaction\", \"data\": {\"outcomeType\": 1, \"valueTowardsCompletion\": 0.25, \"interactionType\": 1, \"questionType\": 4, \"questionId\": \"1_Q1\", \"learnToolsVersion\": \"0.3.4\", \"failureMessage\": \"\", \"exceptionClass\": \"\", \"trace\": \"\"}}, \"*\")"
      ],
      "text/plain": [
       "<IPython.core.display.Javascript object>"
      ]
     },
     "metadata": {},
     "output_type": "display_data"
    },
    {
     "data": {
      "text/markdown": [
       "<span style=\"color:#33cc33\">Correct:</span> \n",
       "\n",
       "The gap between these curves is quite small and the validation loss never increases, so it's more likely that the network is underfitting than overfitting. It would be worth experimenting with more capacity to see if that's the case."
      ],
      "text/plain": [
       "Correct: \n",
       "\n",
       "The gap between these curves is quite small and the validation loss never increases, so it's more likely that the network is underfitting than overfitting. It would be worth experimenting with more capacity to see if that's the case."
      ]
     },
     "metadata": {},
     "output_type": "display_data"
    }
   ],
   "source": [
    "# View the solution (Run this cell to receive credit!)\n",
    "q_1.check()"
   ]
  },
  {
   "cell_type": "markdown",
   "id": "3d8698a7",
   "metadata": {
    "papermill": {
     "duration": 0.00565,
     "end_time": "2022-09-17T18:38:33.419620",
     "exception": false,
     "start_time": "2022-09-17T18:38:33.413970",
     "status": "completed"
    },
    "tags": []
   },
   "source": [
    "Now let's add some capacity to our network. We'll add three hidden layers with 128 units each. Run the next cell to train the network and see the learning curves."
   ]
  },
  {
   "cell_type": "code",
   "execution_count": 6,
   "id": "458019d2",
   "metadata": {
    "execution": {
     "iopub.execute_input": "2022-09-17T18:38:33.433191Z",
     "iopub.status.busy": "2022-09-17T18:38:33.432846Z",
     "iopub.status.idle": "2022-09-17T18:38:54.477869Z",
     "shell.execute_reply": "2022-09-17T18:38:54.476503Z"
    },
    "papermill": {
     "duration": 21.054574,
     "end_time": "2022-09-17T18:38:54.480185",
     "exception": false,
     "start_time": "2022-09-17T18:38:33.425611",
     "status": "completed"
    },
    "tags": []
   },
   "outputs": [
    {
     "name": "stdout",
     "output_type": "stream",
     "text": [
      "Epoch 1/50\n",
      "50/50 [==============================] - 1s 7ms/step - loss: 0.2384 - val_loss: 0.2003\n",
      "Epoch 2/50\n",
      "50/50 [==============================] - 0s 5ms/step - loss: 0.2025 - val_loss: 0.1962\n",
      "Epoch 3/50\n",
      "50/50 [==============================] - 0s 5ms/step - loss: 0.1974 - val_loss: 0.1936\n",
      "Epoch 4/50\n",
      "50/50 [==============================] - 0s 5ms/step - loss: 0.1945 - val_loss: 0.1942\n",
      "Epoch 5/50\n",
      "50/50 [==============================] - 0s 5ms/step - loss: 0.1921 - val_loss: 0.1921\n",
      "Epoch 6/50\n",
      "50/50 [==============================] - 0s 5ms/step - loss: 0.1907 - val_loss: 0.1921\n",
      "Epoch 7/50\n",
      "50/50 [==============================] - 0s 5ms/step - loss: 0.1892 - val_loss: 0.1921\n",
      "Epoch 8/50\n",
      "50/50 [==============================] - 0s 6ms/step - loss: 0.1883 - val_loss: 0.1918\n",
      "Epoch 9/50\n",
      "50/50 [==============================] - 0s 5ms/step - loss: 0.1879 - val_loss: 0.1931\n",
      "Epoch 10/50\n",
      "50/50 [==============================] - 0s 5ms/step - loss: 0.1862 - val_loss: 0.1921\n",
      "Epoch 11/50\n",
      "50/50 [==============================] - 0s 5ms/step - loss: 0.1856 - val_loss: 0.1919\n",
      "Epoch 12/50\n",
      "50/50 [==============================] - 0s 5ms/step - loss: 0.1856 - val_loss: 0.1956\n",
      "Epoch 13/50\n",
      "50/50 [==============================] - 0s 5ms/step - loss: 0.1844 - val_loss: 0.1919\n",
      "Epoch 14/50\n",
      "50/50 [==============================] - 0s 5ms/step - loss: 0.1832 - val_loss: 0.1931\n",
      "Epoch 15/50\n",
      "50/50 [==============================] - 0s 5ms/step - loss: 0.1834 - val_loss: 0.1921\n",
      "Epoch 16/50\n",
      "50/50 [==============================] - 0s 5ms/step - loss: 0.1826 - val_loss: 0.1926\n",
      "Epoch 17/50\n",
      "50/50 [==============================] - 0s 5ms/step - loss: 0.1818 - val_loss: 0.1923\n",
      "Epoch 18/50\n",
      "50/50 [==============================] - 0s 5ms/step - loss: 0.1815 - val_loss: 0.1926\n",
      "Epoch 19/50\n",
      "50/50 [==============================] - 0s 5ms/step - loss: 0.1814 - val_loss: 0.1919\n",
      "Epoch 20/50\n",
      "50/50 [==============================] - 0s 6ms/step - loss: 0.1803 - val_loss: 0.1929\n",
      "Epoch 21/50\n",
      "50/50 [==============================] - 0s 5ms/step - loss: 0.1805 - val_loss: 0.1943\n",
      "Epoch 22/50\n",
      "50/50 [==============================] - 0s 6ms/step - loss: 0.1804 - val_loss: 0.1957\n",
      "Epoch 23/50\n",
      "50/50 [==============================] - 0s 5ms/step - loss: 0.1791 - val_loss: 0.1927\n",
      "Epoch 24/50\n",
      "50/50 [==============================] - 0s 6ms/step - loss: 0.1782 - val_loss: 0.1927\n",
      "Epoch 25/50\n",
      "50/50 [==============================] - 0s 6ms/step - loss: 0.1788 - val_loss: 0.1932\n",
      "Epoch 26/50\n",
      "50/50 [==============================] - 0s 5ms/step - loss: 0.1776 - val_loss: 0.1944\n",
      "Epoch 27/50\n",
      "50/50 [==============================] - 0s 5ms/step - loss: 0.1770 - val_loss: 0.1942\n",
      "Epoch 28/50\n",
      "50/50 [==============================] - 0s 6ms/step - loss: 0.1764 - val_loss: 0.1938\n",
      "Epoch 29/50\n",
      "50/50 [==============================] - 0s 5ms/step - loss: 0.1760 - val_loss: 0.1937\n",
      "Epoch 30/50\n",
      "50/50 [==============================] - 0s 5ms/step - loss: 0.1762 - val_loss: 0.1944\n",
      "Epoch 31/50\n",
      "50/50 [==============================] - 0s 6ms/step - loss: 0.1752 - val_loss: 0.1934\n",
      "Epoch 32/50\n",
      "50/50 [==============================] - 0s 5ms/step - loss: 0.1750 - val_loss: 0.1946\n",
      "Epoch 33/50\n",
      "50/50 [==============================] - 0s 6ms/step - loss: 0.1747 - val_loss: 0.1945\n",
      "Epoch 34/50\n",
      "50/50 [==============================] - 0s 5ms/step - loss: 0.1740 - val_loss: 0.1945\n",
      "Epoch 35/50\n",
      "50/50 [==============================] - 0s 5ms/step - loss: 0.1732 - val_loss: 0.1964\n",
      "Epoch 36/50\n",
      "50/50 [==============================] - 0s 5ms/step - loss: 0.1731 - val_loss: 0.1941\n",
      "Epoch 37/50\n",
      "50/50 [==============================] - 0s 5ms/step - loss: 0.1727 - val_loss: 0.1961\n",
      "Epoch 38/50\n",
      "50/50 [==============================] - 0s 5ms/step - loss: 0.1729 - val_loss: 0.1942\n",
      "Epoch 39/50\n",
      "50/50 [==============================] - 0s 5ms/step - loss: 0.1716 - val_loss: 0.1965\n",
      "Epoch 40/50\n",
      "50/50 [==============================] - 0s 5ms/step - loss: 0.1721 - val_loss: 0.1958\n",
      "Epoch 41/50\n",
      "50/50 [==============================] - 0s 5ms/step - loss: 0.1717 - val_loss: 0.1967\n",
      "Epoch 42/50\n",
      "50/50 [==============================] - 0s 5ms/step - loss: 0.1709 - val_loss: 0.1959\n",
      "Epoch 43/50\n",
      "50/50 [==============================] - 0s 5ms/step - loss: 0.1702 - val_loss: 0.1967\n",
      "Epoch 44/50\n",
      "50/50 [==============================] - 0s 6ms/step - loss: 0.1710 - val_loss: 0.1963\n",
      "Epoch 45/50\n",
      "50/50 [==============================] - 0s 5ms/step - loss: 0.1695 - val_loss: 0.1967\n",
      "Epoch 46/50\n",
      "50/50 [==============================] - 0s 5ms/step - loss: 0.1690 - val_loss: 0.1971\n",
      "Epoch 47/50\n",
      "50/50 [==============================] - 0s 5ms/step - loss: 0.1688 - val_loss: 0.1978\n",
      "Epoch 48/50\n",
      "50/50 [==============================] - 0s 5ms/step - loss: 0.1691 - val_loss: 0.1972\n",
      "Epoch 49/50\n",
      "50/50 [==============================] - 0s 5ms/step - loss: 0.1686 - val_loss: 0.1975\n",
      "Epoch 50/50\n",
      "50/50 [==============================] - 0s 5ms/step - loss: 0.1681 - val_loss: 0.1970\n",
      "Minimum Validation Loss: 0.1918\n"
     ]
    },
    {
     "data": {
      "image/png": "[encoded data removed]",
      "text/plain": [
       "<Figure size 432x288 with 1 Axes>"
      ]
     },
     "metadata": {},
     "output_type": "display_data"
    }
   ],
   "source": [
    "model = keras.Sequential([\n",
    "    layers.Dense(128, activation='relu', input_shape=input_shape),\n",
    "    layers.Dense(64, activation='relu'),\n",
    "    layers.Dense(1)\n",
    "])\n",
    "model.compile(\n",
    "    optimizer='adam',\n",
    "    loss='mae',\n",
    ")\n",
    "history = model.fit(\n",
    "    X_train, y_train,\n",
    "    validation_data=(X_valid, y_valid),\n",
    "    batch_size=512,\n",
    "    epochs=50,\n",
    ")\n",
    "history_df = pd.DataFrame(history.history)\n",
    "history_df.loc[:, ['loss', 'val_loss']].plot()\n",
    "print(\"Minimum Validation Loss: {:0.4f}\".format(history_df['val_loss'].min()));"
   ]
  },
  {
   "cell_type": "markdown",
   "id": "887199bf",
   "metadata": {
    "papermill": {
     "duration": 0.020106,
     "end_time": "2022-09-17T18:38:54.521037",
     "exception": false,
     "start_time": "2022-09-17T18:38:54.500931",
     "status": "completed"
    },
    "tags": []
   },
   "source": [
    "# 2) Add Capacity\n",
    "\n",
    "What is your evaluation of these curves? Underfitting, overfitting, just right?"
   ]
  },
  {
   "cell_type": "code",
   "execution_count": 7,
   "id": "c7caf9f5",
   "metadata": {
    "execution": {
     "iopub.execute_input": "2022-09-17T18:38:54.566769Z",
     "iopub.status.busy": "2022-09-17T18:38:54.566406Z",
     "iopub.status.idle": "2022-09-17T18:38:54.576830Z",
     "shell.execute_reply": "2022-09-17T18:38:54.575197Z"
    },
    "papermill": {
     "duration": 0.036619,
     "end_time": "2022-09-17T18:38:54.579626",
     "exception": false,
     "start_time": "2022-09-17T18:38:54.543007",
     "status": "completed"
    },
    "tags": []
   },
   "outputs": [
    {
     "data": {
      "application/javascript": [
       "parent.postMessage({\"jupyterEvent\": \"custom.exercise_interaction\", \"data\": {\"outcomeType\": 1, \"valueTowardsCompletion\": 0.25, \"interactionType\": 1, \"questionType\": 4, \"questionId\": \"2_Q2\", \"learnToolsVersion\": \"0.3.4\", \"failureMessage\": \"\", \"exceptionClass\": \"\", \"trace\": \"\"}}, \"*\")"
      ],
      "text/plain": [
       "<IPython.core.display.Javascript object>"
      ]
     },
     "metadata": {},
     "output_type": "display_data"
    },
    {
     "data": {
      "text/markdown": [
       "<span style=\"color:#33cc33\">Correct:</span> \n",
       "\n",
       "Now the validation loss begins to rise very early, while the training loss continues to decrease. This indicates that the network has begun to overfit. At this point, we would need to try something to prevent it, either by reducing the number of units or through a method like early stopping. (We'll see another in the next lesson!)"
      ],
      "text/plain": [
       "Correct: \n",
       "\n",
       "Now the validation loss begins to rise very early, while the training loss continues to decrease. This indicates that the network has begun to overfit. At this point, we would need to try something to prevent it, either by reducing the number of units or through a method like early stopping. (We'll see another in the next lesson!)"
      ]
     },
     "metadata": {},
     "output_type": "display_data"
    }
   ],
   "source": [
    "# View the solution (Run this cell to receive credit!)\n",
    "q_2.check()"
   ]
  },
  {
   "cell_type": "markdown",
   "id": "2b35acb7",
   "metadata": {
    "papermill": {
     "duration": 0.020622,
     "end_time": "2022-09-17T18:38:54.621295",
     "exception": false,
     "start_time": "2022-09-17T18:38:54.600673",
     "status": "completed"
    },
    "tags": []
   },
   "source": [
    "# 3) Define Early Stopping Callback\n",
    "\n",
    "Now define an early stopping callback that waits 5 epochs (`patience'`) for a change in validation loss of at least `0.001` (`min_delta`) and keeps the weights with the best loss (`restore_best_weights`)."
   ]
  },
  {
   "cell_type": "code",
   "execution_count": 8,
   "id": "30d3d248",
   "metadata": {
    "execution": {
     "iopub.execute_input": "2022-09-17T18:38:54.663959Z",
     "iopub.status.busy": "2022-09-17T18:38:54.663620Z",
     "iopub.status.idle": "2022-09-17T18:38:54.673003Z",
     "shell.execute_reply": "2022-09-17T18:38:54.671582Z"
    },
    "lines_to_next_cell": 0,
    "papermill": {
     "duration": 0.03284,
     "end_time": "2022-09-17T18:38:54.674737",
     "exception": false,
     "start_time": "2022-09-17T18:38:54.641897",
     "status": "completed"
    },
    "tags": []
   },
   "outputs": [
    {
     "data": {
      "application/javascript": [
       "parent.postMessage({\"jupyterEvent\": \"custom.exercise_interaction\", \"data\": {\"outcomeType\": 1, \"valueTowardsCompletion\": 0.25, \"interactionType\": 1, \"questionType\": 2, \"questionId\": \"3_Q3\", \"learnToolsVersion\": \"0.3.4\", \"failureMessage\": \"\", \"exceptionClass\": \"\", \"trace\": \"\"}}, \"*\")"
      ],
      "text/plain": [
       "<IPython.core.display.Javascript object>"
      ]
     },
     "metadata": {},
     "output_type": "display_data"
    },
    {
     "data": {
      "text/markdown": [
       "<span style=\"color:#33cc33\">Correct</span>"
      ],
      "text/plain": [
       "Correct"
      ]
     },
     "metadata": {},
     "output_type": "display_data"
    }
   ],
   "source": [
    "from tensorflow.keras import callbacks\n",
    "\n",
    "# YOUR CODE HERE: define an early stopping callback\n",
    "early_stopping = callbacks.EarlyStopping(\n",
    "    min_delta=0.001, # minimium amount of change to count as an improvement\n",
    "    patience=5, # how many epochs to wait before stopping\n",
    "    restore_best_weights=True,\n",
    ")\n",
    "\n",
    "# Check your answer\n",
    "q_3.check()"
   ]
  },
  {
   "cell_type": "code",
   "execution_count": 9,
   "id": "e0020940",
   "metadata": {
    "execution": {
     "iopub.execute_input": "2022-09-17T18:38:54.718330Z",
     "iopub.status.busy": "2022-09-17T18:38:54.717973Z",
     "iopub.status.idle": "2022-09-17T18:38:54.731482Z",
     "shell.execute_reply": "2022-09-17T18:38:54.729813Z"
    },
    "papermill": {
     "duration": 0.037993,
     "end_time": "2022-09-17T18:38:54.733841",
     "exception": false,
     "start_time": "2022-09-17T18:38:54.695848",
     "status": "completed"
    },
    "tags": []
   },
   "outputs": [
    {
     "data": {
      "application/javascript": [
       "parent.postMessage({\"jupyterEvent\": \"custom.exercise_interaction\", \"data\": {\"interactionType\": 2, \"questionType\": 2, \"questionId\": \"3_Q3\", \"learnToolsVersion\": \"0.3.4\", \"valueTowardsCompletion\": 0.0, \"failureMessage\": \"\", \"exceptionClass\": \"\", \"trace\": \"\", \"outcomeType\": 4}}, \"*\")"
      ],
      "text/plain": [
       "<IPython.core.display.Javascript object>"
      ]
     },
     "metadata": {},
     "output_type": "display_data"
    },
    {
     "data": {
      "text/markdown": [
       "<span style=\"color:#3366cc\">Hint:</span> \n",
       "Your solution should look something like:\n",
       "\n",
       "```python\n",
       "early_stopping = callbacks.EarlyStopping(\n",
       "    patience=____,\n",
       "    min_delta=____,\n",
       "    restore_best_weights=____,\n",
       ")\n",
       "```\n"
      ],
      "text/plain": [
       "Hint: \n",
       "Your solution should look something like:\n",
       "\n",
       "```python\n",
       "early_stopping = callbacks.EarlyStopping(\n",
       "    patience=____,\n",
       "    min_delta=____,\n",
       "    restore_best_weights=____,\n",
       ")\n",
       "```"
      ]
     },
     "metadata": {},
     "output_type": "display_data"
    },
    {
     "data": {
      "application/javascript": [
       "parent.postMessage({\"jupyterEvent\": \"custom.exercise_interaction\", \"data\": {\"interactionType\": 3, \"questionType\": 2, \"questionId\": \"3_Q3\", \"learnToolsVersion\": \"0.3.4\", \"valueTowardsCompletion\": 0.0, \"failureMessage\": \"\", \"exceptionClass\": \"\", \"trace\": \"\", \"outcomeType\": 4}}, \"*\")"
      ],
      "text/plain": [
       "<IPython.core.display.Javascript object>"
      ]
     },
     "metadata": {},
     "output_type": "display_data"
    },
    {
     "data": {
      "text/markdown": [
       "<span style=\"color:#33cc99\">Solution:</span> \n",
       "```python\n",
       "\n",
       "early_stopping = callbacks.EarlyStopping(\n",
       "    patience=5,\n",
       "    min_delta=0.001,\n",
       "    restore_best_weights=True,\n",
       ")\n",
       "```"
      ],
      "text/plain": [
       "Solution: \n",
       "```python\n",
       "\n",
       "early_stopping = callbacks.EarlyStopping(\n",
       "    patience=5,\n",
       "    min_delta=0.001,\n",
       "    restore_best_weights=True,\n",
       ")\n",
       "```"
      ]
     },
     "metadata": {},
     "output_type": "display_data"
    }
   ],
   "source": [
    "# Lines below will give you a hint or solution code\n",
    "q_3.hint()\n",
    "q_3.solution()"
   ]
  },
  {
   "cell_type": "markdown",
   "id": "5c8001e4",
   "metadata": {
    "papermill": {
     "duration": 0.022198,
     "end_time": "2022-09-17T18:38:54.778221",
     "exception": false,
     "start_time": "2022-09-17T18:38:54.756023",
     "status": "completed"
    },
    "tags": []
   },
   "source": [
    "Now run this cell to train the model and get the learning curves. Notice the `callbacks` argument in `model.fit`."
   ]
  },
  {
   "cell_type": "code",
   "execution_count": 10,
   "id": "aacb01bf",
   "metadata": {
    "execution": {
     "iopub.execute_input": "2022-09-17T18:38:54.824329Z",
     "iopub.status.busy": "2022-09-17T18:38:54.823963Z",
     "iopub.status.idle": "2022-09-17T18:39:00.475088Z",
     "shell.execute_reply": "2022-09-17T18:39:00.473652Z"
    },
    "papermill": {
     "duration": 5.676679,
     "end_time": "2022-09-17T18:39:00.477447",
     "exception": false,
     "start_time": "2022-09-17T18:38:54.800768",
     "status": "completed"
    },
    "tags": []
   },
   "outputs": [
    {
     "name": "stdout",
     "output_type": "stream",
     "text": [
      "Epoch 1/50\n",
      "50/50 [==============================] - 1s 8ms/step - loss: 0.2997 - val_loss: 0.2078\n",
      "Epoch 2/50\n",
      "50/50 [==============================] - 0s 5ms/step - loss: 0.2082 - val_loss: 0.2007\n",
      "Epoch 3/50\n",
      "50/50 [==============================] - 0s 5ms/step - loss: 0.2014 - val_loss: 0.1981\n",
      "Epoch 4/50\n",
      "50/50 [==============================] - 0s 5ms/step - loss: 0.1979 - val_loss: 0.1964\n",
      "Epoch 5/50\n",
      "50/50 [==============================] - 0s 5ms/step - loss: 0.1956 - val_loss: 0.1952\n",
      "Epoch 6/50\n",
      "50/50 [==============================] - 0s 5ms/step - loss: 0.1936 - val_loss: 0.1942\n",
      "Epoch 7/50\n",
      "50/50 [==============================] - 0s 5ms/step - loss: 0.1918 - val_loss: 0.1934\n",
      "Epoch 8/50\n",
      "50/50 [==============================] - 0s 6ms/step - loss: 0.1906 - val_loss: 0.1936\n",
      "Epoch 9/50\n",
      "50/50 [==============================] - 0s 5ms/step - loss: 0.1898 - val_loss: 0.1937\n",
      "Epoch 10/50\n",
      "50/50 [==============================] - 0s 5ms/step - loss: 0.1887 - val_loss: 0.1946\n",
      "Epoch 11/50\n",
      "50/50 [==============================] - 0s 5ms/step - loss: 0.1884 - val_loss: 0.1933\n",
      "Minimum Validation Loss: 0.1933\n"
     ]
    },
    {
     "data": {
      "image/png": "[encoded data removed]",
      "text/plain": [
       "<Figure size 432x288 with 1 Axes>"
      ]
     },
     "metadata": {},
     "output_type": "display_data"
    }
   ],
   "source": [
    "model = keras.Sequential([\n",
    "    layers.Dense(128, activation='relu', input_shape=input_shape),\n",
    "    layers.Dense(64, activation='relu'),    \n",
    "    layers.Dense(1)\n",
    "])\n",
    "model.compile(\n",
    "    optimizer='adam',\n",
    "    loss='mae',\n",
    ")\n",
    "history = model.fit(\n",
    "    X_train, y_train,\n",
    "    validation_data=(X_valid, y_valid),\n",
    "    batch_size=512,\n",
    "    epochs=50,\n",
    "    callbacks=[early_stopping]\n",
    ")\n",
    "history_df = pd.DataFrame(history.history)\n",
    "history_df.loc[:, ['loss', 'val_loss']].plot()\n",
    "print(\"Minimum Validation Loss: {:0.4f}\".format(history_df['val_loss'].min()));"
   ]
  },
  {
   "cell_type": "markdown",
   "id": "cbe620de",
   "metadata": {
    "papermill": {
     "duration": 0.026064,
     "end_time": "2022-09-17T18:39:00.532827",
     "exception": false,
     "start_time": "2022-09-17T18:39:00.506763",
     "status": "completed"
    },
    "tags": []
   },
   "source": [
    "# 4) Train and Interpret\n",
    "\n",
    "Was this an improvement compared to training without early stopping?"
   ]
  },
  {
   "cell_type": "code",
   "execution_count": 11,
   "id": "19545b08",
   "metadata": {
    "execution": {
     "iopub.execute_input": "2022-09-17T18:39:00.587453Z",
     "iopub.status.busy": "2022-09-17T18:39:00.587106Z",
     "iopub.status.idle": "2022-09-17T18:39:00.597059Z",
     "shell.execute_reply": "2022-09-17T18:39:00.595738Z"
    },
    "papermill": {
     "duration": 0.040615,
     "end_time": "2022-09-17T18:39:00.599448",
     "exception": false,
     "start_time": "2022-09-17T18:39:00.558833",
     "status": "completed"
    },
    "tags": []
   },
   "outputs": [
    {
     "data": {
      "application/javascript": [
       "parent.postMessage({\"jupyterEvent\": \"custom.exercise_interaction\", \"data\": {\"outcomeType\": 1, \"valueTowardsCompletion\": 0.25, \"interactionType\": 1, \"questionType\": 4, \"questionId\": \"4_Q4\", \"learnToolsVersion\": \"0.3.4\", \"failureMessage\": \"\", \"exceptionClass\": \"\", \"trace\": \"\"}}, \"*\")"
      ],
      "text/plain": [
       "<IPython.core.display.Javascript object>"
      ]
     },
     "metadata": {},
     "output_type": "display_data"
    },
    {
     "data": {
      "text/markdown": [
       "<span style=\"color:#33cc33\">Correct:</span> \n",
       "\n",
       "The early stopping callback did stop the training once the network began overfitting. Moreover, by including `restore_best_weights` we still get to keep the model where validation loss was lowest."
      ],
      "text/plain": [
       "Correct: \n",
       "\n",
       "The early stopping callback did stop the training once the network began overfitting. Moreover, by including `restore_best_weights` we still get to keep the model where validation loss was lowest."
      ]
     },
     "metadata": {},
     "output_type": "display_data"
    }
   ],
   "source": [
    "# View the solution (Run this cell to receive credit!)\n",
    "q_4.check()"
   ]
  },
  {
   "cell_type": "markdown",
   "id": "981dfca3",
   "metadata": {
    "papermill": {
     "duration": 0.024865,
     "end_time": "2022-09-17T18:39:00.648937",
     "exception": false,
     "start_time": "2022-09-17T18:39:00.624072",
     "status": "completed"
    },
    "tags": []
   },
   "source": [
    "If you like, try experimenting with `patience` and `min_delta` to see what difference it might make.\n",
    "\n",
    "# Keep Going #\n",
    "\n",
    "Move on to [**learn about a couple of special layers**](https://www.kaggle.com/ryanholbrook/dropout-and-batch-normalization): batch normalization and dropout."
   ]
  },
  {
   "cell_type": "markdown",
   "id": "389cadc0",
   "metadata": {
    "papermill": {
     "duration": 0.024581,
     "end_time": "2022-09-17T18:39:00.698182",
     "exception": false,
     "start_time": "2022-09-17T18:39:00.673601",
     "status": "completed"
    },
    "tags": []
   },
   "source": [
    "---\n",
    "\n",
    "\n",
    "\n",
    "\n",
    "*Have questions or comments? Visit the [course discussion forum](https://www.kaggle.com/learn/intro-to-deep-learning/discussion) to chat with other learners.*"
   ]
  }
 ],
 "metadata": {
  "kernelspec": {
   "display_name": "Python 3",
   "language": "python",
   "name": "python3"
  },
  "language_info": {
   "codemirror_mode": {
    "name": "ipython",
    "version": 3
   },
   "file_extension": ".py",
   "mimetype": "text/x-python",
   "name": "python",
   "nbconvert_exporter": "python",
   "pygments_lexer": "ipython3",
   "version": "3.7.12"
  },
  "papermill": {
   "default_parameters": {},
   "duration": 55.710848,
   "end_time": "2022-09-17T18:39:03.546580",
   "environment_variables": {},
   "exception": null,
   "input_path": "__notebook__.ipynb",
   "output_path": "__notebook__.ipynb",
   "parameters": {},
   "start_time": "2022-09-17T18:38:07.835732",
   "version": "2.3.4"
  }
 },
 "nbformat": 4,
 "nbformat_minor": 5
}
