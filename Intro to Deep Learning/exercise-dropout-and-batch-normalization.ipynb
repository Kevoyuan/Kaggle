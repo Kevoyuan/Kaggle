{
 "cells": [
  {
   "cell_type": "markdown",
   "id": "3b4dedee",
   "metadata": {
    "papermill": {
     "duration": 0.007586,
     "end_time": "2022-09-26T18:04:53.167267",
     "exception": false,
     "start_time": "2022-09-26T18:04:53.159681",
     "status": "completed"
    },
    "tags": []
   },
   "source": [
    "**This notebook is an exercise in the [Intro to Deep Learning](https://www.kaggle.com/learn/intro-to-deep-learning) course.  You can reference the tutorial at [this link](https://www.kaggle.com/ryanholbrook/dropout-and-batch-normalization).**\n",
    "\n",
    "---\n"
   ]
  },
  {
   "cell_type": "markdown",
   "id": "ef2d46bb",
   "metadata": {
    "papermill": {
     "duration": 0.006035,
     "end_time": "2022-09-26T18:04:53.179119",
     "exception": false,
     "start_time": "2022-09-26T18:04:53.173084",
     "status": "completed"
    },
    "tags": []
   },
   "source": [
    "# Introduction #\n",
    "\n",
    "In this exercise, you'll add dropout to the *Spotify* model from Exercise 4 and see how batch normalization can let you successfully train models on difficult datasets.\n",
    "\n",
    "Run the next cell to get started!"
   ]
  },
  {
   "cell_type": "code",
   "execution_count": 1,
   "id": "7e1e3385",
   "metadata": {
    "execution": {
     "iopub.execute_input": "2022-09-26T18:04:53.193509Z",
     "iopub.status.busy": "2022-09-26T18:04:53.193050Z",
     "iopub.status.idle": "2022-09-26T18:04:53.245798Z",
     "shell.execute_reply": "2022-09-26T18:04:53.244702Z"
    },
    "papermill": {
     "duration": 0.063211,
     "end_time": "2022-09-26T18:04:53.248704",
     "exception": false,
     "start_time": "2022-09-26T18:04:53.185493",
     "status": "completed"
    },
    "tags": []
   },
   "outputs": [],
   "source": [
    "# Setup plotting\n",
    "import matplotlib.pyplot as plt\n",
    "plt.style.use('seaborn-whitegrid')\n",
    "# Set Matplotlib defaults\n",
    "plt.rc('figure', autolayout=True)\n",
    "plt.rc('axes', labelweight='bold', labelsize='large',\n",
    "       titleweight='bold', titlesize=18, titlepad=10)\n",
    "plt.rc('animation', html='html5')\n",
    "\n",
    "# Setup feedback system\n",
    "from learntools.core import binder\n",
    "binder.bind(globals())\n",
    "from learntools.deep_learning_intro.ex5 import *"
   ]
  },
  {
   "cell_type": "markdown",
   "id": "eb252688",
   "metadata": {
    "papermill": {
     "duration": 0.005516,
     "end_time": "2022-09-26T18:04:53.260096",
     "exception": false,
     "start_time": "2022-09-26T18:04:53.254580",
     "status": "completed"
    },
    "tags": []
   },
   "source": [
    "First load the *Spotify* dataset."
   ]
  },
  {
   "cell_type": "code",
   "execution_count": 2,
   "id": "528f9b05",
   "metadata": {
    "execution": {
     "iopub.execute_input": "2022-09-26T18:04:53.273140Z",
     "iopub.status.busy": "2022-09-26T18:04:53.272767Z",
     "iopub.status.idle": "2022-09-26T18:05:01.254642Z",
     "shell.execute_reply": "2022-09-26T18:05:01.253511Z"
    },
    "papermill": {
     "duration": 7.992156,
     "end_time": "2022-09-26T18:05:01.257931",
     "exception": false,
     "start_time": "2022-09-26T18:04:53.265775",
     "status": "completed"
    },
    "tags": []
   },
   "outputs": [
    {
     "name": "stdout",
     "output_type": "stream",
     "text": [
      "Input shape: [18]\n"
     ]
    }
   ],
   "source": [
    "import pandas as pd\n",
    "from sklearn.preprocessing import StandardScaler, OneHotEncoder\n",
    "from sklearn.compose import make_column_transformer\n",
    "from sklearn.model_selection import GroupShuffleSplit\n",
    "\n",
    "from tensorflow import keras\n",
    "from tensorflow.keras import layers\n",
    "from tensorflow.keras import callbacks\n",
    "\n",
    "spotify = pd.read_csv('../input/dl-course-data/spotify.csv')\n",
    "\n",
    "X = spotify.copy().dropna()\n",
    "y = X.pop('track_popularity')\n",
    "artists = X['track_artist']\n",
    "\n",
    "features_num = ['danceability', 'energy', 'key', 'loudness', 'mode',\n",
    "                'speechiness', 'acousticness', 'instrumentalness',\n",
    "                'liveness', 'valence', 'tempo', 'duration_ms']\n",
    "features_cat = ['playlist_genre']\n",
    "\n",
    "preprocessor = make_column_transformer(\n",
    "    (StandardScaler(), features_num),\n",
    "    (OneHotEncoder(), features_cat),\n",
    ")\n",
    "\n",
    "def group_split(X, y, group, train_size=0.75):\n",
    "    splitter = GroupShuffleSplit(train_size=train_size)\n",
    "    train, test = next(splitter.split(X, y, groups=group))\n",
    "    return (X.iloc[train], X.iloc[test], y.iloc[train], y.iloc[test])\n",
    "\n",
    "X_train, X_valid, y_train, y_valid = group_split(X, y, artists)\n",
    "\n",
    "X_train = preprocessor.fit_transform(X_train)\n",
    "X_valid = preprocessor.transform(X_valid)\n",
    "y_train = y_train / 100\n",
    "y_valid = y_valid / 100\n",
    "\n",
    "input_shape = [X_train.shape[1]]\n",
    "print(\"Input shape: {}\".format(input_shape))"
   ]
  },
  {
   "cell_type": "markdown",
   "id": "ed3b25ac",
   "metadata": {
    "papermill": {
     "duration": 0.005674,
     "end_time": "2022-09-26T18:05:01.272046",
     "exception": false,
     "start_time": "2022-09-26T18:05:01.266372",
     "status": "completed"
    },
    "tags": []
   },
   "source": [
    "# 1) Add Dropout to Spotify Model\n",
    "\n",
    "Here is the last model from Exercise 4. Add two dropout layers, one after the `Dense` layer with 128 units, and one after the `Dense` layer with 64 units. Set the dropout rate on both to `0.3`."
   ]
  },
  {
   "cell_type": "code",
   "execution_count": 3,
   "id": "50a7ca52",
   "metadata": {
    "execution": {
     "iopub.execute_input": "2022-09-26T18:05:01.285584Z",
     "iopub.status.busy": "2022-09-26T18:05:01.285018Z",
     "iopub.status.idle": "2022-09-26T18:05:01.419746Z",
     "shell.execute_reply": "2022-09-26T18:05:01.418587Z"
    },
    "lines_to_next_cell": 2,
    "papermill": {
     "duration": 0.145338,
     "end_time": "2022-09-26T18:05:01.423257",
     "exception": false,
     "start_time": "2022-09-26T18:05:01.277919",
     "status": "completed"
    },
    "tags": []
   },
   "outputs": [
    {
     "name": "stderr",
     "output_type": "stream",
     "text": [
      "2022-09-26 18:05:01.333272: I tensorflow/core/common_runtime/process_util.cc:146] Creating new thread pool with default inter op setting: 2. Tune using inter_op_parallelism_threads for best performance.\n"
     ]
    },
    {
     "data": {
      "application/javascript": [
       "parent.postMessage({\"jupyterEvent\": \"custom.exercise_interaction\", \"data\": {\"outcomeType\": 1, \"valueTowardsCompletion\": 0.25, \"interactionType\": 1, \"questionType\": 2, \"questionId\": \"1_Q1\", \"learnToolsVersion\": \"0.3.4\", \"failureMessage\": \"\", \"exceptionClass\": \"\", \"trace\": \"\"}}, \"*\")"
      ],
      "text/plain": [
       "<IPython.core.display.Javascript object>"
      ]
     },
     "metadata": {},
     "output_type": "display_data"
    },
    {
     "data": {
      "text/markdown": [
       "<span style=\"color:#33cc33\">Correct</span>"
      ],
      "text/plain": [
       "Correct"
      ]
     },
     "metadata": {},
     "output_type": "display_data"
    }
   ],
   "source": [
    "# YOUR CODE HERE: Add two 30% dropout layers, one after 128 and one after 64\n",
    "model = keras.Sequential([\n",
    "    \n",
    "    layers.Dense(128, activation='relu', input_shape=input_shape),\n",
    "    layers.Dropout(rate=0.3),\n",
    "    layers.Dense(64, activation='relu'),\n",
    "    layers.Dropout(rate=0.3),\n",
    "    layers.Dense(1)\n",
    "])\n",
    "\n",
    "# Check your answer\n",
    "q_1.check()"
   ]
  },
  {
   "cell_type": "code",
   "execution_count": 4,
   "id": "cfa7e312",
   "metadata": {
    "execution": {
     "iopub.execute_input": "2022-09-26T18:05:01.437726Z",
     "iopub.status.busy": "2022-09-26T18:05:01.436758Z",
     "iopub.status.idle": "2022-09-26T18:05:01.447889Z",
     "shell.execute_reply": "2022-09-26T18:05:01.447068Z"
    },
    "papermill": {
     "duration": 0.020721,
     "end_time": "2022-09-26T18:05:01.450102",
     "exception": false,
     "start_time": "2022-09-26T18:05:01.429381",
     "status": "completed"
    },
    "tags": []
   },
   "outputs": [
    {
     "data": {
      "application/javascript": [
       "parent.postMessage({\"jupyterEvent\": \"custom.exercise_interaction\", \"data\": {\"interactionType\": 2, \"questionType\": 2, \"questionId\": \"1_Q1\", \"learnToolsVersion\": \"0.3.4\", \"valueTowardsCompletion\": 0.0, \"failureMessage\": \"\", \"exceptionClass\": \"\", \"trace\": \"\", \"outcomeType\": 4}}, \"*\")"
      ],
      "text/plain": [
       "<IPython.core.display.Javascript object>"
      ]
     },
     "metadata": {},
     "output_type": "display_data"
    },
    {
     "data": {
      "text/markdown": [
       "<span style=\"color:#3366cc\">Hint:</span> Your answer should look something like:\n",
       "```python\n",
       "model = keras.Sequential([\n",
       "    # Dense\n",
       "    # Dropout\n",
       "    # Dense\n",
       "    # Droput\n",
       "    # Dense\n",
       "])\n",
       "```\n"
      ],
      "text/plain": [
       "Hint: Your answer should look something like:\n",
       "```python\n",
       "model = keras.Sequential([\n",
       "    # Dense\n",
       "    # Dropout\n",
       "    # Dense\n",
       "    # Droput\n",
       "    # Dense\n",
       "])\n",
       "```"
      ]
     },
     "metadata": {},
     "output_type": "display_data"
    },
    {
     "data": {
      "application/javascript": [
       "parent.postMessage({\"jupyterEvent\": \"custom.exercise_interaction\", \"data\": {\"interactionType\": 3, \"questionType\": 2, \"questionId\": \"1_Q1\", \"learnToolsVersion\": \"0.3.4\", \"valueTowardsCompletion\": 0.0, \"failureMessage\": \"\", \"exceptionClass\": \"\", \"trace\": \"\", \"outcomeType\": 4}}, \"*\")"
      ],
      "text/plain": [
       "<IPython.core.display.Javascript object>"
      ]
     },
     "metadata": {},
     "output_type": "display_data"
    },
    {
     "data": {
      "text/markdown": [
       "<span style=\"color:#33cc99\">Solution:</span> \n",
       "```python\n",
       "\n",
       "model = keras.Sequential([\n",
       "    layers.Dense(128, activation='relu', input_shape=input_shape),\n",
       "    layers.Dropout(0.3),\n",
       "    layers.Dense(64, activation='relu'),\n",
       "    layers.Dropout(0.3),\n",
       "    layers.Dense(1)\n",
       "])\n",
       "\n",
       "```"
      ],
      "text/plain": [
       "Solution: \n",
       "```python\n",
       "\n",
       "model = keras.Sequential([\n",
       "    layers.Dense(128, activation='relu', input_shape=input_shape),\n",
       "    layers.Dropout(0.3),\n",
       "    layers.Dense(64, activation='relu'),\n",
       "    layers.Dropout(0.3),\n",
       "    layers.Dense(1)\n",
       "])\n",
       "\n",
       "```"
      ]
     },
     "metadata": {},
     "output_type": "display_data"
    }
   ],
   "source": [
    "# Lines below will give you a hint or solution code\n",
    "q_1.hint()\n",
    "q_1.solution()"
   ]
  },
  {
   "cell_type": "markdown",
   "id": "aa326992",
   "metadata": {
    "papermill": {
     "duration": 0.006402,
     "end_time": "2022-09-26T18:05:01.463357",
     "exception": false,
     "start_time": "2022-09-26T18:05:01.456955",
     "status": "completed"
    },
    "tags": []
   },
   "source": [
    "Now run this next cell to train the model see the effect of adding dropout."
   ]
  },
  {
   "cell_type": "code",
   "execution_count": 5,
   "id": "ad133f18",
   "metadata": {
    "execution": {
     "iopub.execute_input": "2022-09-26T18:05:01.478888Z",
     "iopub.status.busy": "2022-09-26T18:05:01.477755Z",
     "iopub.status.idle": "2022-09-26T18:05:22.977195Z",
     "shell.execute_reply": "2022-09-26T18:05:22.976017Z"
    },
    "papermill": {
     "duration": 21.509964,
     "end_time": "2022-09-26T18:05:22.979903",
     "exception": false,
     "start_time": "2022-09-26T18:05:01.469939",
     "status": "completed"
    },
    "tags": []
   },
   "outputs": [
    {
     "name": "stderr",
     "output_type": "stream",
     "text": [
      "2022-09-26 18:05:01.570532: I tensorflow/compiler/mlir/mlir_graph_optimization_pass.cc:185] None of the MLIR Optimization Passes are enabled (registered 2)\n"
     ]
    },
    {
     "name": "stdout",
     "output_type": "stream",
     "text": [
      "Minimum Validation Loss: 0.1892\n"
     ]
    },
    {
     "data": {
      "image/png": "[encoded data removed]",
      "text/plain": [
       "<Figure size 432x288 with 1 Axes>"
      ]
     },
     "metadata": {},
     "output_type": "display_data"
    }
   ],
   "source": [
    "model.compile(\n",
    "    optimizer='adam',\n",
    "    loss='mae',\n",
    ")\n",
    "history = model.fit(\n",
    "    X_train, y_train,\n",
    "    validation_data=(X_valid, y_valid),\n",
    "    batch_size=512,\n",
    "    epochs=50,\n",
    "    verbose=0,\n",
    ")\n",
    "history_df = pd.DataFrame(history.history)\n",
    "history_df.loc[:, ['loss', 'val_loss']].plot()\n",
    "print(\"Minimum Validation Loss: {:0.4f}\".format(history_df['val_loss'].min()))"
   ]
  },
  {
   "cell_type": "markdown",
   "id": "c19196b5",
   "metadata": {
    "papermill": {
     "duration": 0.007838,
     "end_time": "2022-09-26T18:05:22.994973",
     "exception": false,
     "start_time": "2022-09-26T18:05:22.987135",
     "status": "completed"
    },
    "tags": []
   },
   "source": [
    "# 2) Evaluate Dropout\n",
    "\n",
    "Recall from Exercise 4 that this model tended to overfit the data around epoch 5. Did adding dropout seem to help prevent overfitting this time?"
   ]
  },
  {
   "cell_type": "code",
   "execution_count": 6,
   "id": "e24a1538",
   "metadata": {
    "execution": {
     "iopub.execute_input": "2022-09-26T18:05:23.010701Z",
     "iopub.status.busy": "2022-09-26T18:05:23.010280Z",
     "iopub.status.idle": "2022-09-26T18:05:23.019801Z",
     "shell.execute_reply": "2022-09-26T18:05:23.018638Z"
    },
    "papermill": {
     "duration": 0.020124,
     "end_time": "2022-09-26T18:05:23.022015",
     "exception": false,
     "start_time": "2022-09-26T18:05:23.001891",
     "status": "completed"
    },
    "tags": []
   },
   "outputs": [
    {
     "data": {
      "application/javascript": [
       "parent.postMessage({\"jupyterEvent\": \"custom.exercise_interaction\", \"data\": {\"outcomeType\": 1, \"valueTowardsCompletion\": 0.25, \"interactionType\": 1, \"questionType\": 4, \"questionId\": \"2_Q2\", \"learnToolsVersion\": \"0.3.4\", \"failureMessage\": \"\", \"exceptionClass\": \"\", \"trace\": \"\"}}, \"*\")"
      ],
      "text/plain": [
       "<IPython.core.display.Javascript object>"
      ]
     },
     "metadata": {},
     "output_type": "display_data"
    },
    {
     "data": {
      "text/markdown": [
       "<span style=\"color:#33cc33\">Correct:</span> \n",
       "\n",
       "\n",
       "From the learning curves, you can see that the validation loss remains near a constant minimum even though the training loss continues to decrease. So we can see that adding dropout did prevent overfitting this time. Moreover, by making it harder for the network to fit spurious patterns, dropout may have encouraged the network to seek out more of the true patterns, possibly improving the validation loss some as well).\n"
      ],
      "text/plain": [
       "Correct: \n",
       "\n",
       "\n",
       "From the learning curves, you can see that the validation loss remains near a constant minimum even though the training loss continues to decrease. So we can see that adding dropout did prevent overfitting this time. Moreover, by making it harder for the network to fit spurious patterns, dropout may have encouraged the network to seek out more of the true patterns, possibly improving the validation loss some as well)."
      ]
     },
     "metadata": {},
     "output_type": "display_data"
    }
   ],
   "source": [
    "# View the solution (Run this cell to receive credit!)\n",
    "q_2.check()"
   ]
  },
  {
   "cell_type": "markdown",
   "id": "b0adfd40",
   "metadata": {
    "papermill": {
     "duration": 0.006972,
     "end_time": "2022-09-26T18:05:23.036102",
     "exception": false,
     "start_time": "2022-09-26T18:05:23.029130",
     "status": "completed"
    },
    "tags": []
   },
   "source": [
    "Now, we'll switch topics to explore how batch normalization can fix problems in training.\n",
    "\n",
    "Load the *Concrete* dataset. We won't do any standardization this time. This will make the effect of batch normalization much more apparent."
   ]
  },
  {
   "cell_type": "code",
   "execution_count": 7,
   "id": "9b1a866f",
   "metadata": {
    "execution": {
     "iopub.execute_input": "2022-09-26T18:05:23.052795Z",
     "iopub.status.busy": "2022-09-26T18:05:23.051614Z",
     "iopub.status.idle": "2022-09-26T18:05:23.071832Z",
     "shell.execute_reply": "2022-09-26T18:05:23.070939Z"
    },
    "papermill": {
     "duration": 0.031476,
     "end_time": "2022-09-26T18:05:23.074707",
     "exception": false,
     "start_time": "2022-09-26T18:05:23.043231",
     "status": "completed"
    },
    "tags": []
   },
   "outputs": [],
   "source": [
    "import pandas as pd\n",
    "\n",
    "concrete = pd.read_csv('../input/dl-course-data/concrete.csv')\n",
    "df = concrete.copy()\n",
    "\n",
    "df_train = df.sample(frac=0.7, random_state=0)\n",
    "df_valid = df.drop(df_train.index)\n",
    "\n",
    "X_train = df_train.drop('CompressiveStrength', axis=1)\n",
    "X_valid = df_valid.drop('CompressiveStrength', axis=1)\n",
    "y_train = df_train['CompressiveStrength']\n",
    "y_valid = df_valid['CompressiveStrength']\n",
    "\n",
    "input_shape = [X_train.shape[1]]"
   ]
  },
  {
   "cell_type": "markdown",
   "id": "5a3c7cb2",
   "metadata": {
    "papermill": {
     "duration": 0.007131,
     "end_time": "2022-09-26T18:05:23.089280",
     "exception": false,
     "start_time": "2022-09-26T18:05:23.082149",
     "status": "completed"
    },
    "tags": []
   },
   "source": [
    "Run the following cell to train the network on the unstandardized *Concrete* data."
   ]
  },
  {
   "cell_type": "code",
   "execution_count": 8,
   "id": "3a89c4e6",
   "metadata": {
    "execution": {
     "iopub.execute_input": "2022-09-26T18:05:23.106362Z",
     "iopub.status.busy": "2022-09-26T18:05:23.105915Z",
     "iopub.status.idle": "2022-09-26T18:05:33.491944Z",
     "shell.execute_reply": "2022-09-26T18:05:33.490684Z"
    },
    "papermill": {
     "duration": 10.397715,
     "end_time": "2022-09-26T18:05:33.494572",
     "exception": false,
     "start_time": "2022-09-26T18:05:23.096857",
     "status": "completed"
    },
    "tags": []
   },
   "outputs": [
    {
     "name": "stdout",
     "output_type": "stream",
     "text": [
      "Minimum Validation Loss: nan\n"
     ]
    },
    {
     "data": {
      "image/png": "[encoded data removed]",
      "text/plain": [
       "<Figure size 432x288 with 1 Axes>"
      ]
     },
     "metadata": {},
     "output_type": "display_data"
    }
   ],
   "source": [
    "model = keras.Sequential([\n",
    "    layers.Dense(512, activation='relu', input_shape=input_shape),\n",
    "    layers.Dense(512, activation='relu'),    \n",
    "    layers.Dense(512, activation='relu'),\n",
    "    layers.Dense(1),\n",
    "])\n",
    "model.compile(\n",
    "    optimizer='sgd', # SGD is more sensitive to differences of scale\n",
    "    loss='mae',\n",
    "    metrics=['mae'],\n",
    ")\n",
    "history = model.fit(\n",
    "    X_train, y_train,\n",
    "    validation_data=(X_valid, y_valid),\n",
    "    batch_size=64,\n",
    "    epochs=100,\n",
    "    verbose=0,\n",
    ")\n",
    "\n",
    "history_df = pd.DataFrame(history.history)\n",
    "history_df.loc[0:, ['loss', 'val_loss']].plot()\n",
    "print((\"Minimum Validation Loss: {:0.4f}\").format(history_df['val_loss'].min()))"
   ]
  },
  {
   "cell_type": "markdown",
   "id": "1c2daf6c",
   "metadata": {
    "papermill": {
     "duration": 0.007139,
     "end_time": "2022-09-26T18:05:33.509477",
     "exception": false,
     "start_time": "2022-09-26T18:05:33.502338",
     "status": "completed"
    },
    "tags": []
   },
   "source": [
    "Did you end up with a blank graph? Trying to train this network on this dataset will usually fail. Even when it does converge (due to a lucky weight initialization), it tends to converge to a very large number.\n",
    "\n",
    "# 3) Add Batch Normalization Layers\n",
    "\n",
    "Batch normalization can help correct problems like this.\n",
    "\n",
    "Add four `BatchNormalization` layers, one before each of the dense layers. (Remember to move the `input_shape` argument to the new first layer.)"
   ]
  },
  {
   "cell_type": "code",
   "execution_count": 9,
   "id": "7b753315",
   "metadata": {
    "execution": {
     "iopub.execute_input": "2022-09-26T18:05:33.526475Z",
     "iopub.status.busy": "2022-09-26T18:05:33.525881Z",
     "iopub.status.idle": "2022-09-26T18:05:33.548364Z",
     "shell.execute_reply": "2022-09-26T18:05:33.547255Z"
    },
    "lines_to_next_cell": 0,
    "papermill": {
     "duration": 0.033747,
     "end_time": "2022-09-26T18:05:33.550671",
     "exception": false,
     "start_time": "2022-09-26T18:05:33.516924",
     "status": "completed"
    },
    "tags": []
   },
   "outputs": [
    {
     "data": {
      "application/javascript": [
       "parent.postMessage({\"jupyterEvent\": \"custom.exercise_interaction\", \"data\": {\"outcomeType\": 1, \"valueTowardsCompletion\": 0.25, \"interactionType\": 1, \"questionType\": 2, \"questionId\": \"3_Q3\", \"learnToolsVersion\": \"0.3.4\", \"failureMessage\": \"\", \"exceptionClass\": \"\", \"trace\": \"\"}}, \"*\")"
      ],
      "text/plain": [
       "<IPython.core.display.Javascript object>"
      ]
     },
     "metadata": {},
     "output_type": "display_data"
    },
    {
     "data": {
      "text/markdown": [
       "<span style=\"color:#33cc33\">Correct</span>"
      ],
      "text/plain": [
       "Correct"
      ]
     },
     "metadata": {},
     "output_type": "display_data"
    }
   ],
   "source": [
    "# YOUR CODE HERE: Add a BatchNormalization layer before each Dense layer\n",
    "model = keras.Sequential([\n",
    "    layers.BatchNormalization(),\n",
    "    layers.Dense(512, activation='relu', input_shape=input_shape),\n",
    "    layers.BatchNormalization(),\n",
    "    layers.Dense(512, activation='relu'),\n",
    "    layers.BatchNormalization(),\n",
    "    layers.Dense(512, activation='relu'),\n",
    "    layers.BatchNormalization(),\n",
    "    layers.Dense(1),\n",
    "])\n",
    "\n",
    "# Check your answer\n",
    "q_3.check()"
   ]
  },
  {
   "cell_type": "code",
   "execution_count": 10,
   "id": "c4ae8b4b",
   "metadata": {
    "execution": {
     "iopub.execute_input": "2022-09-26T18:05:33.568733Z",
     "iopub.status.busy": "2022-09-26T18:05:33.567687Z",
     "iopub.status.idle": "2022-09-26T18:05:33.581059Z",
     "shell.execute_reply": "2022-09-26T18:05:33.580258Z"
    },
    "papermill": {
     "duration": 0.024587,
     "end_time": "2022-09-26T18:05:33.583234",
     "exception": false,
     "start_time": "2022-09-26T18:05:33.558647",
     "status": "completed"
    },
    "tags": []
   },
   "outputs": [
    {
     "data": {
      "application/javascript": [
       "parent.postMessage({\"jupyterEvent\": \"custom.exercise_interaction\", \"data\": {\"interactionType\": 2, \"questionType\": 2, \"questionId\": \"3_Q3\", \"learnToolsVersion\": \"0.3.4\", \"valueTowardsCompletion\": 0.0, \"failureMessage\": \"\", \"exceptionClass\": \"\", \"trace\": \"\", \"outcomeType\": 4}}, \"*\")"
      ],
      "text/plain": [
       "<IPython.core.display.Javascript object>"
      ]
     },
     "metadata": {},
     "output_type": "display_data"
    },
    {
     "data": {
      "text/markdown": [
       "<span style=\"color:#3366cc\">Hint:</span> Your answer should look something like:\n",
       "```python\n",
       "model = keras.Sequential([\n",
       "    # Batch Normalization\n",
       "    # Dense\n",
       "    # Batch Normalization\n",
       "    # Dense\n",
       "    # Batch Normalization\n",
       "    # Dense\n",
       "    # Batch Normalization\n",
       "    # Dense\n",
       "])\n",
       "```\n"
      ],
      "text/plain": [
       "Hint: Your answer should look something like:\n",
       "```python\n",
       "model = keras.Sequential([\n",
       "    # Batch Normalization\n",
       "    # Dense\n",
       "    # Batch Normalization\n",
       "    # Dense\n",
       "    # Batch Normalization\n",
       "    # Dense\n",
       "    # Batch Normalization\n",
       "    # Dense\n",
       "])\n",
       "```"
      ]
     },
     "metadata": {},
     "output_type": "display_data"
    },
    {
     "data": {
      "application/javascript": [
       "parent.postMessage({\"jupyterEvent\": \"custom.exercise_interaction\", \"data\": {\"interactionType\": 3, \"questionType\": 2, \"questionId\": \"3_Q3\", \"learnToolsVersion\": \"0.3.4\", \"valueTowardsCompletion\": 0.0, \"failureMessage\": \"\", \"exceptionClass\": \"\", \"trace\": \"\", \"outcomeType\": 4}}, \"*\")"
      ],
      "text/plain": [
       "<IPython.core.display.Javascript object>"
      ]
     },
     "metadata": {},
     "output_type": "display_data"
    },
    {
     "data": {
      "text/markdown": [
       "<span style=\"color:#33cc99\">Solution:</span> \n",
       "```python\n",
       "\n",
       "model = keras.Sequential([\n",
       "    layers.BatchNormalization(input_shape=input_shape),\n",
       "    layers.Dense(512, activation='relu'),\n",
       "    layers.BatchNormalization(),\n",
       "    layers.Dense(512, activation='relu'),\n",
       "    layers.BatchNormalization(),\n",
       "    layers.Dense(512, activation='relu'),\n",
       "    layers.BatchNormalization(),\n",
       "    layers.Dense(1),\n",
       "])\n",
       "\n",
       "```"
      ],
      "text/plain": [
       "Solution: \n",
       "```python\n",
       "\n",
       "model = keras.Sequential([\n",
       "    layers.BatchNormalization(input_shape=input_shape),\n",
       "    layers.Dense(512, activation='relu'),\n",
       "    layers.BatchNormalization(),\n",
       "    layers.Dense(512, activation='relu'),\n",
       "    layers.BatchNormalization(),\n",
       "    layers.Dense(512, activation='relu'),\n",
       "    layers.BatchNormalization(),\n",
       "    layers.Dense(1),\n",
       "])\n",
       "\n",
       "```"
      ]
     },
     "metadata": {},
     "output_type": "display_data"
    }
   ],
   "source": [
    "# Lines below will give you a hint or solution code\n",
    "q_3.hint()\n",
    "q_3.solution()"
   ]
  },
  {
   "cell_type": "markdown",
   "id": "3024023f",
   "metadata": {
    "papermill": {
     "duration": 0.00802,
     "end_time": "2022-09-26T18:05:33.599423",
     "exception": false,
     "start_time": "2022-09-26T18:05:33.591403",
     "status": "completed"
    },
    "tags": []
   },
   "source": [
    "Run the next cell to see if batch normalization will let us train the model."
   ]
  },
  {
   "cell_type": "code",
   "execution_count": 11,
   "id": "8b08431f",
   "metadata": {
    "execution": {
     "iopub.execute_input": "2022-09-26T18:05:33.618086Z",
     "iopub.status.busy": "2022-09-26T18:05:33.617341Z",
     "iopub.status.idle": "2022-09-26T18:05:46.674329Z",
     "shell.execute_reply": "2022-09-26T18:05:46.673175Z"
    },
    "papermill": {
     "duration": 13.069444,
     "end_time": "2022-09-26T18:05:46.677091",
     "exception": false,
     "start_time": "2022-09-26T18:05:33.607647",
     "status": "completed"
    },
    "tags": []
   },
   "outputs": [
    {
     "name": "stdout",
     "output_type": "stream",
     "text": [
      "Minimum Validation Loss: 4.1655\n"
     ]
    },
    {
     "data": {
      "image/png": "[encoded data removed]",
      "text/plain": [
       "<Figure size 432x288 with 1 Axes>"
      ]
     },
     "metadata": {},
     "output_type": "display_data"
    }
   ],
   "source": [
    "model.compile(\n",
    "    optimizer='sgd',\n",
    "    loss='mae',\n",
    "    metrics=['mae'],\n",
    ")\n",
    "EPOCHS = 100\n",
    "history = model.fit(\n",
    "    X_train, y_train,\n",
    "    validation_data=(X_valid, y_valid),\n",
    "    batch_size=64,\n",
    "    epochs=EPOCHS,\n",
    "    verbose=0,\n",
    ")\n",
    "\n",
    "history_df = pd.DataFrame(history.history)\n",
    "history_df.loc[0:, ['loss', 'val_loss']].plot()\n",
    "print((\"Minimum Validation Loss: {:0.4f}\").format(history_df['val_loss'].min()))"
   ]
  },
  {
   "cell_type": "markdown",
   "id": "1158cb7a",
   "metadata": {
    "papermill": {
     "duration": 0.00881,
     "end_time": "2022-09-26T18:05:46.695324",
     "exception": false,
     "start_time": "2022-09-26T18:05:46.686514",
     "status": "completed"
    },
    "tags": []
   },
   "source": [
    "# 4) Evaluate Batch Normalization\n",
    "\n",
    "Did adding batch normalization help?"
   ]
  },
  {
   "cell_type": "code",
   "execution_count": 12,
   "id": "7694fcd5",
   "metadata": {
    "execution": {
     "iopub.execute_input": "2022-09-26T18:05:46.716488Z",
     "iopub.status.busy": "2022-09-26T18:05:46.715279Z",
     "iopub.status.idle": "2022-09-26T18:05:46.724807Z",
     "shell.execute_reply": "2022-09-26T18:05:46.723728Z"
    },
    "lines_to_next_cell": 0,
    "papermill": {
     "duration": 0.022237,
     "end_time": "2022-09-26T18:05:46.727151",
     "exception": false,
     "start_time": "2022-09-26T18:05:46.704914",
     "status": "completed"
    },
    "tags": []
   },
   "outputs": [
    {
     "data": {
      "application/javascript": [
       "parent.postMessage({\"jupyterEvent\": \"custom.exercise_interaction\", \"data\": {\"outcomeType\": 1, \"valueTowardsCompletion\": 0.25, \"interactionType\": 1, \"questionType\": 4, \"questionId\": \"4_Q4\", \"learnToolsVersion\": \"0.3.4\", \"failureMessage\": \"\", \"exceptionClass\": \"\", \"trace\": \"\"}}, \"*\")"
      ],
      "text/plain": [
       "<IPython.core.display.Javascript object>"
      ]
     },
     "metadata": {},
     "output_type": "display_data"
    },
    {
     "data": {
      "text/markdown": [
       "<span style=\"color:#33cc33\">Correct:</span> \n",
       "\n",
       "\n",
       "You can see that adding batch normalization was a big improvement on the first attempt! By adaptively scaling the data as it passes through the network, batch normalization can let you train models on difficult datasets.\n"
      ],
      "text/plain": [
       "Correct: \n",
       "\n",
       "\n",
       "You can see that adding batch normalization was a big improvement on the first attempt! By adaptively scaling the data as it passes through the network, batch normalization can let you train models on difficult datasets."
      ]
     },
     "metadata": {},
     "output_type": "display_data"
    }
   ],
   "source": [
    "# View the solution (Run this cell to receive credit!)\n",
    "q_4.check()"
   ]
  },
  {
   "cell_type": "markdown",
   "id": "8aedf101",
   "metadata": {
    "papermill": {
     "duration": 0.009157,
     "end_time": "2022-09-26T18:05:46.745478",
     "exception": false,
     "start_time": "2022-09-26T18:05:46.736321",
     "status": "completed"
    },
    "tags": []
   },
   "source": [
    "# Keep Going #\n",
    "\n",
    "[**Create neural networks**](https://www.kaggle.com/ryanholbrook/binary-classification) for binary classification."
   ]
  },
  {
   "cell_type": "markdown",
   "id": "ee3ae79d",
   "metadata": {
    "papermill": {
     "duration": 0.00873,
     "end_time": "2022-09-26T18:05:46.763298",
     "exception": false,
     "start_time": "2022-09-26T18:05:46.754568",
     "status": "completed"
    },
    "tags": []
   },
   "source": [
    "---\n",
    "\n",
    "\n",
    "\n",
    "\n",
    "*Have questions or comments? Visit the [course discussion forum](https://www.kaggle.com/learn/intro-to-deep-learning/discussion) to chat with other learners.*"
   ]
  }
 ],
 "metadata": {
  "kernelspec": {
   "display_name": "Python 3",
   "language": "python",
   "name": "python3"
  },
  "language_info": {
   "codemirror_mode": {
    "name": "ipython",
    "version": 3
   },
   "file_extension": ".py",
   "mimetype": "text/x-python",
   "name": "python",
   "nbconvert_exporter": "python",
   "pygments_lexer": "ipython3",
   "version": "3.7.12"
  },
  "papermill": {
   "default_parameters": {},
   "duration": 66.21224,
   "end_time": "2022-09-26T18:05:50.266559",
   "environment_variables": {},
   "exception": null,
   "input_path": "__notebook__.ipynb",
   "output_path": "__notebook__.ipynb",
   "parameters": {},
   "start_time": "2022-09-26T18:04:44.054319",
   "version": "2.3.4"
  }
 },
 "nbformat": 4,
 "nbformat_minor": 5
}
