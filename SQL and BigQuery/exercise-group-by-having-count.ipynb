{
 "cells": [
  {
   "cell_type": "markdown",
   "id": "d749e62d",
   "metadata": {
    "papermill": {
     "duration": 0.003579,
     "end_time": "2025-04-24T14:16:00.836697",
     "exception": false,
     "start_time": "2025-04-24T14:16:00.833118",
     "status": "completed"
    },
    "tags": []
   },
   "source": [
    "**This notebook is an exercise in the [SQL](https://www.kaggle.com/learn/intro-to-sql) course.  You can reference the tutorial at [this link](https://www.kaggle.com/dansbecker/group-by-having-count).**\n",
    "\n",
    "---\n"
   ]
  },
  {
   "cell_type": "markdown",
   "id": "bce8115c",
   "metadata": {
    "papermill": {
     "duration": 0.002586,
     "end_time": "2025-04-24T14:16:00.842397",
     "exception": false,
     "start_time": "2025-04-24T14:16:00.839811",
     "status": "completed"
    },
    "tags": []
   },
   "source": [
    "# Introduction\n",
    "\n",
    "Queries with **GROUP BY** can be powerful. There are many small things that can trip you up (like the order of the clauses), but it will start to feel natural once you've done it a few times. Here, you'll write queries using **GROUP BY** to answer questions from the Hacker News dataset.\n",
    "\n",
    "Before you get started, run the following cell to set everything up:"
   ]
  },
  {
   "cell_type": "code",
   "execution_count": 1,
   "id": "fa3630da",
   "metadata": {
    "execution": {
     "iopub.execute_input": "2025-04-24T14:16:00.849510Z",
     "iopub.status.busy": "2025-04-24T14:16:00.849117Z",
     "iopub.status.idle": "2025-04-24T14:16:20.951384Z",
     "shell.execute_reply": "2025-04-24T14:16:20.950518Z"
    },
    "papermill": {
     "duration": 20.107809,
     "end_time": "2025-04-24T14:16:20.953048",
     "exception": false,
     "start_time": "2025-04-24T14:16:00.845239",
     "status": "completed"
    },
    "tags": []
   },
   "outputs": [
    {
     "name": "stdout",
     "output_type": "stream",
     "text": [
      "Using Kaggle's public dataset BigQuery integration.\n"
     ]
    },
    {
     "name": "stderr",
     "output_type": "stream",
     "text": [
      "/usr/local/lib/python3.11/dist-packages/google/cloud/bigquery/table.py:1727: UserWarning: BigQuery Storage module not found, fetch data with the REST endpoint instead.\n",
      "  warnings.warn(\n"
     ]
    },
    {
     "name": "stdout",
     "output_type": "stream",
     "text": [
      "Setup Complete\n"
     ]
    }
   ],
   "source": [
    "# Set up feedback system\n",
    "from learntools.core import binder\n",
    "binder.bind(globals())\n",
    "from learntools.sql.ex3 import *\n",
    "print(\"Setup Complete\")"
   ]
  },
  {
   "cell_type": "markdown",
   "id": "74f608b4",
   "metadata": {
    "papermill": {
     "duration": 0.002842,
     "end_time": "2025-04-24T14:16:20.959443",
     "exception": false,
     "start_time": "2025-04-24T14:16:20.956601",
     "status": "completed"
    },
    "tags": []
   },
   "source": [
    "The code cell below fetches the `full` table from the `hacker_news` dataset.  We also preview the first five rows of the table."
   ]
  },
  {
   "cell_type": "code",
   "execution_count": 2,
   "id": "32152deb",
   "metadata": {
    "execution": {
     "iopub.execute_input": "2025-04-24T14:16:20.967199Z",
     "iopub.status.busy": "2025-04-24T14:16:20.966345Z",
     "iopub.status.idle": "2025-04-24T14:16:22.307213Z",
     "shell.execute_reply": "2025-04-24T14:16:22.306311Z"
    },
    "papermill": {
     "duration": 1.346269,
     "end_time": "2025-04-24T14:16:22.308743",
     "exception": false,
     "start_time": "2025-04-24T14:16:20.962474",
     "status": "completed"
    },
    "tags": []
   },
   "outputs": [
    {
     "name": "stdout",
     "output_type": "stream",
     "text": [
      "Using Kaggle's public dataset BigQuery integration.\n"
     ]
    },
    {
     "data": {
      "text/html": [
       "<div>\n",
       "<style scoped>\n",
       "    .dataframe tbody tr th:only-of-type {\n",
       "        vertical-align: middle;\n",
       "    }\n",
       "\n",
       "    .dataframe tbody tr th {\n",
       "        vertical-align: top;\n",
       "    }\n",
       "\n",
       "    .dataframe thead th {\n",
       "        text-align: right;\n",
       "    }\n",
       "</style>\n",
       "<table border=\"1\" class=\"dataframe\">\n",
       "  <thead>\n",
       "    <tr style=\"text-align: right;\">\n",
       "      <th></th>\n",
       "      <th>title</th>\n",
       "      <th>url</th>\n",
       "      <th>text</th>\n",
       "      <th>dead</th>\n",
       "      <th>by</th>\n",
       "      <th>score</th>\n",
       "      <th>time</th>\n",
       "      <th>timestamp</th>\n",
       "      <th>type</th>\n",
       "      <th>id</th>\n",
       "      <th>parent</th>\n",
       "      <th>descendants</th>\n",
       "      <th>ranking</th>\n",
       "      <th>deleted</th>\n",
       "    </tr>\n",
       "  </thead>\n",
       "  <tbody>\n",
       "    <tr>\n",
       "      <th>0</th>\n",
       "      <td>None</td>\n",
       "      <td>None</td>\n",
       "      <td>None</td>\n",
       "      <td>&lt;NA&gt;</td>\n",
       "      <td>None</td>\n",
       "      <td>&lt;NA&gt;</td>\n",
       "      <td>1437670297</td>\n",
       "      <td>2015-07-23 16:51:37+00:00</td>\n",
       "      <td>story</td>\n",
       "      <td>9936943</td>\n",
       "      <td>&lt;NA&gt;</td>\n",
       "      <td>&lt;NA&gt;</td>\n",
       "      <td>&lt;NA&gt;</td>\n",
       "      <td>&lt;NA&gt;</td>\n",
       "    </tr>\n",
       "    <tr>\n",
       "      <th>1</th>\n",
       "      <td>None</td>\n",
       "      <td>None</td>\n",
       "      <td>None</td>\n",
       "      <td>&lt;NA&gt;</td>\n",
       "      <td>None</td>\n",
       "      <td>&lt;NA&gt;</td>\n",
       "      <td>1260770788</td>\n",
       "      <td>2009-12-14 06:06:28+00:00</td>\n",
       "      <td>story</td>\n",
       "      <td>993714</td>\n",
       "      <td>&lt;NA&gt;</td>\n",
       "      <td>&lt;NA&gt;</td>\n",
       "      <td>&lt;NA&gt;</td>\n",
       "      <td>&lt;NA&gt;</td>\n",
       "    </tr>\n",
       "    <tr>\n",
       "      <th>2</th>\n",
       "      <td>None</td>\n",
       "      <td>None</td>\n",
       "      <td>None</td>\n",
       "      <td>&lt;NA&gt;</td>\n",
       "      <td>None</td>\n",
       "      <td>&lt;NA&gt;</td>\n",
       "      <td>1437673048</td>\n",
       "      <td>2015-07-23 17:37:28+00:00</td>\n",
       "      <td>story</td>\n",
       "      <td>9937261</td>\n",
       "      <td>&lt;NA&gt;</td>\n",
       "      <td>&lt;NA&gt;</td>\n",
       "      <td>&lt;NA&gt;</td>\n",
       "      <td>&lt;NA&gt;</td>\n",
       "    </tr>\n",
       "    <tr>\n",
       "      <th>3</th>\n",
       "      <td>None</td>\n",
       "      <td>None</td>\n",
       "      <td>None</td>\n",
       "      <td>&lt;NA&gt;</td>\n",
       "      <td>None</td>\n",
       "      <td>&lt;NA&gt;</td>\n",
       "      <td>1437673159</td>\n",
       "      <td>2015-07-23 17:39:19+00:00</td>\n",
       "      <td>story</td>\n",
       "      <td>9937275</td>\n",
       "      <td>&lt;NA&gt;</td>\n",
       "      <td>&lt;NA&gt;</td>\n",
       "      <td>&lt;NA&gt;</td>\n",
       "      <td>&lt;NA&gt;</td>\n",
       "    </tr>\n",
       "    <tr>\n",
       "      <th>4</th>\n",
       "      <td>None</td>\n",
       "      <td>None</td>\n",
       "      <td>None</td>\n",
       "      <td>&lt;NA&gt;</td>\n",
       "      <td>None</td>\n",
       "      <td>&lt;NA&gt;</td>\n",
       "      <td>1437673352</td>\n",
       "      <td>2015-07-23 17:42:32+00:00</td>\n",
       "      <td>story</td>\n",
       "      <td>9937301</td>\n",
       "      <td>&lt;NA&gt;</td>\n",
       "      <td>&lt;NA&gt;</td>\n",
       "      <td>&lt;NA&gt;</td>\n",
       "      <td>&lt;NA&gt;</td>\n",
       "    </tr>\n",
       "  </tbody>\n",
       "</table>\n",
       "</div>"
      ],
      "text/plain": [
       "  title   url  text  dead    by  score        time                 timestamp  \\\n",
       "0  None  None  None  <NA>  None   <NA>  1437670297 2015-07-23 16:51:37+00:00   \n",
       "1  None  None  None  <NA>  None   <NA>  1260770788 2009-12-14 06:06:28+00:00   \n",
       "2  None  None  None  <NA>  None   <NA>  1437673048 2015-07-23 17:37:28+00:00   \n",
       "3  None  None  None  <NA>  None   <NA>  1437673159 2015-07-23 17:39:19+00:00   \n",
       "4  None  None  None  <NA>  None   <NA>  1437673352 2015-07-23 17:42:32+00:00   \n",
       "\n",
       "    type       id  parent  descendants  ranking  deleted  \n",
       "0  story  9936943    <NA>         <NA>     <NA>     <NA>  \n",
       "1  story   993714    <NA>         <NA>     <NA>     <NA>  \n",
       "2  story  9937261    <NA>         <NA>     <NA>     <NA>  \n",
       "3  story  9937275    <NA>         <NA>     <NA>     <NA>  \n",
       "4  story  9937301    <NA>         <NA>     <NA>     <NA>  "
      ]
     },
     "execution_count": 2,
     "metadata": {},
     "output_type": "execute_result"
    }
   ],
   "source": [
    "from google.cloud import bigquery\n",
    "\n",
    "# Create a \"Client\" object\n",
    "client = bigquery.Client()\n",
    "\n",
    "# Construct a reference to the \"hacker_news\" dataset\n",
    "dataset_ref = client.dataset(\"hacker_news\", project=\"bigquery-public-data\")\n",
    "\n",
    "# API request - fetch the dataset\n",
    "dataset = client.get_dataset(dataset_ref)\n",
    "\n",
    "# Construct a reference to the \"full\" table\n",
    "table_ref = dataset_ref.table(\"full\")\n",
    "\n",
    "# API request - fetch the table\n",
    "table = client.get_table(table_ref)\n",
    "\n",
    "# Preview the first five lines of the table\n",
    "client.list_rows(table, max_results=5).to_dataframe()"
   ]
  },
  {
   "cell_type": "markdown",
   "id": "d18101c1",
   "metadata": {
    "papermill": {
     "duration": 0.003039,
     "end_time": "2025-04-24T14:16:22.316809",
     "exception": false,
     "start_time": "2025-04-24T14:16:22.313770",
     "status": "completed"
    },
    "tags": []
   },
   "source": [
    "# Exercises\n",
    "\n",
    "### 1) Prolific commenters\n",
    "\n",
    "Hacker News would like to send awards to everyone who has written more than 10,000 posts. Write a query that returns all authors with more than 10,000 posts as well as their post counts. Call the column with post counts `NumPosts`.\n",
    "\n",
    "In case sample query is helpful, here is a query you saw in the tutorial to answer a similar question:\n",
    "```\n",
    "query = \"\"\"\n",
    "        SELECT parent, COUNT(1) AS NumPosts\n",
    "        FROM `bigquery-public-data.hacker_news.full`\n",
    "        GROUP BY parent\n",
    "        HAVING COUNT(1) > 10\n",
    "        \"\"\"\n",
    "```"
   ]
  },
  {
   "cell_type": "code",
   "execution_count": 3,
   "id": "b4b270d7",
   "metadata": {
    "execution": {
     "iopub.execute_input": "2025-04-24T14:16:22.325049Z",
     "iopub.status.busy": "2025-04-24T14:16:22.324218Z",
     "iopub.status.idle": "2025-04-24T14:16:24.130734Z",
     "shell.execute_reply": "2025-04-24T14:16:24.129972Z"
    },
    "papermill": {
     "duration": 1.812196,
     "end_time": "2025-04-24T14:16:24.132257",
     "exception": false,
     "start_time": "2025-04-24T14:16:22.320061",
     "status": "completed"
    },
    "tags": []
   },
   "outputs": [
    {
     "name": "stderr",
     "output_type": "stream",
     "text": [
      "/usr/local/lib/python3.11/dist-packages/google/cloud/bigquery/table.py:1727: UserWarning: BigQuery Storage module not found, fetch data with the REST endpoint instead.\n",
      "  warnings.warn(\n"
     ]
    },
    {
     "name": "stdout",
     "output_type": "stream",
     "text": [
      "         author  NumPosts\n",
      "0     anigbrowl     27935\n",
      "1       ams6110     11132\n",
      "2  pavel_lishin     13637\n",
      "3          dang     75248\n",
      "4      tracker1     10482\n"
     ]
    },
    {
     "data": {
      "application/javascript": [
       "parent.postMessage({\"jupyterEvent\": \"custom.exercise_interaction\", \"data\": {\"outcomeType\": 1, \"valueTowardsCompletion\": 0.5, \"interactionType\": 1, \"questionType\": 2, \"questionId\": \"1_ProlificCommenters\", \"learnToolsVersion\": \"0.3.5\", \"failureMessage\": \"\", \"exceptionClass\": \"\", \"trace\": \"\"}}, \"*\")"
      ],
      "text/plain": [
       "<IPython.core.display.Javascript object>"
      ]
     },
     "metadata": {},
     "output_type": "display_data"
    },
    {
     "data": {
      "text/markdown": [
       "<span style=\"color:#33cc33\">Correct</span>"
      ],
      "text/plain": [
       "Correct"
      ]
     },
     "metadata": {},
     "output_type": "display_data"
    }
   ],
   "source": [
    "# Query to select prolific commenters and post counts\n",
    "prolific_commenters_query = \"\"\"\n",
    "                            SELECT `by` AS author, COUNT(1) AS NumPosts\n",
    "                            FROM `bigquery-public-data.hacker_news.full`\n",
    "                            GROUP BY author\n",
    "                            HAVING COUNT(1) > 10000\n",
    "                            \"\"\"# Your code goes here\n",
    "\n",
    "# Set up the query (cancel the query if it would use too much of \n",
    "# your quota, with the limit set to 1 GB)\n",
    "safe_config = bigquery.QueryJobConfig(maximum_bytes_billed=10**10)\n",
    "query_job = client.query(prolific_commenters_query, job_config=safe_config)\n",
    "\n",
    "# API request - run the query, and return a pandas DataFrame\n",
    "prolific_commenters = query_job.to_dataframe()\n",
    "\n",
    "# View top few rows of results\n",
    "print(prolific_commenters.head())\n",
    "\n",
    "# Check your answer\n",
    "q_1.check()"
   ]
  },
  {
   "cell_type": "markdown",
   "id": "24bd373a",
   "metadata": {
    "papermill": {
     "duration": 0.003254,
     "end_time": "2025-04-24T14:16:24.139353",
     "exception": false,
     "start_time": "2025-04-24T14:16:24.136099",
     "status": "completed"
    },
    "tags": []
   },
   "source": [
    "For the solution, uncomment the line below."
   ]
  },
  {
   "cell_type": "code",
   "execution_count": 4,
   "id": "42cd0d39",
   "metadata": {
    "execution": {
     "iopub.execute_input": "2025-04-24T14:16:24.147441Z",
     "iopub.status.busy": "2025-04-24T14:16:24.147171Z",
     "iopub.status.idle": "2025-04-24T14:16:24.154807Z",
     "shell.execute_reply": "2025-04-24T14:16:24.153973Z"
    },
    "papermill": {
     "duration": 0.013215,
     "end_time": "2025-04-24T14:16:24.156023",
     "exception": false,
     "start_time": "2025-04-24T14:16:24.142808",
     "status": "completed"
    },
    "tags": []
   },
   "outputs": [
    {
     "data": {
      "application/javascript": [
       "parent.postMessage({\"jupyterEvent\": \"custom.exercise_interaction\", \"data\": {\"interactionType\": 3, \"questionType\": 2, \"questionId\": \"1_ProlificCommenters\", \"learnToolsVersion\": \"0.3.5\", \"valueTowardsCompletion\": 0.0, \"failureMessage\": \"\", \"exceptionClass\": \"\", \"trace\": \"\", \"outcomeType\": 4}}, \"*\")"
      ],
      "text/plain": [
       "<IPython.core.display.Javascript object>"
      ]
     },
     "metadata": {},
     "output_type": "display_data"
    },
    {
     "data": {
      "text/markdown": [
       "<span style=\"color:#33cc99\">Solution:</span> \n",
       "```python\n",
       "\n",
       "prolific_commenters_query = \"\"\"\n",
       "                            SELECT `by` AS author, COUNT(1) AS NumPosts\n",
       "                            FROM `bigquery-public-data.hacker_news.full`\n",
       "                            GROUP BY author\n",
       "                            HAVING COUNT(1) > 10000\n",
       "                            \"\"\"\n",
       "\n",
       "```"
      ],
      "text/plain": [
       "Solution: \n",
       "```python\n",
       "\n",
       "prolific_commenters_query = \"\"\"\n",
       "                            SELECT `by` AS author, COUNT(1) AS NumPosts\n",
       "                            FROM `bigquery-public-data.hacker_news.full`\n",
       "                            GROUP BY author\n",
       "                            HAVING COUNT(1) > 10000\n",
       "                            \"\"\"\n",
       "\n",
       "```"
      ]
     },
     "metadata": {},
     "output_type": "display_data"
    }
   ],
   "source": [
    "q_1.solution()"
   ]
  },
  {
   "cell_type": "markdown",
   "id": "e2bdb219",
   "metadata": {
    "papermill": {
     "duration": 0.003453,
     "end_time": "2025-04-24T14:16:24.163266",
     "exception": false,
     "start_time": "2025-04-24T14:16:24.159813",
     "status": "completed"
    },
    "tags": []
   },
   "source": [
    "### 2) Deleted comments\n",
    "\n",
    "How many comments have been deleted? (If a comment was deleted, the `deleted` column in the table will have the value `True`.)"
   ]
  },
  {
   "cell_type": "code",
   "execution_count": 5,
   "id": "4f93b710",
   "metadata": {
    "execution": {
     "iopub.execute_input": "2025-04-24T14:16:24.171960Z",
     "iopub.status.busy": "2025-04-24T14:16:24.171648Z",
     "iopub.status.idle": "2025-04-24T14:16:25.628790Z",
     "shell.execute_reply": "2025-04-24T14:16:25.627766Z"
    },
    "papermill": {
     "duration": 1.462999,
     "end_time": "2025-04-24T14:16:25.630239",
     "exception": false,
     "start_time": "2025-04-24T14:16:24.167240",
     "status": "completed"
    },
    "tags": []
   },
   "outputs": [
    {
     "name": "stderr",
     "output_type": "stream",
     "text": [
      "/usr/local/lib/python3.11/dist-packages/google/cloud/bigquery/table.py:1727: UserWarning: BigQuery Storage module not found, fetch data with the REST endpoint instead.\n",
      "  warnings.warn(\n"
     ]
    },
    {
     "name": "stdout",
     "output_type": "stream",
     "text": [
      "   num_deleted_posts\n",
      "0                  0\n"
     ]
    }
   ],
   "source": [
    "deleted_posts_query  = \"\"\"\n",
    "                            SELECT COUNT(1) AS num_deleted_posts\n",
    "                            FROM `bigquery-public-data.hacker_news.full`\n",
    "                            WHERE deleted = True\n",
    "                     \n",
    "                            \"\"\"\n",
    "\n",
    "query_job = client.query(deleted_posts_query, job_config=safe_config)\n",
    "\n",
    "# API request - run the query, and return a pandas DataFrame\n",
    "deleted_post = query_job.to_dataframe()\n",
    "\n",
    "# View top few rows of results\n",
    "print(deleted_post)\n"
   ]
  },
  {
   "cell_type": "code",
   "execution_count": 6,
   "id": "7be8f8b5",
   "metadata": {
    "execution": {
     "iopub.execute_input": "2025-04-24T14:16:25.638919Z",
     "iopub.status.busy": "2025-04-24T14:16:25.638640Z",
     "iopub.status.idle": "2025-04-24T14:16:25.645667Z",
     "shell.execute_reply": "2025-04-24T14:16:25.644789Z"
    },
    "papermill": {
     "duration": 0.012803,
     "end_time": "2025-04-24T14:16:25.647006",
     "exception": false,
     "start_time": "2025-04-24T14:16:25.634203",
     "status": "completed"
    },
    "tags": []
   },
   "outputs": [
    {
     "data": {
      "application/javascript": [
       "parent.postMessage({\"jupyterEvent\": \"custom.exercise_interaction\", \"data\": {\"outcomeType\": 4, \"interactionType\": 1, \"questionType\": 1, \"questionId\": \"2_NumDeletedPosts\", \"learnToolsVersion\": \"0.3.5\", \"valueTowardsCompletion\": 0.0, \"failureMessage\": \"\", \"exceptionClass\": \"\", \"trace\": \"\"}}, \"*\")"
      ],
      "text/plain": [
       "<IPython.core.display.Javascript object>"
      ]
     },
     "metadata": {},
     "output_type": "display_data"
    },
    {
     "data": {
      "text/markdown": [
       "<span style=\"color:#ccaa33\">Check:</span> When you've updated the starter code, `check()` will tell you whether your code is correct. You need to update the code that creates variable `num_deleted_posts`"
      ],
      "text/plain": [
       "Check: When you've updated the starter code, `check()` will tell you whether your code is correct. You need to update the code that creates variable `num_deleted_posts`"
      ]
     },
     "metadata": {},
     "output_type": "display_data"
    }
   ],
   "source": [
    "num_deleted_posts = ____ # Put your answer here\n",
    "\n",
    "# Check your answer\n",
    "q_2.check()"
   ]
  },
  {
   "cell_type": "markdown",
   "id": "ad0200b1",
   "metadata": {
    "papermill": {
     "duration": 0.003884,
     "end_time": "2025-04-24T14:16:25.655044",
     "exception": false,
     "start_time": "2025-04-24T14:16:25.651160",
     "status": "completed"
    },
    "tags": []
   },
   "source": [
    "For the solution, uncomment the line below."
   ]
  },
  {
   "cell_type": "code",
   "execution_count": 7,
   "id": "34938ddb",
   "metadata": {
    "execution": {
     "iopub.execute_input": "2025-04-24T14:16:25.663911Z",
     "iopub.status.busy": "2025-04-24T14:16:25.663594Z",
     "iopub.status.idle": "2025-04-24T14:16:25.670381Z",
     "shell.execute_reply": "2025-04-24T14:16:25.669724Z"
    },
    "papermill": {
     "duration": 0.012566,
     "end_time": "2025-04-24T14:16:25.671493",
     "exception": false,
     "start_time": "2025-04-24T14:16:25.658927",
     "status": "completed"
    },
    "tags": []
   },
   "outputs": [
    {
     "data": {
      "application/javascript": [
       "parent.postMessage({\"jupyterEvent\": \"custom.exercise_interaction\", \"data\": {\"interactionType\": 3, \"questionType\": 1, \"questionId\": \"2_NumDeletedPosts\", \"learnToolsVersion\": \"0.3.5\", \"valueTowardsCompletion\": 0.0, \"failureMessage\": \"\", \"exceptionClass\": \"\", \"trace\": \"\", \"outcomeType\": 4}}, \"*\")"
      ],
      "text/plain": [
       "<IPython.core.display.Javascript object>"
      ]
     },
     "metadata": {},
     "output_type": "display_data"
    },
    {
     "data": {
      "text/markdown": [
       "<span style=\"color:#33cc99\">Solution:</span> \n",
       "```python\n",
       "\n",
       "# Query to determine how many posts were deleted\n",
       "deleted_posts_query = \"\"\"\n",
       "                      SELECT COUNT(1) AS num_deleted_posts\n",
       "                      FROM `bigquery-public-data.hacker_news.full`\n",
       "                      WHERE deleted = True\n",
       "                      \"\"\"\n",
       "                      \n",
       "# Set up the query\n",
       "query_job = client.query(deleted_posts_query)\n",
       "\n",
       "# API request - run the query, and return a pandas DataFrame\n",
       "deleted_posts = query_job.to_dataframe()\n",
       "\n",
       "# View results\n",
       "print(deleted_posts)\n",
       "\n",
       "num_deleted_posts = 0\n",
       "\n",
       "```"
      ],
      "text/plain": [
       "Solution: \n",
       "```python\n",
       "\n",
       "# Query to determine how many posts were deleted\n",
       "deleted_posts_query = \"\"\"\n",
       "                      SELECT COUNT(1) AS num_deleted_posts\n",
       "                      FROM `bigquery-public-data.hacker_news.full`\n",
       "                      WHERE deleted = True\n",
       "                      \"\"\"\n",
       "                      \n",
       "# Set up the query\n",
       "query_job = client.query(deleted_posts_query)\n",
       "\n",
       "# API request - run the query, and return a pandas DataFrame\n",
       "deleted_posts = query_job.to_dataframe()\n",
       "\n",
       "# View results\n",
       "print(deleted_posts)\n",
       "\n",
       "num_deleted_posts = 0\n",
       "\n",
       "```"
      ]
     },
     "metadata": {},
     "output_type": "display_data"
    }
   ],
   "source": [
    "q_2.solution()"
   ]
  },
  {
   "cell_type": "markdown",
   "id": "859f29ae",
   "metadata": {
    "papermill": {
     "duration": 0.003929,
     "end_time": "2025-04-24T14:16:25.679670",
     "exception": false,
     "start_time": "2025-04-24T14:16:25.675741",
     "status": "completed"
    },
    "tags": []
   },
   "source": [
    "# Keep Going\n",
    "**[Click here](https://www.kaggle.com/dansbecker/order-by)** to move on and learn about the **ORDER BY** clause."
   ]
  },
  {
   "cell_type": "markdown",
   "id": "0a27e655",
   "metadata": {
    "papermill": {
     "duration": 0.003994,
     "end_time": "2025-04-24T14:16:25.687755",
     "exception": false,
     "start_time": "2025-04-24T14:16:25.683761",
     "status": "completed"
    },
    "tags": []
   },
   "source": [
    "---\n",
    "\n",
    "\n",
    "\n",
    "\n",
    "*Have questions or comments? Visit the [course discussion forum](https://www.kaggle.com/learn/intro-to-sql/discussion) to chat with other learners.*"
   ]
  }
 ],
 "metadata": {
  "kaggle": {
   "accelerator": "none",
   "dataSources": [
    {
     "datasetId": 6057,
     "sourceId": 285982,
     "sourceType": "datasetVersion"
    }
   ],
   "isGpuEnabled": false,
   "isInternetEnabled": false,
   "language": "python",
   "sourceType": "notebook"
  },
  "kernelspec": {
   "display_name": "Python 3",
   "language": "python",
   "name": "python3"
  },
  "language_info": {
   "codemirror_mode": {
    "name": "ipython",
    "version": 3
   },
   "file_extension": ".py",
   "mimetype": "text/x-python",
   "name": "python",
   "nbconvert_exporter": "python",
   "pygments_lexer": "ipython3",
   "version": "3.11.11"
  },
  "papermill": {
   "default_parameters": {},
   "duration": 33.163806,
   "end_time": "2025-04-24T14:16:29.172904",
   "environment_variables": {},
   "exception": null,
   "input_path": "__notebook__.ipynb",
   "output_path": "__notebook__.ipynb",
   "parameters": {},
   "start_time": "2025-04-24T14:15:56.009098",
   "version": "2.6.0"
  }
 },
 "nbformat": 4,
 "nbformat_minor": 5
}
