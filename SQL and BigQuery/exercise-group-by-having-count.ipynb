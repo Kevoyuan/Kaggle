{
 "cells": [
  {
   "cell_type": "markdown",
   "id": "ddea8736",
   "metadata": {
    "papermill": {
     "duration": 0.004029,
     "end_time": "2025-05-14T10:16:09.618203",
     "exception": false,
     "start_time": "2025-05-14T10:16:09.614174",
     "status": "completed"
    },
    "tags": []
   },
   "source": [
    "**This notebook is an exercise in the [SQL](https://www.kaggle.com/learn/intro-to-sql) course.  You can reference the tutorial at [this link](https://www.kaggle.com/dansbecker/group-by-having-count).**\n",
    "\n",
    "---\n"
   ]
  },
  {
   "cell_type": "markdown",
   "id": "7ec11294",
   "metadata": {
    "papermill": {
     "duration": 0.002867,
     "end_time": "2025-05-14T10:16:09.625166",
     "exception": false,
     "start_time": "2025-05-14T10:16:09.622299",
     "status": "completed"
    },
    "tags": []
   },
   "source": [
    "# Introduction\n",
    "\n",
    "Queries with **GROUP BY** can be powerful. There are many small things that can trip you up (like the order of the clauses), but it will start to feel natural once you've done it a few times. Here, you'll write queries using **GROUP BY** to answer questions from the Hacker News dataset.\n",
    "\n",
    "Before you get started, run the following cell to set everything up:"
   ]
  },
  {
   "cell_type": "code",
   "execution_count": 1,
   "id": "a3644449",
   "metadata": {
    "execution": {
     "iopub.execute_input": "2025-05-14T10:16:09.633842Z",
     "iopub.status.busy": "2025-05-14T10:16:09.633412Z",
     "iopub.status.idle": "2025-05-14T10:16:33.567445Z",
     "shell.execute_reply": "2025-05-14T10:16:33.566180Z"
    },
    "papermill": {
     "duration": 23.940867,
     "end_time": "2025-05-14T10:16:33.569105",
     "exception": false,
     "start_time": "2025-05-14T10:16:09.628238",
     "status": "completed"
    },
    "tags": []
   },
   "outputs": [
    {
     "name": "stdout",
     "output_type": "stream",
     "text": [
      "Using Kaggle's public dataset BigQuery integration.\n"
     ]
    },
    {
     "name": "stderr",
     "output_type": "stream",
     "text": [
      "/usr/local/lib/python3.11/dist-packages/google/cloud/bigquery/table.py:1727: UserWarning: BigQuery Storage module not found, fetch data with the REST endpoint instead.\n",
      "  warnings.warn(\n"
     ]
    },
    {
     "name": "stdout",
     "output_type": "stream",
     "text": [
      "Setup Complete\n"
     ]
    }
   ],
   "source": [
    "# Set up feedback system\n",
    "from learntools.core import binder\n",
    "binder.bind(globals())\n",
    "from learntools.sql.ex3 import *\n",
    "print(\"Setup Complete\")"
   ]
  },
  {
   "cell_type": "markdown",
   "id": "71906101",
   "metadata": {
    "papermill": {
     "duration": 0.003264,
     "end_time": "2025-05-14T10:16:33.575889",
     "exception": false,
     "start_time": "2025-05-14T10:16:33.572625",
     "status": "completed"
    },
    "tags": []
   },
   "source": [
    "The code cell below fetches the `full` table from the `hacker_news` dataset.  We also preview the first five rows of the table."
   ]
  },
  {
   "cell_type": "code",
   "execution_count": 2,
   "id": "f8f9061e",
   "metadata": {
    "execution": {
     "iopub.execute_input": "2025-05-14T10:16:33.584800Z",
     "iopub.status.busy": "2025-05-14T10:16:33.583658Z",
     "iopub.status.idle": "2025-05-14T10:16:35.167154Z",
     "shell.execute_reply": "2025-05-14T10:16:35.166004Z"
    },
    "papermill": {
     "duration": 1.589668,
     "end_time": "2025-05-14T10:16:35.168888",
     "exception": false,
     "start_time": "2025-05-14T10:16:33.579220",
     "status": "completed"
    },
    "tags": []
   },
   "outputs": [
    {
     "name": "stdout",
     "output_type": "stream",
     "text": [
      "Using Kaggle's public dataset BigQuery integration.\n"
     ]
    },
    {
     "data": {
      "text/html": [
       "<div>\n",
       "<style scoped>\n",
       "    .dataframe tbody tr th:only-of-type {\n",
       "        vertical-align: middle;\n",
       "    }\n",
       "\n",
       "    .dataframe tbody tr th {\n",
       "        vertical-align: top;\n",
       "    }\n",
       "\n",
       "    .dataframe thead th {\n",
       "        text-align: right;\n",
       "    }\n",
       "</style>\n",
       "<table border=\"1\" class=\"dataframe\">\n",
       "  <thead>\n",
       "    <tr style=\"text-align: right;\">\n",
       "      <th></th>\n",
       "      <th>title</th>\n",
       "      <th>url</th>\n",
       "      <th>text</th>\n",
       "      <th>dead</th>\n",
       "      <th>by</th>\n",
       "      <th>score</th>\n",
       "      <th>time</th>\n",
       "      <th>timestamp</th>\n",
       "      <th>type</th>\n",
       "      <th>id</th>\n",
       "      <th>parent</th>\n",
       "      <th>descendants</th>\n",
       "      <th>ranking</th>\n",
       "      <th>deleted</th>\n",
       "    </tr>\n",
       "  </thead>\n",
       "  <tbody>\n",
       "    <tr>\n",
       "      <th>0</th>\n",
       "      <td>None</td>\n",
       "      <td>None</td>\n",
       "      <td>None</td>\n",
       "      <td>True</td>\n",
       "      <td>Adoum_Tech</td>\n",
       "      <td>2</td>\n",
       "      <td>1713995025</td>\n",
       "      <td>2024-04-24 21:43:45+00:00</td>\n",
       "      <td>story</td>\n",
       "      <td>40150086</td>\n",
       "      <td>&lt;NA&gt;</td>\n",
       "      <td>&lt;NA&gt;</td>\n",
       "      <td>&lt;NA&gt;</td>\n",
       "      <td>&lt;NA&gt;</td>\n",
       "    </tr>\n",
       "    <tr>\n",
       "      <th>1</th>\n",
       "      <td>None</td>\n",
       "      <td>None</td>\n",
       "      <td>None</td>\n",
       "      <td>True</td>\n",
       "      <td>belter</td>\n",
       "      <td>2</td>\n",
       "      <td>1713995286</td>\n",
       "      <td>2024-04-24 21:48:06+00:00</td>\n",
       "      <td>story</td>\n",
       "      <td>40150135</td>\n",
       "      <td>&lt;NA&gt;</td>\n",
       "      <td>&lt;NA&gt;</td>\n",
       "      <td>&lt;NA&gt;</td>\n",
       "      <td>&lt;NA&gt;</td>\n",
       "    </tr>\n",
       "    <tr>\n",
       "      <th>2</th>\n",
       "      <td>None</td>\n",
       "      <td>None</td>\n",
       "      <td>None</td>\n",
       "      <td>True</td>\n",
       "      <td>Rinzler89</td>\n",
       "      <td>1</td>\n",
       "      <td>1713995678</td>\n",
       "      <td>2024-04-24 21:54:38+00:00</td>\n",
       "      <td>story</td>\n",
       "      <td>40150207</td>\n",
       "      <td>&lt;NA&gt;</td>\n",
       "      <td>&lt;NA&gt;</td>\n",
       "      <td>&lt;NA&gt;</td>\n",
       "      <td>&lt;NA&gt;</td>\n",
       "    </tr>\n",
       "    <tr>\n",
       "      <th>3</th>\n",
       "      <td>None</td>\n",
       "      <td>None</td>\n",
       "      <td>None</td>\n",
       "      <td>True</td>\n",
       "      <td>stockstobuynow</td>\n",
       "      <td>1</td>\n",
       "      <td>1713995704</td>\n",
       "      <td>2024-04-24 21:55:04+00:00</td>\n",
       "      <td>story</td>\n",
       "      <td>40150212</td>\n",
       "      <td>&lt;NA&gt;</td>\n",
       "      <td>&lt;NA&gt;</td>\n",
       "      <td>&lt;NA&gt;</td>\n",
       "      <td>&lt;NA&gt;</td>\n",
       "    </tr>\n",
       "    <tr>\n",
       "      <th>4</th>\n",
       "      <td>None</td>\n",
       "      <td>None</td>\n",
       "      <td>None</td>\n",
       "      <td>True</td>\n",
       "      <td>FLMAN407</td>\n",
       "      <td>1</td>\n",
       "      <td>1713995772</td>\n",
       "      <td>2024-04-24 21:56:12+00:00</td>\n",
       "      <td>story</td>\n",
       "      <td>40150229</td>\n",
       "      <td>&lt;NA&gt;</td>\n",
       "      <td>&lt;NA&gt;</td>\n",
       "      <td>&lt;NA&gt;</td>\n",
       "      <td>&lt;NA&gt;</td>\n",
       "    </tr>\n",
       "  </tbody>\n",
       "</table>\n",
       "</div>"
      ],
      "text/plain": [
       "  title   url  text  dead              by  score        time  \\\n",
       "0  None  None  None  True      Adoum_Tech      2  1713995025   \n",
       "1  None  None  None  True          belter      2  1713995286   \n",
       "2  None  None  None  True       Rinzler89      1  1713995678   \n",
       "3  None  None  None  True  stockstobuynow      1  1713995704   \n",
       "4  None  None  None  True        FLMAN407      1  1713995772   \n",
       "\n",
       "                  timestamp   type        id  parent  descendants  ranking  \\\n",
       "0 2024-04-24 21:43:45+00:00  story  40150086    <NA>         <NA>     <NA>   \n",
       "1 2024-04-24 21:48:06+00:00  story  40150135    <NA>         <NA>     <NA>   \n",
       "2 2024-04-24 21:54:38+00:00  story  40150207    <NA>         <NA>     <NA>   \n",
       "3 2024-04-24 21:55:04+00:00  story  40150212    <NA>         <NA>     <NA>   \n",
       "4 2024-04-24 21:56:12+00:00  story  40150229    <NA>         <NA>     <NA>   \n",
       "\n",
       "   deleted  \n",
       "0     <NA>  \n",
       "1     <NA>  \n",
       "2     <NA>  \n",
       "3     <NA>  \n",
       "4     <NA>  "
      ]
     },
     "execution_count": 2,
     "metadata": {},
     "output_type": "execute_result"
    }
   ],
   "source": [
    "from google.cloud import bigquery\n",
    "\n",
    "# Create a \"Client\" object\n",
    "client = bigquery.Client()\n",
    "\n",
    "# Construct a reference to the \"hacker_news\" dataset\n",
    "dataset_ref = client.dataset(\"hacker_news\", project=\"bigquery-public-data\")\n",
    "\n",
    "# API request - fetch the dataset\n",
    "dataset = client.get_dataset(dataset_ref)\n",
    "\n",
    "# Construct a reference to the \"full\" table\n",
    "table_ref = dataset_ref.table(\"full\")\n",
    "\n",
    "# API request - fetch the table\n",
    "table = client.get_table(table_ref)\n",
    "\n",
    "# Preview the first five lines of the table\n",
    "client.list_rows(table, max_results=5).to_dataframe()"
   ]
  },
  {
   "cell_type": "markdown",
   "id": "618e2b3f",
   "metadata": {
    "papermill": {
     "duration": 0.003386,
     "end_time": "2025-05-14T10:16:35.176069",
     "exception": false,
     "start_time": "2025-05-14T10:16:35.172683",
     "status": "completed"
    },
    "tags": []
   },
   "source": [
    "# Exercises\n",
    "\n",
    "### 1) Prolific commenters\n",
    "\n",
    "Hacker News would like to send awards to everyone who has written more than 10,000 posts. Write a query that returns all authors with more than 10,000 posts as well as their post counts. Call the column with post counts `NumPosts`.\n",
    "\n",
    "In case sample query is helpful, here is a query you saw in the tutorial to answer a similar question:\n",
    "```\n",
    "query = \"\"\"\n",
    "        SELECT parent, COUNT(1) AS NumPosts\n",
    "        FROM `bigquery-public-data.hacker_news.full`\n",
    "        GROUP BY parent\n",
    "        HAVING COUNT(1) > 10\n",
    "        \"\"\"\n",
    "```"
   ]
  },
  {
   "cell_type": "code",
   "execution_count": 3,
   "id": "a310a3e8",
   "metadata": {
    "execution": {
     "iopub.execute_input": "2025-05-14T10:16:35.185982Z",
     "iopub.status.busy": "2025-05-14T10:16:35.185225Z",
     "iopub.status.idle": "2025-05-14T10:16:36.402543Z",
     "shell.execute_reply": "2025-05-14T10:16:36.401130Z"
    },
    "papermill": {
     "duration": 1.224539,
     "end_time": "2025-05-14T10:16:36.404407",
     "exception": false,
     "start_time": "2025-05-14T10:16:35.179868",
     "status": "completed"
    },
    "tags": []
   },
   "outputs": [
    {
     "name": "stderr",
     "output_type": "stream",
     "text": [
      "/usr/local/lib/python3.11/dist-packages/google/cloud/bigquery/table.py:1727: UserWarning: BigQuery Storage module not found, fetch data with the REST endpoint instead.\n",
      "  warnings.warn(\n"
     ]
    },
    {
     "name": "stdout",
     "output_type": "stream",
     "text": [
      "      author  NumPosts\n",
      "0         pg     10757\n",
      "1  dllthomas     10730\n",
      "2      sneak     15329\n",
      "3       bane     10892\n",
      "4     kelnos     13085\n"
     ]
    },
    {
     "data": {
      "application/javascript": [
       "parent.postMessage({\"jupyterEvent\": \"custom.exercise_interaction\", \"data\": {\"outcomeType\": 1, \"valueTowardsCompletion\": 0.5, \"interactionType\": 1, \"questionType\": 2, \"questionId\": \"1_ProlificCommenters\", \"learnToolsVersion\": \"0.3.5\", \"failureMessage\": \"\", \"exceptionClass\": \"\", \"trace\": \"\"}}, \"*\")"
      ],
      "text/plain": [
       "<IPython.core.display.Javascript object>"
      ]
     },
     "metadata": {},
     "output_type": "display_data"
    },
    {
     "data": {
      "text/markdown": [
       "<span style=\"color:#33cc33\">Correct</span>"
      ],
      "text/plain": [
       "Correct"
      ]
     },
     "metadata": {},
     "output_type": "display_data"
    }
   ],
   "source": [
    "# Query to select prolific commenters and post counts\n",
    "prolific_commenters_query = \"\"\"\n",
    "                            SELECT `by` AS author, COUNT(1) AS NumPosts\n",
    "                            FROM `bigquery-public-data.hacker_news.full`\n",
    "                            GROUP BY author\n",
    "                            HAVING COUNT(1) > 10000\n",
    "                            \"\"\"# Your code goes here\n",
    "\n",
    "# Set up the query (cancel the query if it would use too much of \n",
    "# your quota, with the limit set to 1 GB)\n",
    "safe_config = bigquery.QueryJobConfig(maximum_bytes_billed=10**10)\n",
    "query_job = client.query(prolific_commenters_query, job_config=safe_config)\n",
    "\n",
    "# API request - run the query, and return a pandas DataFrame\n",
    "prolific_commenters = query_job.to_dataframe()\n",
    "\n",
    "# View top few rows of results\n",
    "print(prolific_commenters.head())\n",
    "\n",
    "# Check your answer\n",
    "q_1.check()"
   ]
  },
  {
   "cell_type": "markdown",
   "id": "06e69aad",
   "metadata": {
    "papermill": {
     "duration": 0.003929,
     "end_time": "2025-05-14T10:16:36.412312",
     "exception": false,
     "start_time": "2025-05-14T10:16:36.408383",
     "status": "completed"
    },
    "tags": []
   },
   "source": [
    "For the solution, uncomment the line below."
   ]
  },
  {
   "cell_type": "code",
   "execution_count": 4,
   "id": "c77bcf4e",
   "metadata": {
    "execution": {
     "iopub.execute_input": "2025-05-14T10:16:36.421766Z",
     "iopub.status.busy": "2025-05-14T10:16:36.421418Z",
     "iopub.status.idle": "2025-05-14T10:16:36.429271Z",
     "shell.execute_reply": "2025-05-14T10:16:36.428202Z"
    },
    "papermill": {
     "duration": 0.014421,
     "end_time": "2025-05-14T10:16:36.430923",
     "exception": false,
     "start_time": "2025-05-14T10:16:36.416502",
     "status": "completed"
    },
    "tags": []
   },
   "outputs": [
    {
     "data": {
      "application/javascript": [
       "parent.postMessage({\"jupyterEvent\": \"custom.exercise_interaction\", \"data\": {\"interactionType\": 3, \"questionType\": 2, \"questionId\": \"1_ProlificCommenters\", \"learnToolsVersion\": \"0.3.5\", \"valueTowardsCompletion\": 0.0, \"failureMessage\": \"\", \"exceptionClass\": \"\", \"trace\": \"\", \"outcomeType\": 4}}, \"*\")"
      ],
      "text/plain": [
       "<IPython.core.display.Javascript object>"
      ]
     },
     "metadata": {},
     "output_type": "display_data"
    },
    {
     "data": {
      "text/markdown": [
       "<span style=\"color:#33cc99\">Solution:</span> \n",
       "```python\n",
       "\n",
       "prolific_commenters_query = \"\"\"\n",
       "                            SELECT `by` AS author, COUNT(1) AS NumPosts\n",
       "                            FROM `bigquery-public-data.hacker_news.full`\n",
       "                            GROUP BY author\n",
       "                            HAVING COUNT(1) > 10000\n",
       "                            \"\"\"\n",
       "\n",
       "```"
      ],
      "text/plain": [
       "Solution: \n",
       "```python\n",
       "\n",
       "prolific_commenters_query = \"\"\"\n",
       "                            SELECT `by` AS author, COUNT(1) AS NumPosts\n",
       "                            FROM `bigquery-public-data.hacker_news.full`\n",
       "                            GROUP BY author\n",
       "                            HAVING COUNT(1) > 10000\n",
       "                            \"\"\"\n",
       "\n",
       "```"
      ]
     },
     "metadata": {},
     "output_type": "display_data"
    }
   ],
   "source": [
    "q_1.solution()"
   ]
  },
  {
   "cell_type": "markdown",
   "id": "9e6f8314",
   "metadata": {
    "papermill": {
     "duration": 0.003611,
     "end_time": "2025-05-14T10:16:36.438583",
     "exception": false,
     "start_time": "2025-05-14T10:16:36.434972",
     "status": "completed"
    },
    "tags": []
   },
   "source": [
    "### 2) Deleted comments\n",
    "\n",
    "How many comments have been deleted? (If a comment was deleted, the `deleted` column in the table will have the value `True`.)"
   ]
  },
  {
   "cell_type": "code",
   "execution_count": 5,
   "id": "bdc0f72b",
   "metadata": {
    "execution": {
     "iopub.execute_input": "2025-05-14T10:16:36.447631Z",
     "iopub.status.busy": "2025-05-14T10:16:36.447291Z",
     "iopub.status.idle": "2025-05-14T10:16:37.572177Z",
     "shell.execute_reply": "2025-05-14T10:16:37.571079Z"
    },
    "papermill": {
     "duration": 1.131562,
     "end_time": "2025-05-14T10:16:37.573999",
     "exception": false,
     "start_time": "2025-05-14T10:16:36.442437",
     "status": "completed"
    },
    "tags": []
   },
   "outputs": [
    {
     "name": "stderr",
     "output_type": "stream",
     "text": [
      "/usr/local/lib/python3.11/dist-packages/google/cloud/bigquery/table.py:1727: UserWarning: BigQuery Storage module not found, fetch data with the REST endpoint instead.\n",
      "  warnings.warn(\n"
     ]
    },
    {
     "name": "stdout",
     "output_type": "stream",
     "text": [
      "   num_deleted_posts\n",
      "0                  0\n"
     ]
    }
   ],
   "source": [
    "deleted_posts_query  = \"\"\"\n",
    "                            SELECT COUNT(1) AS num_deleted_posts\n",
    "                            FROM `bigquery-public-data.hacker_news.full`\n",
    "                            WHERE deleted = True\n",
    "                     \n",
    "                            \"\"\"\n",
    "\n",
    "query_job = client.query(deleted_posts_query, job_config=safe_config)\n",
    "\n",
    "# API request - run the query, and return a pandas DataFrame\n",
    "deleted_post = query_job.to_dataframe()\n",
    "\n",
    "# View top few rows of results\n",
    "print(deleted_post)\n"
   ]
  },
  {
   "cell_type": "code",
   "execution_count": 6,
   "id": "e69df441",
   "metadata": {
    "execution": {
     "iopub.execute_input": "2025-05-14T10:16:37.584088Z",
     "iopub.status.busy": "2025-05-14T10:16:37.583733Z",
     "iopub.status.idle": "2025-05-14T10:16:37.591321Z",
     "shell.execute_reply": "2025-05-14T10:16:37.590431Z"
    },
    "papermill": {
     "duration": 0.01455,
     "end_time": "2025-05-14T10:16:37.593090",
     "exception": false,
     "start_time": "2025-05-14T10:16:37.578540",
     "status": "completed"
    },
    "tags": []
   },
   "outputs": [
    {
     "data": {
      "application/javascript": [
       "parent.postMessage({\"jupyterEvent\": \"custom.exercise_interaction\", \"data\": {\"outcomeType\": 1, \"valueTowardsCompletion\": 0.5, \"interactionType\": 1, \"questionType\": 1, \"questionId\": \"2_NumDeletedPosts\", \"learnToolsVersion\": \"0.3.5\", \"failureMessage\": \"\", \"exceptionClass\": \"\", \"trace\": \"\"}}, \"*\")"
      ],
      "text/plain": [
       "<IPython.core.display.Javascript object>"
      ]
     },
     "metadata": {},
     "output_type": "display_data"
    },
    {
     "data": {
      "text/markdown": [
       "<span style=\"color:#33cc33\">Correct</span>"
      ],
      "text/plain": [
       "Correct"
      ]
     },
     "metadata": {},
     "output_type": "display_data"
    }
   ],
   "source": [
    "num_deleted_posts = 0 # Put your answer here\n",
    "\n",
    "# Check your answer\n",
    "q_2.check()"
   ]
  },
  {
   "cell_type": "markdown",
   "id": "f4ca1ae6",
   "metadata": {
    "papermill": {
     "duration": 0.004046,
     "end_time": "2025-05-14T10:16:37.601548",
     "exception": false,
     "start_time": "2025-05-14T10:16:37.597502",
     "status": "completed"
    },
    "tags": []
   },
   "source": [
    "For the solution, uncomment the line below."
   ]
  },
  {
   "cell_type": "code",
   "execution_count": 7,
   "id": "4b11b6d1",
   "metadata": {
    "execution": {
     "iopub.execute_input": "2025-05-14T10:16:37.611595Z",
     "iopub.status.busy": "2025-05-14T10:16:37.611225Z",
     "iopub.status.idle": "2025-05-14T10:16:37.618988Z",
     "shell.execute_reply": "2025-05-14T10:16:37.618150Z"
    },
    "papermill": {
     "duration": 0.014531,
     "end_time": "2025-05-14T10:16:37.620330",
     "exception": false,
     "start_time": "2025-05-14T10:16:37.605799",
     "status": "completed"
    },
    "tags": []
   },
   "outputs": [
    {
     "data": {
      "application/javascript": [
       "parent.postMessage({\"jupyterEvent\": \"custom.exercise_interaction\", \"data\": {\"interactionType\": 3, \"questionType\": 1, \"questionId\": \"2_NumDeletedPosts\", \"learnToolsVersion\": \"0.3.5\", \"valueTowardsCompletion\": 0.0, \"failureMessage\": \"\", \"exceptionClass\": \"\", \"trace\": \"\", \"outcomeType\": 4}}, \"*\")"
      ],
      "text/plain": [
       "<IPython.core.display.Javascript object>"
      ]
     },
     "metadata": {},
     "output_type": "display_data"
    },
    {
     "data": {
      "text/markdown": [
       "<span style=\"color:#33cc99\">Solution:</span> \n",
       "```python\n",
       "\n",
       "# Query to determine how many posts were deleted\n",
       "deleted_posts_query = \"\"\"\n",
       "                      SELECT COUNT(1) AS num_deleted_posts\n",
       "                      FROM `bigquery-public-data.hacker_news.full`\n",
       "                      WHERE deleted = True\n",
       "                      \"\"\"\n",
       "                      \n",
       "# Set up the query\n",
       "query_job = client.query(deleted_posts_query)\n",
       "\n",
       "# API request - run the query, and return a pandas DataFrame\n",
       "deleted_posts = query_job.to_dataframe()\n",
       "\n",
       "# View results\n",
       "print(deleted_posts)\n",
       "\n",
       "num_deleted_posts = 0\n",
       "\n",
       "```"
      ],
      "text/plain": [
       "Solution: \n",
       "```python\n",
       "\n",
       "# Query to determine how many posts were deleted\n",
       "deleted_posts_query = \"\"\"\n",
       "                      SELECT COUNT(1) AS num_deleted_posts\n",
       "                      FROM `bigquery-public-data.hacker_news.full`\n",
       "                      WHERE deleted = True\n",
       "                      \"\"\"\n",
       "                      \n",
       "# Set up the query\n",
       "query_job = client.query(deleted_posts_query)\n",
       "\n",
       "# API request - run the query, and return a pandas DataFrame\n",
       "deleted_posts = query_job.to_dataframe()\n",
       "\n",
       "# View results\n",
       "print(deleted_posts)\n",
       "\n",
       "num_deleted_posts = 0\n",
       "\n",
       "```"
      ]
     },
     "metadata": {},
     "output_type": "display_data"
    }
   ],
   "source": [
    "q_2.solution()"
   ]
  },
  {
   "cell_type": "markdown",
   "id": "9d512fe0",
   "metadata": {
    "papermill": {
     "duration": 0.004105,
     "end_time": "2025-05-14T10:16:37.628959",
     "exception": false,
     "start_time": "2025-05-14T10:16:37.624854",
     "status": "completed"
    },
    "tags": []
   },
   "source": [
    "# Keep Going\n",
    "**[Click here](https://www.kaggle.com/dansbecker/order-by)** to move on and learn about the **ORDER BY** clause."
   ]
  },
  {
   "cell_type": "markdown",
   "id": "b1e4339c",
   "metadata": {
    "papermill": {
     "duration": 0.004034,
     "end_time": "2025-05-14T10:16:37.637208",
     "exception": false,
     "start_time": "2025-05-14T10:16:37.633174",
     "status": "completed"
    },
    "tags": []
   },
   "source": [
    "---\n",
    "\n",
    "\n",
    "\n",
    "\n",
    "*Have questions or comments? Visit the [course discussion forum](https://www.kaggle.com/learn/intro-to-sql/discussion) to chat with other learners.*"
   ]
  }
 ],
 "metadata": {
  "kaggle": {
   "accelerator": "none",
   "dataSources": [
    {
     "datasetId": 6057,
     "sourceId": 285982,
     "sourceType": "datasetVersion"
    }
   ],
   "isGpuEnabled": false,
   "isInternetEnabled": false,
   "language": "python",
   "sourceType": "notebook"
  },
  "kernelspec": {
   "display_name": "Python 3",
   "language": "python",
   "name": "python3"
  },
  "language_info": {
   "codemirror_mode": {
    "name": "ipython",
    "version": 3
   },
   "file_extension": ".py",
   "mimetype": "text/x-python",
   "name": "python",
   "nbconvert_exporter": "python",
   "pygments_lexer": "ipython3",
   "version": "3.11.11"
  },
  "papermill": {
   "default_parameters": {},
   "duration": 36.431152,
   "end_time": "2025-05-14T10:16:40.657873",
   "environment_variables": {},
   "exception": null,
   "input_path": "__notebook__.ipynb",
   "output_path": "__notebook__.ipynb",
   "parameters": {},
   "start_time": "2025-05-14T10:16:04.226721",
   "version": "2.6.0"
  }
 },
 "nbformat": 4,
 "nbformat_minor": 5
}
