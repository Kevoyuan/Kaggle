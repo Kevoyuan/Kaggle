{
 "cells": [
  {
   "cell_type": "markdown",
   "id": "e7f40c3a",
   "metadata": {
    "papermill": {
     "duration": 0.005885,
     "end_time": "2025-04-25T07:32:59.241427",
     "exception": false,
     "start_time": "2025-04-25T07:32:59.235542",
     "status": "completed"
    },
    "tags": []
   },
   "source": [
    "**This notebook is an exercise in the [SQL](https://www.kaggle.com/learn/intro-to-sql) course.  You can reference the tutorial at [this link](https://www.kaggle.com/dansbecker/joining-data).**\n",
    "\n",
    "---\n"
   ]
  },
  {
   "cell_type": "markdown",
   "id": "a7b83880",
   "metadata": {
    "papermill": {
     "duration": 0.005239,
     "end_time": "2025-04-25T07:32:59.252277",
     "exception": false,
     "start_time": "2025-04-25T07:32:59.247038",
     "status": "completed"
    },
    "tags": []
   },
   "source": [
    "# Introduction\n",
    "\n",
    "[Stack Overflow](https://stackoverflow.com/) is a widely beloved question and answer site for technical questions. You'll probably use it yourself as you keep using SQL (or any programming language). \n",
    "\n",
    "Their data is publicly available. What cool things do you think it would be useful for?\n",
    "\n",
    "Here's one idea:\n",
    "You could set up a service that identifies the Stack Overflow users who have demonstrated expertise with a specific technology by answering related questions about it, so someone could hire those experts for in-depth help.\n",
    "\n",
    "In this exercise, you'll write the SQL queries that might serve as the foundation for this type of service.\n",
    "\n",
    "As usual, run the following cell to set up our feedback system before moving on."
   ]
  },
  {
   "cell_type": "code",
   "execution_count": 1,
   "id": "544933fa",
   "metadata": {
    "execution": {
     "iopub.execute_input": "2025-04-25T07:32:59.263868Z",
     "iopub.status.busy": "2025-04-25T07:32:59.263557Z",
     "iopub.status.idle": "2025-04-25T07:33:37.136742Z",
     "shell.execute_reply": "2025-04-25T07:33:37.135809Z"
    },
    "papermill": {
     "duration": 37.886226,
     "end_time": "2025-04-25T07:33:37.143633",
     "exception": false,
     "start_time": "2025-04-25T07:32:59.257407",
     "status": "completed"
    },
    "tags": []
   },
   "outputs": [
    {
     "name": "stdout",
     "output_type": "stream",
     "text": [
      "Using Kaggle's public dataset BigQuery integration.\n"
     ]
    },
    {
     "name": "stderr",
     "output_type": "stream",
     "text": [
      "/usr/local/lib/python3.11/dist-packages/google/cloud/bigquery/table.py:1727: UserWarning: BigQuery Storage module not found, fetch data with the REST endpoint instead.\n",
      "  warnings.warn(\n"
     ]
    },
    {
     "name": "stdout",
     "output_type": "stream",
     "text": [
      "Setup Complete\n"
     ]
    }
   ],
   "source": [
    "# Set up feedback system\n",
    "from learntools.core import binder\n",
    "binder.bind(globals())\n",
    "from learntools.sql.ex6 import *\n",
    "print(\"Setup Complete\")"
   ]
  },
  {
   "cell_type": "markdown",
   "id": "7b29229e",
   "metadata": {
    "papermill": {
     "duration": 0.005164,
     "end_time": "2025-04-25T07:33:37.154230",
     "exception": false,
     "start_time": "2025-04-25T07:33:37.149066",
     "status": "completed"
    },
    "tags": []
   },
   "source": [
    "Run the next cell to fetch the `stackoverflow` dataset."
   ]
  },
  {
   "cell_type": "code",
   "execution_count": 2,
   "id": "b466bad3",
   "metadata": {
    "execution": {
     "iopub.execute_input": "2025-04-25T07:33:37.166296Z",
     "iopub.status.busy": "2025-04-25T07:33:37.165792Z",
     "iopub.status.idle": "2025-04-25T07:33:37.488990Z",
     "shell.execute_reply": "2025-04-25T07:33:37.488251Z"
    },
    "papermill": {
     "duration": 0.331212,
     "end_time": "2025-04-25T07:33:37.490655",
     "exception": false,
     "start_time": "2025-04-25T07:33:37.159443",
     "status": "completed"
    },
    "tags": []
   },
   "outputs": [
    {
     "name": "stdout",
     "output_type": "stream",
     "text": [
      "Using Kaggle's public dataset BigQuery integration.\n"
     ]
    }
   ],
   "source": [
    "from google.cloud import bigquery\n",
    "\n",
    "# Create a \"Client\" object\n",
    "client = bigquery.Client()\n",
    "\n",
    "# Construct a reference to the \"stackoverflow\" dataset\n",
    "dataset_ref = client.dataset(\"stackoverflow\", project=\"bigquery-public-data\")\n",
    "\n",
    "# API request - fetch the dataset\n",
    "dataset = client.get_dataset(dataset_ref)"
   ]
  },
  {
   "cell_type": "markdown",
   "id": "60063e20",
   "metadata": {
    "papermill": {
     "duration": 0.005277,
     "end_time": "2025-04-25T07:33:37.501427",
     "exception": false,
     "start_time": "2025-04-25T07:33:37.496150",
     "status": "completed"
    },
    "tags": []
   },
   "source": [
    "# Exercises\n",
    "\n",
    "### 1) Explore the data\n",
    "\n",
    "Before writing queries or **JOIN** clauses, you'll want to see what tables are available. \n",
    "\n",
    "*Hint*: Tab completion is helpful whenever you can't remember a command. Type `client.` and then hit the tab key. Don't forget the period before hitting tab."
   ]
  },
  {
   "cell_type": "code",
   "execution_count": 3,
   "id": "005cc163",
   "metadata": {
    "execution": {
     "iopub.execute_input": "2025-04-25T07:33:37.513556Z",
     "iopub.status.busy": "2025-04-25T07:33:37.513251Z",
     "iopub.status.idle": "2025-04-25T07:33:37.926608Z",
     "shell.execute_reply": "2025-04-25T07:33:37.925868Z"
    },
    "papermill": {
     "duration": 0.421179,
     "end_time": "2025-04-25T07:33:37.927933",
     "exception": false,
     "start_time": "2025-04-25T07:33:37.506754",
     "status": "completed"
    },
    "tags": []
   },
   "outputs": [
    {
     "name": "stdout",
     "output_type": "stream",
     "text": [
      "['badges', 'comments', 'post_history', 'post_links', 'posts_answers', 'posts_moderator_nomination', 'posts_orphaned_tag_wiki', 'posts_privilege_wiki', 'posts_questions', 'posts_tag_wiki', 'posts_tag_wiki_excerpt', 'posts_wiki_placeholder', 'stackoverflow_posts', 'tags', 'users', 'votes']\n"
     ]
    },
    {
     "data": {
      "application/javascript": [
       "parent.postMessage({\"jupyterEvent\": \"custom.exercise_interaction\", \"data\": {\"outcomeType\": 1, \"valueTowardsCompletion\": 0.16666666666666666, \"interactionType\": 1, \"questionType\": 1, \"questionId\": \"1_ListSOTables\", \"learnToolsVersion\": \"0.3.5\", \"failureMessage\": \"\", \"exceptionClass\": \"\", \"trace\": \"\"}}, \"*\")"
      ],
      "text/plain": [
       "<IPython.core.display.Javascript object>"
      ]
     },
     "metadata": {},
     "output_type": "display_data"
    },
    {
     "data": {
      "text/markdown": [
       "<span style=\"color:#33cc33\">Correct</span>"
      ],
      "text/plain": [
       "Correct"
      ]
     },
     "metadata": {},
     "output_type": "display_data"
    }
   ],
   "source": [
    "# Get a list of available tables \n",
    "tables = list(client.list_tables(dataset))\n",
    "list_of_tables = [table.table_id for table in tables] \n",
    "\n",
    "# Print your answer\n",
    "print(list_of_tables)\n",
    "\n",
    "# Check your answer\n",
    "q_1.check()"
   ]
  },
  {
   "cell_type": "markdown",
   "id": "89ab2ed0",
   "metadata": {
    "papermill": {
     "duration": 0.005266,
     "end_time": "2025-04-25T07:33:37.938873",
     "exception": false,
     "start_time": "2025-04-25T07:33:37.933607",
     "status": "completed"
    },
    "tags": []
   },
   "source": [
    "For the solution, uncomment the line below."
   ]
  },
  {
   "cell_type": "code",
   "execution_count": 4,
   "id": "4d47d481",
   "metadata": {
    "execution": {
     "iopub.execute_input": "2025-04-25T07:33:37.951598Z",
     "iopub.status.busy": "2025-04-25T07:33:37.951280Z",
     "iopub.status.idle": "2025-04-25T07:33:37.958270Z",
     "shell.execute_reply": "2025-04-25T07:33:37.957475Z"
    },
    "papermill": {
     "duration": 0.015058,
     "end_time": "2025-04-25T07:33:37.959628",
     "exception": false,
     "start_time": "2025-04-25T07:33:37.944570",
     "status": "completed"
    },
    "tags": []
   },
   "outputs": [
    {
     "data": {
      "application/javascript": [
       "parent.postMessage({\"jupyterEvent\": \"custom.exercise_interaction\", \"data\": {\"interactionType\": 3, \"questionType\": 1, \"questionId\": \"1_ListSOTables\", \"learnToolsVersion\": \"0.3.5\", \"valueTowardsCompletion\": 0.0, \"failureMessage\": \"\", \"exceptionClass\": \"\", \"trace\": \"\", \"outcomeType\": 4}}, \"*\")"
      ],
      "text/plain": [
       "<IPython.core.display.Javascript object>"
      ]
     },
     "metadata": {},
     "output_type": "display_data"
    },
    {
     "data": {
      "text/markdown": [
       "<span style=\"color:#33cc99\">Solution:</span> \n",
       "```python\n",
       "\n",
       "# Get a list of available tables \n",
       "tables = list(client.list_tables(dataset))\n",
       "list_of_tables = [table.table_id for table in tables] \n",
       "\n",
       "```"
      ],
      "text/plain": [
       "Solution: \n",
       "```python\n",
       "\n",
       "# Get a list of available tables \n",
       "tables = list(client.list_tables(dataset))\n",
       "list_of_tables = [table.table_id for table in tables] \n",
       "\n",
       "```"
      ]
     },
     "metadata": {},
     "output_type": "display_data"
    }
   ],
   "source": [
    "q_1.solution()"
   ]
  },
  {
   "cell_type": "markdown",
   "id": "8e5c45b4",
   "metadata": {
    "papermill": {
     "duration": 0.005555,
     "end_time": "2025-04-25T07:33:37.971463",
     "exception": false,
     "start_time": "2025-04-25T07:33:37.965908",
     "status": "completed"
    },
    "tags": []
   },
   "source": [
    "### 2) Review relevant tables\n",
    "\n",
    "If you are interested in people who answer questions on a given topic, the `posts_answers` table is a natural place to look. Run the following cell, and look at the output."
   ]
  },
  {
   "cell_type": "code",
   "execution_count": 5,
   "id": "8c59ea31",
   "metadata": {
    "execution": {
     "iopub.execute_input": "2025-04-25T07:33:37.984084Z",
     "iopub.status.busy": "2025-04-25T07:33:37.983750Z",
     "iopub.status.idle": "2025-04-25T07:33:38.869367Z",
     "shell.execute_reply": "2025-04-25T07:33:38.868445Z"
    },
    "papermill": {
     "duration": 0.893739,
     "end_time": "2025-04-25T07:33:38.870859",
     "exception": false,
     "start_time": "2025-04-25T07:33:37.977120",
     "status": "completed"
    },
    "tags": []
   },
   "outputs": [
    {
     "data": {
      "text/html": [
       "<div>\n",
       "<style scoped>\n",
       "    .dataframe tbody tr th:only-of-type {\n",
       "        vertical-align: middle;\n",
       "    }\n",
       "\n",
       "    .dataframe tbody tr th {\n",
       "        vertical-align: top;\n",
       "    }\n",
       "\n",
       "    .dataframe thead th {\n",
       "        text-align: right;\n",
       "    }\n",
       "</style>\n",
       "<table border=\"1\" class=\"dataframe\">\n",
       "  <thead>\n",
       "    <tr style=\"text-align: right;\">\n",
       "      <th></th>\n",
       "      <th>id</th>\n",
       "      <th>title</th>\n",
       "      <th>body</th>\n",
       "      <th>accepted_answer_id</th>\n",
       "      <th>answer_count</th>\n",
       "      <th>comment_count</th>\n",
       "      <th>community_owned_date</th>\n",
       "      <th>creation_date</th>\n",
       "      <th>favorite_count</th>\n",
       "      <th>last_activity_date</th>\n",
       "      <th>last_edit_date</th>\n",
       "      <th>last_editor_display_name</th>\n",
       "      <th>last_editor_user_id</th>\n",
       "      <th>owner_display_name</th>\n",
       "      <th>owner_user_id</th>\n",
       "      <th>parent_id</th>\n",
       "      <th>post_type_id</th>\n",
       "      <th>score</th>\n",
       "      <th>tags</th>\n",
       "      <th>view_count</th>\n",
       "    </tr>\n",
       "  </thead>\n",
       "  <tbody>\n",
       "    <tr>\n",
       "      <th>0</th>\n",
       "      <td>18</td>\n",
       "      <td>None</td>\n",
       "      <td>&lt;p&gt;For a table like this:&lt;/p&gt;\\n\\n&lt;pre&gt;&lt;code&gt;CR...</td>\n",
       "      <td>None</td>\n",
       "      <td>None</td>\n",
       "      <td>2</td>\n",
       "      <td>NaT</td>\n",
       "      <td>2008-08-01 05:12:44.193000+00:00</td>\n",
       "      <td>None</td>\n",
       "      <td>2016-06-02 05:56:26.060000+00:00</td>\n",
       "      <td>2016-06-02 05:56:26.060000+00:00</td>\n",
       "      <td>Jeff Atwood</td>\n",
       "      <td>126039</td>\n",
       "      <td>phpguy</td>\n",
       "      <td>&lt;NA&gt;</td>\n",
       "      <td>17</td>\n",
       "      <td>2</td>\n",
       "      <td>59</td>\n",
       "      <td>None</td>\n",
       "      <td>None</td>\n",
       "    </tr>\n",
       "    <tr>\n",
       "      <th>1</th>\n",
       "      <td>165</td>\n",
       "      <td>None</td>\n",
       "      <td>&lt;p&gt;You can use a &lt;a href=\"http://sharpdevelop....</td>\n",
       "      <td>None</td>\n",
       "      <td>None</td>\n",
       "      <td>0</td>\n",
       "      <td>NaT</td>\n",
       "      <td>2008-08-01 18:04:25.023000+00:00</td>\n",
       "      <td>None</td>\n",
       "      <td>2019-04-06 14:03:51.080000+00:00</td>\n",
       "      <td>2019-04-06 14:03:51.080000+00:00</td>\n",
       "      <td>None</td>\n",
       "      <td>1721793</td>\n",
       "      <td>user2189331</td>\n",
       "      <td>&lt;NA&gt;</td>\n",
       "      <td>145</td>\n",
       "      <td>2</td>\n",
       "      <td>10</td>\n",
       "      <td>None</td>\n",
       "      <td>None</td>\n",
       "    </tr>\n",
       "    <tr>\n",
       "      <th>2</th>\n",
       "      <td>1028</td>\n",
       "      <td>None</td>\n",
       "      <td>&lt;p&gt;The VB code looks something like this:&lt;/p&gt;\\...</td>\n",
       "      <td>None</td>\n",
       "      <td>None</td>\n",
       "      <td>0</td>\n",
       "      <td>NaT</td>\n",
       "      <td>2008-08-04 04:58:40.300000+00:00</td>\n",
       "      <td>None</td>\n",
       "      <td>2013-02-07 13:22:14.680000+00:00</td>\n",
       "      <td>2013-02-07 13:22:14.680000+00:00</td>\n",
       "      <td>None</td>\n",
       "      <td>395659</td>\n",
       "      <td>user2189331</td>\n",
       "      <td>&lt;NA&gt;</td>\n",
       "      <td>947</td>\n",
       "      <td>2</td>\n",
       "      <td>8</td>\n",
       "      <td>None</td>\n",
       "      <td>None</td>\n",
       "    </tr>\n",
       "    <tr>\n",
       "      <th>3</th>\n",
       "      <td>1073</td>\n",
       "      <td>None</td>\n",
       "      <td>&lt;p&gt;My first choice would be a dedicated heap t...</td>\n",
       "      <td>None</td>\n",
       "      <td>None</td>\n",
       "      <td>0</td>\n",
       "      <td>NaT</td>\n",
       "      <td>2008-08-04 07:51:02.997000+00:00</td>\n",
       "      <td>None</td>\n",
       "      <td>2015-09-01 17:32:32.120000+00:00</td>\n",
       "      <td>2015-09-01 17:32:32.120000+00:00</td>\n",
       "      <td>None</td>\n",
       "      <td>45459</td>\n",
       "      <td>user2189331</td>\n",
       "      <td>&lt;NA&gt;</td>\n",
       "      <td>1069</td>\n",
       "      <td>2</td>\n",
       "      <td>29</td>\n",
       "      <td>None</td>\n",
       "      <td>None</td>\n",
       "    </tr>\n",
       "    <tr>\n",
       "      <th>4</th>\n",
       "      <td>1260</td>\n",
       "      <td>None</td>\n",
       "      <td>&lt;p&gt;I found the answer. all you have to do is a...</td>\n",
       "      <td>None</td>\n",
       "      <td>None</td>\n",
       "      <td>0</td>\n",
       "      <td>NaT</td>\n",
       "      <td>2008-08-04 14:06:02.863000+00:00</td>\n",
       "      <td>None</td>\n",
       "      <td>2016-12-20 08:38:48.867000+00:00</td>\n",
       "      <td>2016-12-20 08:38:48.867000+00:00</td>\n",
       "      <td>None</td>\n",
       "      <td>1221571</td>\n",
       "      <td>Jin</td>\n",
       "      <td>&lt;NA&gt;</td>\n",
       "      <td>1229</td>\n",
       "      <td>2</td>\n",
       "      <td>1</td>\n",
       "      <td>None</td>\n",
       "      <td>None</td>\n",
       "    </tr>\n",
       "  </tbody>\n",
       "</table>\n",
       "</div>"
      ],
      "text/plain": [
       "     id title                                               body  \\\n",
       "0    18  None  <p>For a table like this:</p>\\n\\n<pre><code>CR...   \n",
       "1   165  None  <p>You can use a <a href=\"http://sharpdevelop....   \n",
       "2  1028  None  <p>The VB code looks something like this:</p>\\...   \n",
       "3  1073  None  <p>My first choice would be a dedicated heap t...   \n",
       "4  1260  None  <p>I found the answer. all you have to do is a...   \n",
       "\n",
       "  accepted_answer_id answer_count  comment_count community_owned_date  \\\n",
       "0               None         None              2                  NaT   \n",
       "1               None         None              0                  NaT   \n",
       "2               None         None              0                  NaT   \n",
       "3               None         None              0                  NaT   \n",
       "4               None         None              0                  NaT   \n",
       "\n",
       "                     creation_date favorite_count  \\\n",
       "0 2008-08-01 05:12:44.193000+00:00           None   \n",
       "1 2008-08-01 18:04:25.023000+00:00           None   \n",
       "2 2008-08-04 04:58:40.300000+00:00           None   \n",
       "3 2008-08-04 07:51:02.997000+00:00           None   \n",
       "4 2008-08-04 14:06:02.863000+00:00           None   \n",
       "\n",
       "                last_activity_date                   last_edit_date  \\\n",
       "0 2016-06-02 05:56:26.060000+00:00 2016-06-02 05:56:26.060000+00:00   \n",
       "1 2019-04-06 14:03:51.080000+00:00 2019-04-06 14:03:51.080000+00:00   \n",
       "2 2013-02-07 13:22:14.680000+00:00 2013-02-07 13:22:14.680000+00:00   \n",
       "3 2015-09-01 17:32:32.120000+00:00 2015-09-01 17:32:32.120000+00:00   \n",
       "4 2016-12-20 08:38:48.867000+00:00 2016-12-20 08:38:48.867000+00:00   \n",
       "\n",
       "  last_editor_display_name  last_editor_user_id owner_display_name  \\\n",
       "0              Jeff Atwood               126039             phpguy   \n",
       "1                     None              1721793        user2189331   \n",
       "2                     None               395659        user2189331   \n",
       "3                     None                45459        user2189331   \n",
       "4                     None              1221571                Jin   \n",
       "\n",
       "   owner_user_id  parent_id  post_type_id  score  tags view_count  \n",
       "0           <NA>         17             2     59  None       None  \n",
       "1           <NA>        145             2     10  None       None  \n",
       "2           <NA>        947             2      8  None       None  \n",
       "3           <NA>       1069             2     29  None       None  \n",
       "4           <NA>       1229             2      1  None       None  "
      ]
     },
     "execution_count": 5,
     "metadata": {},
     "output_type": "execute_result"
    }
   ],
   "source": [
    "# Construct a reference to the \"posts_answers\" table\n",
    "answers_table_ref = dataset_ref.table(\"posts_answers\")\n",
    "\n",
    "# API request - fetch the table\n",
    "answers_table = client.get_table(answers_table_ref)\n",
    "\n",
    "# Preview the first five lines of the \"posts_answers\" table\n",
    "client.list_rows(answers_table, max_results=5).to_dataframe()"
   ]
  },
  {
   "cell_type": "markdown",
   "id": "d33fef43",
   "metadata": {
    "papermill": {
     "duration": 0.005779,
     "end_time": "2025-04-25T07:33:38.883084",
     "exception": false,
     "start_time": "2025-04-25T07:33:38.877305",
     "status": "completed"
    },
    "tags": []
   },
   "source": [
    "It isn't clear yet how to find users who answered questions on any given topic. But `posts_answers` has a `parent_id` column. If you are familiar with the Stack Overflow site, you might figure out that the `parent_id` is the question each post is answering.\n",
    "\n",
    "Look at `posts_questions` using the cell below."
   ]
  },
  {
   "cell_type": "code",
   "execution_count": 6,
   "id": "90be330a",
   "metadata": {
    "execution": {
     "iopub.execute_input": "2025-04-25T07:33:38.897748Z",
     "iopub.status.busy": "2025-04-25T07:33:38.897104Z",
     "iopub.status.idle": "2025-04-25T07:33:40.859675Z",
     "shell.execute_reply": "2025-04-25T07:33:40.858717Z"
    },
    "papermill": {
     "duration": 1.971553,
     "end_time": "2025-04-25T07:33:40.861142",
     "exception": false,
     "start_time": "2025-04-25T07:33:38.889589",
     "status": "completed"
    },
    "tags": []
   },
   "outputs": [
    {
     "data": {
      "text/html": [
       "<div>\n",
       "<style scoped>\n",
       "    .dataframe tbody tr th:only-of-type {\n",
       "        vertical-align: middle;\n",
       "    }\n",
       "\n",
       "    .dataframe tbody tr th {\n",
       "        vertical-align: top;\n",
       "    }\n",
       "\n",
       "    .dataframe thead th {\n",
       "        text-align: right;\n",
       "    }\n",
       "</style>\n",
       "<table border=\"1\" class=\"dataframe\">\n",
       "  <thead>\n",
       "    <tr style=\"text-align: right;\">\n",
       "      <th></th>\n",
       "      <th>id</th>\n",
       "      <th>title</th>\n",
       "      <th>body</th>\n",
       "      <th>accepted_answer_id</th>\n",
       "      <th>answer_count</th>\n",
       "      <th>comment_count</th>\n",
       "      <th>community_owned_date</th>\n",
       "      <th>creation_date</th>\n",
       "      <th>favorite_count</th>\n",
       "      <th>last_activity_date</th>\n",
       "      <th>last_edit_date</th>\n",
       "      <th>last_editor_display_name</th>\n",
       "      <th>last_editor_user_id</th>\n",
       "      <th>owner_display_name</th>\n",
       "      <th>owner_user_id</th>\n",
       "      <th>parent_id</th>\n",
       "      <th>post_type_id</th>\n",
       "      <th>score</th>\n",
       "      <th>tags</th>\n",
       "      <th>view_count</th>\n",
       "    </tr>\n",
       "  </thead>\n",
       "  <tbody>\n",
       "    <tr>\n",
       "      <th>0</th>\n",
       "      <td>320268</td>\n",
       "      <td>Html.ActionLink doesn’t render # properly</td>\n",
       "      <td>&lt;p&gt;When using Html.ActionLink passing a string...</td>\n",
       "      <td>&lt;NA&gt;</td>\n",
       "      <td>0</td>\n",
       "      <td>0</td>\n",
       "      <td>NaT</td>\n",
       "      <td>2008-11-26 10:42:37.477000+00:00</td>\n",
       "      <td>0</td>\n",
       "      <td>2009-02-06 20:13:54.370000+00:00</td>\n",
       "      <td>NaT</td>\n",
       "      <td>None</td>\n",
       "      <td>&lt;NA&gt;</td>\n",
       "      <td>Paulo</td>\n",
       "      <td>&lt;NA&gt;</td>\n",
       "      <td>None</td>\n",
       "      <td>1</td>\n",
       "      <td>0</td>\n",
       "      <td>asp.net-mvc</td>\n",
       "      <td>390</td>\n",
       "    </tr>\n",
       "    <tr>\n",
       "      <th>1</th>\n",
       "      <td>324003</td>\n",
       "      <td>Primitive recursion</td>\n",
       "      <td>&lt;p&gt;how  will i define the function 'simplify' ...</td>\n",
       "      <td>&lt;NA&gt;</td>\n",
       "      <td>0</td>\n",
       "      <td>0</td>\n",
       "      <td>NaT</td>\n",
       "      <td>2008-11-27 15:12:37.497000+00:00</td>\n",
       "      <td>0</td>\n",
       "      <td>2012-09-25 19:54:40.597000+00:00</td>\n",
       "      <td>2012-09-25 19:54:40.597000+00:00</td>\n",
       "      <td>Marcin</td>\n",
       "      <td>1288</td>\n",
       "      <td>None</td>\n",
       "      <td>41000</td>\n",
       "      <td>None</td>\n",
       "      <td>1</td>\n",
       "      <td>0</td>\n",
       "      <td>haskell|lambda|functional-programming|lambda-c...</td>\n",
       "      <td>497</td>\n",
       "    </tr>\n",
       "    <tr>\n",
       "      <th>2</th>\n",
       "      <td>390605</td>\n",
       "      <td>While vs. Do While</td>\n",
       "      <td>&lt;p&gt;I've seen both the blocks of code in use se...</td>\n",
       "      <td>390608</td>\n",
       "      <td>0</td>\n",
       "      <td>0</td>\n",
       "      <td>NaT</td>\n",
       "      <td>2008-12-24 01:49:54.230000+00:00</td>\n",
       "      <td>2</td>\n",
       "      <td>2008-12-24 03:08:55.897000+00:00</td>\n",
       "      <td>NaT</td>\n",
       "      <td>None</td>\n",
       "      <td>&lt;NA&gt;</td>\n",
       "      <td>Unkwntech</td>\n",
       "      <td>115</td>\n",
       "      <td>None</td>\n",
       "      <td>1</td>\n",
       "      <td>0</td>\n",
       "      <td>language-agnostic|loops</td>\n",
       "      <td>11262</td>\n",
       "    </tr>\n",
       "    <tr>\n",
       "      <th>3</th>\n",
       "      <td>413246</td>\n",
       "      <td>Protect ASP.NET Source code</td>\n",
       "      <td>&lt;p&gt;Im currently doing some research in how to ...</td>\n",
       "      <td>&lt;NA&gt;</td>\n",
       "      <td>0</td>\n",
       "      <td>0</td>\n",
       "      <td>NaT</td>\n",
       "      <td>2009-01-05 14:23:51.040000+00:00</td>\n",
       "      <td>0</td>\n",
       "      <td>2009-03-24 21:30:22.370000+00:00</td>\n",
       "      <td>2009-01-05 14:42:28.257000+00:00</td>\n",
       "      <td>Tom Anderson</td>\n",
       "      <td>13502</td>\n",
       "      <td>Velnias</td>\n",
       "      <td>&lt;NA&gt;</td>\n",
       "      <td>None</td>\n",
       "      <td>1</td>\n",
       "      <td>0</td>\n",
       "      <td>asp.net|deployment|obfuscation</td>\n",
       "      <td>4823</td>\n",
       "    </tr>\n",
       "    <tr>\n",
       "      <th>4</th>\n",
       "      <td>454921</td>\n",
       "      <td>Difference between \"int[] myArray\" and \"int my...</td>\n",
       "      <td>&lt;blockquote&gt;\\n  &lt;p&gt;&lt;strong&gt;Possible Duplicate:...</td>\n",
       "      <td>454928</td>\n",
       "      <td>0</td>\n",
       "      <td>0</td>\n",
       "      <td>NaT</td>\n",
       "      <td>2009-01-18 10:22:52.177000+00:00</td>\n",
       "      <td>0</td>\n",
       "      <td>2009-01-18 10:30:50.930000+00:00</td>\n",
       "      <td>2017-05-23 11:49:26.567000+00:00</td>\n",
       "      <td>None</td>\n",
       "      <td>-1</td>\n",
       "      <td>Evan Fosmark</td>\n",
       "      <td>49701</td>\n",
       "      <td>None</td>\n",
       "      <td>1</td>\n",
       "      <td>0</td>\n",
       "      <td>java|arrays</td>\n",
       "      <td>798</td>\n",
       "    </tr>\n",
       "  </tbody>\n",
       "</table>\n",
       "</div>"
      ],
      "text/plain": [
       "       id                                              title  \\\n",
       "0  320268          Html.ActionLink doesn’t render # properly   \n",
       "1  324003                                Primitive recursion   \n",
       "2  390605                                 While vs. Do While   \n",
       "3  413246                        Protect ASP.NET Source code   \n",
       "4  454921  Difference between \"int[] myArray\" and \"int my...   \n",
       "\n",
       "                                                body  accepted_answer_id  \\\n",
       "0  <p>When using Html.ActionLink passing a string...                <NA>   \n",
       "1  <p>how  will i define the function 'simplify' ...                <NA>   \n",
       "2  <p>I've seen both the blocks of code in use se...              390608   \n",
       "3  <p>Im currently doing some research in how to ...                <NA>   \n",
       "4  <blockquote>\\n  <p><strong>Possible Duplicate:...              454928   \n",
       "\n",
       "   answer_count  comment_count community_owned_date  \\\n",
       "0             0              0                  NaT   \n",
       "1             0              0                  NaT   \n",
       "2             0              0                  NaT   \n",
       "3             0              0                  NaT   \n",
       "4             0              0                  NaT   \n",
       "\n",
       "                     creation_date  favorite_count  \\\n",
       "0 2008-11-26 10:42:37.477000+00:00               0   \n",
       "1 2008-11-27 15:12:37.497000+00:00               0   \n",
       "2 2008-12-24 01:49:54.230000+00:00               2   \n",
       "3 2009-01-05 14:23:51.040000+00:00               0   \n",
       "4 2009-01-18 10:22:52.177000+00:00               0   \n",
       "\n",
       "                last_activity_date                   last_edit_date  \\\n",
       "0 2009-02-06 20:13:54.370000+00:00                              NaT   \n",
       "1 2012-09-25 19:54:40.597000+00:00 2012-09-25 19:54:40.597000+00:00   \n",
       "2 2008-12-24 03:08:55.897000+00:00                              NaT   \n",
       "3 2009-03-24 21:30:22.370000+00:00 2009-01-05 14:42:28.257000+00:00   \n",
       "4 2009-01-18 10:30:50.930000+00:00 2017-05-23 11:49:26.567000+00:00   \n",
       "\n",
       "  last_editor_display_name  last_editor_user_id owner_display_name  \\\n",
       "0                     None                 <NA>              Paulo   \n",
       "1                   Marcin                 1288               None   \n",
       "2                     None                 <NA>          Unkwntech   \n",
       "3             Tom Anderson                13502            Velnias   \n",
       "4                     None                   -1       Evan Fosmark   \n",
       "\n",
       "   owner_user_id parent_id  post_type_id  score  \\\n",
       "0           <NA>      None             1      0   \n",
       "1          41000      None             1      0   \n",
       "2            115      None             1      0   \n",
       "3           <NA>      None             1      0   \n",
       "4          49701      None             1      0   \n",
       "\n",
       "                                                tags  view_count  \n",
       "0                                        asp.net-mvc         390  \n",
       "1  haskell|lambda|functional-programming|lambda-c...         497  \n",
       "2                            language-agnostic|loops       11262  \n",
       "3                     asp.net|deployment|obfuscation        4823  \n",
       "4                                        java|arrays         798  "
      ]
     },
     "execution_count": 6,
     "metadata": {},
     "output_type": "execute_result"
    }
   ],
   "source": [
    "# Construct a reference to the \"posts_questions\" table\n",
    "questions_table_ref = dataset_ref.table(\"posts_questions\")\n",
    "\n",
    "# API request - fetch the table\n",
    "questions_table = client.get_table(questions_table_ref)\n",
    "\n",
    "# Preview the first five lines of the \"posts_questions\" table\n",
    "client.list_rows(questions_table, max_results=5).to_dataframe()"
   ]
  },
  {
   "cell_type": "markdown",
   "id": "57b7284a",
   "metadata": {
    "papermill": {
     "duration": 0.006196,
     "end_time": "2025-04-25T07:33:40.874412",
     "exception": false,
     "start_time": "2025-04-25T07:33:40.868216",
     "status": "completed"
    },
    "tags": []
   },
   "source": [
    "Are there any fields that identify what topic or technology each question is about? If so, how could you find the IDs of users who answered questions about a specific topic?\n",
    "\n",
    "Think about it, and then check the solution by running the code in the next cell."
   ]
  },
  {
   "cell_type": "code",
   "execution_count": 7,
   "id": "a3ea5185",
   "metadata": {
    "execution": {
     "iopub.execute_input": "2025-04-25T07:33:40.888555Z",
     "iopub.status.busy": "2025-04-25T07:33:40.887873Z",
     "iopub.status.idle": "2025-04-25T07:33:40.894821Z",
     "shell.execute_reply": "2025-04-25T07:33:40.894117Z"
    },
    "papermill": {
     "duration": 0.015454,
     "end_time": "2025-04-25T07:33:40.896101",
     "exception": false,
     "start_time": "2025-04-25T07:33:40.880647",
     "status": "completed"
    },
    "tags": []
   },
   "outputs": [
    {
     "data": {
      "application/javascript": [
       "parent.postMessage({\"jupyterEvent\": \"custom.exercise_interaction\", \"data\": {\"interactionType\": 3, \"questionType\": 4, \"questionId\": \"2_HowToFindExperts\", \"learnToolsVersion\": \"0.3.5\", \"valueTowardsCompletion\": 0.0, \"failureMessage\": \"\", \"exceptionClass\": \"\", \"trace\": \"\", \"outcomeType\": 4}}, \"*\")"
      ],
      "text/plain": [
       "<IPython.core.display.Javascript object>"
      ]
     },
     "metadata": {},
     "output_type": "display_data"
    },
    {
     "data": {
      "text/markdown": [
       "<span style=\"color:#33cc99\">Solution:</span> \n",
       "`posts_questions` has a column called `tags` which lists the topics/technologies each question is about.\n",
       "\n",
       "`posts_answers` has a column called `parent_id` which identifies the ID of the question each answer is responding to.\n",
       "`posts_answers` also has an `owner_user_id` column which specifies the ID of the user who answered the question.\n",
       "\n",
       "You can join these two tables to:\n",
       "- determine the `tags` for each answer, and then\n",
       "- select the `owner_user_id` of the answers on the desired tag.\n",
       "\n",
       "This is exactly what you will do over the next few questions.\n"
      ],
      "text/plain": [
       "Solution: \n",
       "`posts_questions` has a column called `tags` which lists the topics/technologies each question is about.\n",
       "\n",
       "`posts_answers` has a column called `parent_id` which identifies the ID of the question each answer is responding to.\n",
       "`posts_answers` also has an `owner_user_id` column which specifies the ID of the user who answered the question.\n",
       "\n",
       "You can join these two tables to:\n",
       "- determine the `tags` for each answer, and then\n",
       "- select the `owner_user_id` of the answers on the desired tag.\n",
       "\n",
       "This is exactly what you will do over the next few questions."
      ]
     },
     "metadata": {},
     "output_type": "display_data"
    }
   ],
   "source": [
    "# Check your answer (Run this code cell to receive credit!)\n",
    "q_2.solution()"
   ]
  },
  {
   "cell_type": "markdown",
   "id": "d0fb136a",
   "metadata": {
    "papermill": {
     "duration": 0.006463,
     "end_time": "2025-04-25T07:33:40.909450",
     "exception": false,
     "start_time": "2025-04-25T07:33:40.902987",
     "status": "completed"
    },
    "tags": []
   },
   "source": [
    "### 3) Selecting the right questions\n",
    "\n",
    "A lot of this data is text. \n",
    "\n",
    "We'll explore one last technique in this course which you can apply to this text.\n",
    "\n",
    "A **WHERE** clause can limit your results to rows with certain text using the **LIKE** feature. For example, to select just the third row of the `pets` table from the tutorial, we could use the query in the picture below.\n",
    "\n",
    "![](https://storage.googleapis.com/kaggle-media/learn/images/RccsXBr.png) \n",
    "\n",
    "You can also use `%` as a \"wildcard\" for any number of characters. So you can also get the third row with:\n",
    "\n",
    "```\n",
    "query = \"\"\"\n",
    "        SELECT * \n",
    "        FROM `bigquery-public-data.pet_records.pets` \n",
    "        WHERE Name LIKE '%ipl%'\n",
    "        \"\"\"\n",
    "```\n",
    "\n",
    "Try this yourself. Write a query that selects the `id`, `title` and `owner_user_id` columns from the `posts_questions` table. \n",
    "- Restrict the results to rows that contain the word \"bigquery\" in the `tags` column. \n",
    "- Include rows where there is other text in addition to the word \"bigquery\" (e.g., if a row has a tag \"bigquery-sql\", your results should include that too)."
   ]
  },
  {
   "cell_type": "code",
   "execution_count": 8,
   "id": "c32617f3",
   "metadata": {
    "execution": {
     "iopub.execute_input": "2025-04-25T07:33:40.924190Z",
     "iopub.status.busy": "2025-04-25T07:33:40.923529Z",
     "iopub.status.idle": "2025-04-25T07:33:44.142691Z",
     "shell.execute_reply": "2025-04-25T07:33:44.141789Z"
    },
    "papermill": {
     "duration": 3.228249,
     "end_time": "2025-04-25T07:33:44.144236",
     "exception": false,
     "start_time": "2025-04-25T07:33:40.915987",
     "status": "completed"
    },
    "tags": []
   },
   "outputs": [
    {
     "name": "stderr",
     "output_type": "stream",
     "text": [
      "/usr/local/lib/python3.11/dist-packages/google/cloud/bigquery/table.py:1727: UserWarning: BigQuery Storage module not found, fetch data with the REST endpoint instead.\n",
      "  warnings.warn(\n"
     ]
    },
    {
     "name": "stdout",
     "output_type": "stream",
     "text": [
      "         id                                              title  owner_user_id\n",
      "0  64345717  Loop by array and union looped result in BigQuery       13304769\n",
      "1  64610766  BigQuery Transfer jobs from S3 stuck pending o...       14549617\n",
      "2  64383871  How to get sum of values in days intervals usi...       12472644\n",
      "3  64251948                BigQuery get row above empty column        4572124\n",
      "4  64323398  SQL: Remove part of string that is in another ...        6089137\n"
     ]
    },
    {
     "data": {
      "application/javascript": [
       "parent.postMessage({\"jupyterEvent\": \"custom.exercise_interaction\", \"data\": {\"outcomeType\": 1, \"valueTowardsCompletion\": 0.16666666666666666, \"interactionType\": 1, \"questionType\": 2, \"questionId\": \"3_SelectRightQuestions\", \"learnToolsVersion\": \"0.3.5\", \"failureMessage\": \"\", \"exceptionClass\": \"\", \"trace\": \"\"}}, \"*\")"
      ],
      "text/plain": [
       "<IPython.core.display.Javascript object>"
      ]
     },
     "metadata": {},
     "output_type": "display_data"
    },
    {
     "data": {
      "text/markdown": [
       "<span style=\"color:#33cc33\">Correct</span>"
      ],
      "text/plain": [
       "Correct"
      ]
     },
     "metadata": {},
     "output_type": "display_data"
    }
   ],
   "source": [
    "# Your code here\n",
    "questions_query = \"\"\"\n",
    "                  SELECT id, title, owner_user_id\n",
    "                  FROM `bigquery-public-data.stackoverflow.posts_questions`\n",
    "                  WHERE tags LIKE '%bigquery%'\n",
    "                  \"\"\"\n",
    "\n",
    "# Set up the query (cancel the query if it would use too much of \n",
    "# your quota, with the limit set to 1 GB)\n",
    "safe_config = bigquery.QueryJobConfig(maximum_bytes_billed=10**10)\n",
    "questions_query_job = client.query(questions_query, job_config=safe_config)\n",
    "\n",
    "# API request - run the query, and return a pandas DataFrame\n",
    "questions_results = questions_query_job.to_dataframe()\n",
    "\n",
    "# Preview results\n",
    "print(questions_results.head())\n",
    "\n",
    "# Check your answer\n",
    "q_3.check()"
   ]
  },
  {
   "cell_type": "markdown",
   "id": "8b80f2e0",
   "metadata": {
    "papermill": {
     "duration": 0.006762,
     "end_time": "2025-04-25T07:33:44.158167",
     "exception": false,
     "start_time": "2025-04-25T07:33:44.151405",
     "status": "completed"
    },
    "tags": []
   },
   "source": [
    "For a hint or the solution, uncomment the appropriate line below."
   ]
  },
  {
   "cell_type": "code",
   "execution_count": 9,
   "id": "50962c52",
   "metadata": {
    "execution": {
     "iopub.execute_input": "2025-04-25T07:33:44.173314Z",
     "iopub.status.busy": "2025-04-25T07:33:44.172915Z",
     "iopub.status.idle": "2025-04-25T07:33:44.182591Z",
     "shell.execute_reply": "2025-04-25T07:33:44.181759Z"
    },
    "papermill": {
     "duration": 0.018873,
     "end_time": "2025-04-25T07:33:44.184019",
     "exception": false,
     "start_time": "2025-04-25T07:33:44.165146",
     "status": "completed"
    },
    "tags": []
   },
   "outputs": [
    {
     "data": {
      "application/javascript": [
       "parent.postMessage({\"jupyterEvent\": \"custom.exercise_interaction\", \"data\": {\"interactionType\": 2, \"questionType\": 2, \"questionId\": \"3_SelectRightQuestions\", \"learnToolsVersion\": \"0.3.5\", \"valueTowardsCompletion\": 0.0, \"failureMessage\": \"\", \"exceptionClass\": \"\", \"trace\": \"\", \"outcomeType\": 4}}, \"*\")"
      ],
      "text/plain": [
       "<IPython.core.display.Javascript object>"
      ]
     },
     "metadata": {},
     "output_type": "display_data"
    },
    {
     "data": {
      "text/markdown": [
       "<span style=\"color:#3366cc\">Hint:</span> Your **WHERE** clause should be `WHERE tags LIKE '%bigquery%'`."
      ],
      "text/plain": [
       "Hint: Your **WHERE** clause should be `WHERE tags LIKE '%bigquery%'`."
      ]
     },
     "metadata": {},
     "output_type": "display_data"
    },
    {
     "data": {
      "application/javascript": [
       "parent.postMessage({\"jupyterEvent\": \"custom.exercise_interaction\", \"data\": {\"interactionType\": 3, \"questionType\": 2, \"questionId\": \"3_SelectRightQuestions\", \"learnToolsVersion\": \"0.3.5\", \"valueTowardsCompletion\": 0.0, \"failureMessage\": \"\", \"exceptionClass\": \"\", \"trace\": \"\", \"outcomeType\": 4}}, \"*\")"
      ],
      "text/plain": [
       "<IPython.core.display.Javascript object>"
      ]
     },
     "metadata": {},
     "output_type": "display_data"
    },
    {
     "data": {
      "text/markdown": [
       "<span style=\"color:#33cc99\">Solution:</span> \n",
       "```python\n",
       "\n",
       "questions_query = \"\"\"\n",
       "                  SELECT id, title, owner_user_id\n",
       "                  FROM `bigquery-public-data.stackoverflow.posts_questions`\n",
       "                  WHERE tags LIKE '%bigquery%'\n",
       "                  \"\"\"\n",
       "\n",
       "# Set up the query (cancel the query if it would use too much of \n",
       "# your quota, with the limit set to 1 GB)\n",
       "safe_config = bigquery.QueryJobConfig(maximum_bytes_billed=10**10)\n",
       "questions_query_job = client.query(questions_query, job_config=safe_config)\n",
       "\n",
       "# API request - run the query, and return a pandas DataFrame\n",
       "questions_results = questions_query_job.to_dataframe()\n",
       "\n",
       "```"
      ],
      "text/plain": [
       "Solution: \n",
       "```python\n",
       "\n",
       "questions_query = \"\"\"\n",
       "                  SELECT id, title, owner_user_id\n",
       "                  FROM `bigquery-public-data.stackoverflow.posts_questions`\n",
       "                  WHERE tags LIKE '%bigquery%'\n",
       "                  \"\"\"\n",
       "\n",
       "# Set up the query (cancel the query if it would use too much of \n",
       "# your quota, with the limit set to 1 GB)\n",
       "safe_config = bigquery.QueryJobConfig(maximum_bytes_billed=10**10)\n",
       "questions_query_job = client.query(questions_query, job_config=safe_config)\n",
       "\n",
       "# API request - run the query, and return a pandas DataFrame\n",
       "questions_results = questions_query_job.to_dataframe()\n",
       "\n",
       "```"
      ]
     },
     "metadata": {},
     "output_type": "display_data"
    }
   ],
   "source": [
    "q_3.hint()\n",
    "q_3.solution()"
   ]
  },
  {
   "cell_type": "markdown",
   "id": "70531c2f",
   "metadata": {
    "papermill": {
     "duration": 0.00719,
     "end_time": "2025-04-25T07:33:44.198909",
     "exception": false,
     "start_time": "2025-04-25T07:33:44.191719",
     "status": "completed"
    },
    "tags": []
   },
   "source": [
    "### 4) Your first join\n",
    "Now that you have a query to select questions on any given topic (in this case, you chose \"bigquery\"), you can find the answers to those questions with a **JOIN**.  \n",
    "\n",
    "Write a query that returns the `id`, `body` and `owner_user_id` columns from the `posts_answers` table for answers to \"bigquery\"-related questions. \n",
    "- You should have one row in your results for each answer to a question that has \"bigquery\" in the tags.  \n",
    "- Remember you can get the tags for a question from the `tags` column in the `posts_questions` table.\n",
    "\n",
    "Here's a reminder of what a **JOIN** looked like in the tutorial:\n",
    "```\n",
    "query = \"\"\"\n",
    "        SELECT p.Name AS Pet_Name, o.Name AS Owner_Name\n",
    "        FROM `bigquery-public-data.pet_records.pets` as p\n",
    "        INNER JOIN `bigquery-public-data.pet_records.owners` as o \n",
    "            ON p.ID = o.Pet_ID\n",
    "        \"\"\"\n",
    "```\n",
    "\n",
    "It may be useful to scroll up and review the first several rows of the `posts_answers` and `posts_questions` tables.  "
   ]
  },
  {
   "cell_type": "code",
   "execution_count": 10,
   "id": "d09528d3",
   "metadata": {
    "execution": {
     "iopub.execute_input": "2025-04-25T07:33:44.214986Z",
     "iopub.status.busy": "2025-04-25T07:33:44.214648Z",
     "iopub.status.idle": "2025-04-25T07:33:58.010839Z",
     "shell.execute_reply": "2025-04-25T07:33:58.009943Z"
    },
    "papermill": {
     "duration": 13.805994,
     "end_time": "2025-04-25T07:33:58.012255",
     "exception": false,
     "start_time": "2025-04-25T07:33:44.206261",
     "status": "completed"
    },
    "tags": []
   },
   "outputs": [
    {
     "name": "stderr",
     "output_type": "stream",
     "text": [
      "/usr/local/lib/python3.11/dist-packages/google/cloud/bigquery/table.py:1727: UserWarning: BigQuery Storage module not found, fetch data with the REST endpoint instead.\n",
      "  warnings.warn(\n"
     ]
    },
    {
     "name": "stdout",
     "output_type": "stream",
     "text": [
      "         id                                               body  owner_user_id\n",
      "0  19799128  <p>Using the JSON data format instead of CSV y...         876321\n",
      "1  19926948  <p>GoodData CloudConnect REST Connector has be...        2295202\n",
      "2  19990681  <p>Thank you for that. Answer resolved. Please...        2989892\n",
      "3  20130955  <p>Yes, you can now do this using the <code>al...        1371484\n",
      "4  20156840  <p>If you cannot access <a href=\"https://bigqu...        1371484\n"
     ]
    },
    {
     "name": "stderr",
     "output_type": "stream",
     "text": [
      "/usr/local/lib/python3.11/dist-packages/learntools/sql/ex6.py:129: FutureWarning: Calling int on a single element Series is deprecated and will raise a TypeError in the future. Use int(ser.iloc[0]) instead\n",
      "  correct_owner_user_id = int(answers_answer[answers_answer[\"id\"] == first_id][\"owner_user_id\"])\n",
      "/usr/local/lib/python3.11/dist-packages/learntools/sql/ex6.py:130: FutureWarning: Calling int on a single element Series is deprecated and will raise a TypeError in the future. Use int(ser.iloc[0]) instead\n",
      "  submitted_owner_user_id = int(results[results[\"id\"] == first_id][\"owner_user_id\"])\n"
     ]
    },
    {
     "data": {
      "application/javascript": [
       "parent.postMessage({\"jupyterEvent\": \"custom.exercise_interaction\", \"data\": {\"outcomeType\": 1, \"valueTowardsCompletion\": 0.16666666666666666, \"interactionType\": 1, \"questionType\": 2, \"questionId\": \"4_FirstJoin\", \"learnToolsVersion\": \"0.3.5\", \"failureMessage\": \"\", \"exceptionClass\": \"\", \"trace\": \"\"}}, \"*\")"
      ],
      "text/plain": [
       "<IPython.core.display.Javascript object>"
      ]
     },
     "metadata": {},
     "output_type": "display_data"
    },
    {
     "data": {
      "text/markdown": [
       "<span style=\"color:#33cc33\">Correct</span>"
      ],
      "text/plain": [
       "Correct"
      ]
     },
     "metadata": {},
     "output_type": "display_data"
    }
   ],
   "source": [
    "# Your code here\n",
    "answers_query = \"\"\"\n",
    "        SELECT a.id, a.body, a.owner_user_id\n",
    "        FROM `bigquery-public-data.stackoverflow.posts_questions` AS q\n",
    "        INNER JOIN `bigquery-public-data.stackoverflow.posts_answers` AS a \n",
    "            ON q.id = a.parent_id\n",
    "        WHERE q.tags LIKE '%bigquery%'\n",
    "        \"\"\"\n",
    "\n",
    "# Set up the query\n",
    "safe_config = bigquery.QueryJobConfig(maximum_bytes_billed=27*10**10)\n",
    "answers_query_job = client.query(answers_query, job_config=safe_config)\n",
    "\n",
    "# API request - run the query, and return a pandas DataFrame\n",
    "answers_results = answers_query_job.to_dataframe()\n",
    "\n",
    "# Preview results\n",
    "print(answers_results.head())\n",
    "\n",
    "# Check your answer\n",
    "q_4.check()"
   ]
  },
  {
   "cell_type": "markdown",
   "id": "c02181c5",
   "metadata": {
    "papermill": {
     "duration": 0.007824,
     "end_time": "2025-04-25T07:33:58.028173",
     "exception": false,
     "start_time": "2025-04-25T07:33:58.020349",
     "status": "completed"
    },
    "tags": []
   },
   "source": [
    "For a hint or the solution, uncomment the appropriate line below."
   ]
  },
  {
   "cell_type": "code",
   "execution_count": 11,
   "id": "36f21fef",
   "metadata": {
    "execution": {
     "iopub.execute_input": "2025-04-25T07:33:58.045581Z",
     "iopub.status.busy": "2025-04-25T07:33:58.044756Z",
     "iopub.status.idle": "2025-04-25T07:33:58.054490Z",
     "shell.execute_reply": "2025-04-25T07:33:58.053797Z"
    },
    "papermill": {
     "duration": 0.019704,
     "end_time": "2025-04-25T07:33:58.055818",
     "exception": false,
     "start_time": "2025-04-25T07:33:58.036114",
     "status": "completed"
    },
    "tags": []
   },
   "outputs": [
    {
     "data": {
      "application/javascript": [
       "parent.postMessage({\"jupyterEvent\": \"custom.exercise_interaction\", \"data\": {\"interactionType\": 2, \"questionType\": 2, \"questionId\": \"4_FirstJoin\", \"learnToolsVersion\": \"0.3.5\", \"valueTowardsCompletion\": 0.0, \"failureMessage\": \"\", \"exceptionClass\": \"\", \"trace\": \"\", \"outcomeType\": 4}}, \"*\")"
      ],
      "text/plain": [
       "<IPython.core.display.Javascript object>"
      ]
     },
     "metadata": {},
     "output_type": "display_data"
    },
    {
     "data": {
      "text/markdown": [
       "<span style=\"color:#3366cc\">Hint:</span> \n",
       "Do an **INNER JOIN** between `bigquery-public-data.stackoverflow.posts_questions` and `bigquery-public-data.stackoverflow.posts_answers`.\n",
       "\n",
       "Give `post_questions` an alias of `q`, and use `a` as an alias for `posts_answers`. The **ON** part of your join is `q.id = a.parent_id`.\n"
      ],
      "text/plain": [
       "Hint: \n",
       "Do an **INNER JOIN** between `bigquery-public-data.stackoverflow.posts_questions` and `bigquery-public-data.stackoverflow.posts_answers`.\n",
       "\n",
       "Give `post_questions` an alias of `q`, and use `a` as an alias for `posts_answers`. The **ON** part of your join is `q.id = a.parent_id`."
      ]
     },
     "metadata": {},
     "output_type": "display_data"
    },
    {
     "data": {
      "application/javascript": [
       "parent.postMessage({\"jupyterEvent\": \"custom.exercise_interaction\", \"data\": {\"interactionType\": 3, \"questionType\": 2, \"questionId\": \"4_FirstJoin\", \"learnToolsVersion\": \"0.3.5\", \"valueTowardsCompletion\": 0.0, \"failureMessage\": \"\", \"exceptionClass\": \"\", \"trace\": \"\", \"outcomeType\": 4}}, \"*\")"
      ],
      "text/plain": [
       "<IPython.core.display.Javascript object>"
      ]
     },
     "metadata": {},
     "output_type": "display_data"
    },
    {
     "data": {
      "text/markdown": [
       "<span style=\"color:#33cc99\">Solution:</span> \n",
       "```python\n",
       "\n",
       "answers_query = \"\"\"\n",
       "                SELECT a.id, a.body, a.owner_user_id\n",
       "                FROM `bigquery-public-data.stackoverflow.posts_questions` AS q \n",
       "                INNER JOIN `bigquery-public-data.stackoverflow.posts_answers` AS a\n",
       "                    ON q.id = a.parent_id\n",
       "                WHERE q.tags LIKE '%bigquery%'\n",
       "                \"\"\"\n",
       "                \n",
       "# Set up the query (cancel the query if it would use too much of \n",
       "# your quota, with the limit set to 27 GB)\n",
       "safe_config = bigquery.QueryJobConfig(maximum_bytes_billed=27*10**10)\n",
       "answers_query_job = client.query(answers_query, job_config=safe_config)\n",
       "\n",
       "# API request - run the query, and return a pandas DataFrame\n",
       "answers_results = answers_query_job.to_dataframe()\n",
       "\n",
       "```"
      ],
      "text/plain": [
       "Solution: \n",
       "```python\n",
       "\n",
       "answers_query = \"\"\"\n",
       "                SELECT a.id, a.body, a.owner_user_id\n",
       "                FROM `bigquery-public-data.stackoverflow.posts_questions` AS q \n",
       "                INNER JOIN `bigquery-public-data.stackoverflow.posts_answers` AS a\n",
       "                    ON q.id = a.parent_id\n",
       "                WHERE q.tags LIKE '%bigquery%'\n",
       "                \"\"\"\n",
       "                \n",
       "# Set up the query (cancel the query if it would use too much of \n",
       "# your quota, with the limit set to 27 GB)\n",
       "safe_config = bigquery.QueryJobConfig(maximum_bytes_billed=27*10**10)\n",
       "answers_query_job = client.query(answers_query, job_config=safe_config)\n",
       "\n",
       "# API request - run the query, and return a pandas DataFrame\n",
       "answers_results = answers_query_job.to_dataframe()\n",
       "\n",
       "```"
      ]
     },
     "metadata": {},
     "output_type": "display_data"
    }
   ],
   "source": [
    "q_4.hint()\n",
    "q_4.solution()"
   ]
  },
  {
   "cell_type": "markdown",
   "id": "16a681c0",
   "metadata": {
    "papermill": {
     "duration": 0.008027,
     "end_time": "2025-04-25T07:33:58.072410",
     "exception": false,
     "start_time": "2025-04-25T07:33:58.064383",
     "status": "completed"
    },
    "tags": []
   },
   "source": [
    "### 5) Answer the question\n",
    "You have the merge you need. But you want a list of users who have answered many questions... which requires more work beyond your previous result.\n",
    "\n",
    "Write a new query that has a single row for each user who answered at least one question with a tag that includes the string \"bigquery\". Your results should have two columns:\n",
    "- `user_id` - contains the `owner_user_id` column from the `posts_answers` table\n",
    "- `number_of_answers` - contains the number of answers the user has written to \"bigquery\"-related questions"
   ]
  },
  {
   "cell_type": "code",
   "execution_count": 12,
   "id": "d70a9ffa",
   "metadata": {
    "execution": {
     "iopub.execute_input": "2025-04-25T07:33:58.090203Z",
     "iopub.status.busy": "2025-04-25T07:33:58.089896Z",
     "iopub.status.idle": "2025-04-25T07:33:59.524399Z",
     "shell.execute_reply": "2025-04-25T07:33:59.523380Z"
    },
    "papermill": {
     "duration": 1.445104,
     "end_time": "2025-04-25T07:33:59.525831",
     "exception": false,
     "start_time": "2025-04-25T07:33:58.080727",
     "status": "completed"
    },
    "tags": []
   },
   "outputs": [
    {
     "name": "stderr",
     "output_type": "stream",
     "text": [
      "/usr/local/lib/python3.11/dist-packages/google/cloud/bigquery/table.py:1727: UserWarning: BigQuery Storage module not found, fetch data with the REST endpoint instead.\n",
      "  warnings.warn(\n"
     ]
    },
    {
     "name": "stdout",
     "output_type": "stream",
     "text": [
      "    user_id  number_of_answers\n",
      "0   4650934                  1\n",
      "1   2157547                  1\n",
      "2   3011380                  1\n",
      "3   9447598                  8\n",
      "4  15745884                 24\n"
     ]
    },
    {
     "name": "stderr",
     "output_type": "stream",
     "text": [
      "/usr/local/lib/python3.11/dist-packages/learntools/sql/ex6.py:199: FutureWarning: Calling int on a single element Series is deprecated and will raise a TypeError in the future. Use int(ser.iloc[0]) instead\n",
      "  correct_num = int(bigquery_experts_answer[bigquery_experts_answer[\"user_id\"] == first_id][\"number_of_answers\"])\n",
      "/usr/local/lib/python3.11/dist-packages/learntools/sql/ex6.py:200: FutureWarning: Calling int on a single element Series is deprecated and will raise a TypeError in the future. Use int(ser.iloc[0]) instead\n",
      "  submitted_num = int(results[results[\"user_id\"] == first_id][\"number_of_answers\"])\n"
     ]
    },
    {
     "data": {
      "application/javascript": [
       "parent.postMessage({\"jupyterEvent\": \"custom.exercise_interaction\", \"data\": {\"outcomeType\": 1, \"valueTowardsCompletion\": 0.16666666666666666, \"interactionType\": 1, \"questionType\": 2, \"questionId\": \"5_BigQueryExperts\", \"learnToolsVersion\": \"0.3.5\", \"failureMessage\": \"\", \"exceptionClass\": \"\", \"trace\": \"\"}}, \"*\")"
      ],
      "text/plain": [
       "<IPython.core.display.Javascript object>"
      ]
     },
     "metadata": {},
     "output_type": "display_data"
    },
    {
     "data": {
      "text/markdown": [
       "<span style=\"color:#33cc33\">Correct</span>"
      ],
      "text/plain": [
       "Correct"
      ]
     },
     "metadata": {},
     "output_type": "display_data"
    }
   ],
   "source": [
    "# Your code here\n",
    "bigquery_experts_query = \"\"\"\n",
    "                         SELECT a.owner_user_id AS user_id, COUNT(1) AS number_of_answers\n",
    "                         FROM `bigquery-public-data.stackoverflow.posts_questions` AS q\n",
    "                         INNER JOIN `bigquery-public-data.stackoverflow.posts_answers` AS a\n",
    "                             ON q.id = a.parent_Id\n",
    "                         WHERE q.tags LIKE '%bigquery%'\n",
    "                         GROUP BY a.owner_user_id\n",
    "                         \"\"\"\n",
    "\n",
    "# Set up the query (cancel the query if it would use too much of \n",
    "# your quota, with the limit set to 1 GB)\n",
    "safe_config = bigquery.QueryJobConfig(maximum_bytes_billed=10**10)\n",
    "bigquery_experts_query_job = client.query(bigquery_experts_query, job_config=safe_config)\n",
    "\n",
    "# API request - run the query, and return a pandas DataFrame\n",
    "bigquery_experts_results = bigquery_experts_query_job.to_dataframe()\n",
    "\n",
    "# Preview results\n",
    "print(bigquery_experts_results.head())\n",
    "\n",
    "# Check your answer\n",
    "q_5.check()"
   ]
  },
  {
   "cell_type": "markdown",
   "id": "e40046a1",
   "metadata": {
    "papermill": {
     "duration": 0.008536,
     "end_time": "2025-04-25T07:33:59.543336",
     "exception": false,
     "start_time": "2025-04-25T07:33:59.534800",
     "status": "completed"
    },
    "tags": []
   },
   "source": [
    "For a hint or the solution, uncomment the appropriate line below."
   ]
  },
  {
   "cell_type": "code",
   "execution_count": 13,
   "id": "78cfe593",
   "metadata": {
    "execution": {
     "iopub.execute_input": "2025-04-25T07:33:59.562118Z",
     "iopub.status.busy": "2025-04-25T07:33:59.561787Z",
     "iopub.status.idle": "2025-04-25T07:33:59.571891Z",
     "shell.execute_reply": "2025-04-25T07:33:59.571112Z"
    },
    "papermill": {
     "duration": 0.021011,
     "end_time": "2025-04-25T07:33:59.573344",
     "exception": false,
     "start_time": "2025-04-25T07:33:59.552333",
     "status": "completed"
    },
    "tags": []
   },
   "outputs": [
    {
     "data": {
      "application/javascript": [
       "parent.postMessage({\"jupyterEvent\": \"custom.exercise_interaction\", \"data\": {\"interactionType\": 2, \"questionType\": 2, \"questionId\": \"5_BigQueryExperts\", \"learnToolsVersion\": \"0.3.5\", \"valueTowardsCompletion\": 0.0, \"failureMessage\": \"\", \"exceptionClass\": \"\", \"trace\": \"\", \"outcomeType\": 4}}, \"*\")"
      ],
      "text/plain": [
       "<IPython.core.display.Javascript object>"
      ]
     },
     "metadata": {},
     "output_type": "display_data"
    },
    {
     "data": {
      "text/markdown": [
       "<span style=\"color:#3366cc\">Hint:</span> Start with `SELECT a.owner_user_id AS user_id, COUNT(1) AS number_of_answers`"
      ],
      "text/plain": [
       "Hint: Start with `SELECT a.owner_user_id AS user_id, COUNT(1) AS number_of_answers`"
      ]
     },
     "metadata": {},
     "output_type": "display_data"
    },
    {
     "data": {
      "application/javascript": [
       "parent.postMessage({\"jupyterEvent\": \"custom.exercise_interaction\", \"data\": {\"interactionType\": 3, \"questionType\": 2, \"questionId\": \"5_BigQueryExperts\", \"learnToolsVersion\": \"0.3.5\", \"valueTowardsCompletion\": 0.0, \"failureMessage\": \"\", \"exceptionClass\": \"\", \"trace\": \"\", \"outcomeType\": 4}}, \"*\")"
      ],
      "text/plain": [
       "<IPython.core.display.Javascript object>"
      ]
     },
     "metadata": {},
     "output_type": "display_data"
    },
    {
     "data": {
      "text/markdown": [
       "<span style=\"color:#33cc99\">Solution:</span> \n",
       "```python\n",
       "\n",
       "bigquery_experts_query = \"\"\"\n",
       "                         SELECT a.owner_user_id AS user_id, COUNT(1) AS number_of_answers\n",
       "                         FROM `bigquery-public-data.stackoverflow.posts_questions` AS q\n",
       "                         INNER JOIN `bigquery-public-data.stackoverflow.posts_answers` AS a\n",
       "                             ON q.id = a.parent_Id\n",
       "                         WHERE q.tags LIKE '%bigquery%'\n",
       "                         GROUP BY a.owner_user_id\n",
       "                         \"\"\"\n",
       "\n",
       "# Set up the query (cancel the query if it would use too much of \n",
       "# your quota, with the limit set to 1 GB)\n",
       "safe_config = bigquery.QueryJobConfig(maximum_bytes_billed=10**10)\n",
       "bigquery_experts_query_job = client.query(bigquery_experts_query, job_config=safe_config)\n",
       "\n",
       "# API request - run the query, and return a pandas DataFrame\n",
       "bigquery_experts_results = bigquery_experts_query_job.to_dataframe()\n",
       "\n",
       "```"
      ],
      "text/plain": [
       "Solution: \n",
       "```python\n",
       "\n",
       "bigquery_experts_query = \"\"\"\n",
       "                         SELECT a.owner_user_id AS user_id, COUNT(1) AS number_of_answers\n",
       "                         FROM `bigquery-public-data.stackoverflow.posts_questions` AS q\n",
       "                         INNER JOIN `bigquery-public-data.stackoverflow.posts_answers` AS a\n",
       "                             ON q.id = a.parent_Id\n",
       "                         WHERE q.tags LIKE '%bigquery%'\n",
       "                         GROUP BY a.owner_user_id\n",
       "                         \"\"\"\n",
       "\n",
       "# Set up the query (cancel the query if it would use too much of \n",
       "# your quota, with the limit set to 1 GB)\n",
       "safe_config = bigquery.QueryJobConfig(maximum_bytes_billed=10**10)\n",
       "bigquery_experts_query_job = client.query(bigquery_experts_query, job_config=safe_config)\n",
       "\n",
       "# API request - run the query, and return a pandas DataFrame\n",
       "bigquery_experts_results = bigquery_experts_query_job.to_dataframe()\n",
       "\n",
       "```"
      ]
     },
     "metadata": {},
     "output_type": "display_data"
    }
   ],
   "source": [
    "q_5.hint()\n",
    "q_5.solution()"
   ]
  },
  {
   "cell_type": "markdown",
   "id": "4ed0a9bb",
   "metadata": {
    "papermill": {
     "duration": 0.008852,
     "end_time": "2025-04-25T07:33:59.591838",
     "exception": false,
     "start_time": "2025-04-25T07:33:59.582986",
     "status": "completed"
    },
    "tags": []
   },
   "source": [
    "### 6) Building a more generally useful service\n",
    "\n",
    "How could you convert what you've done to a general function a website could call on the backend to get experts on any topic?  \n",
    "\n",
    "Think about it and then check the solution below."
   ]
  },
  {
   "cell_type": "code",
   "execution_count": 14,
   "id": "c2813f80",
   "metadata": {
    "execution": {
     "iopub.execute_input": "2025-04-25T07:33:59.612231Z",
     "iopub.status.busy": "2025-04-25T07:33:59.611465Z",
     "iopub.status.idle": "2025-04-25T07:33:59.618533Z",
     "shell.execute_reply": "2025-04-25T07:33:59.617801Z"
    },
    "papermill": {
     "duration": 0.018622,
     "end_time": "2025-04-25T07:33:59.619857",
     "exception": false,
     "start_time": "2025-04-25T07:33:59.601235",
     "status": "completed"
    },
    "tags": []
   },
   "outputs": [
    {
     "data": {
      "application/javascript": [
       "parent.postMessage({\"jupyterEvent\": \"custom.exercise_interaction\", \"data\": {\"interactionType\": 3, \"questionType\": 4, \"questionId\": \"6_GeneralizeExpertFinder\", \"learnToolsVersion\": \"0.3.5\", \"valueTowardsCompletion\": 0.0, \"failureMessage\": \"\", \"exceptionClass\": \"\", \"trace\": \"\", \"outcomeType\": 4}}, \"*\")"
      ],
      "text/plain": [
       "<IPython.core.display.Javascript object>"
      ]
     },
     "metadata": {},
     "output_type": "display_data"
    },
    {
     "data": {
      "text/markdown": [
       "<span style=\"color:#33cc99\">Solution:</span> \n",
       "```python\n",
       "\n",
       "def expert_finder(topic, client):\n",
       "    '''\n",
       "    Returns a DataFrame with the user IDs who have written Stack Overflow answers on a topic.\n",
       "\n",
       "    Inputs:\n",
       "        topic: A string with the topic of interest\n",
       "        client: A Client object that specifies the connection to the Stack Overflow dataset\n",
       "\n",
       "    Outputs:\n",
       "        results: A DataFrame with columns for user_id and number_of_answers. Follows similar logic to bigquery_experts_results shown above.\n",
       "    '''\n",
       "    my_query = \"\"\"\n",
       "               SELECT a.owner_user_id AS user_id, COUNT(1) AS number_of_answers\n",
       "               FROM `bigquery-public-data.stackoverflow.posts_questions` AS q\n",
       "               INNER JOIN `bigquery-public-data.stackoverflow.posts_answers` AS a\n",
       "                   ON q.id = a.parent_Id\n",
       "               WHERE q.tags like '%{topic}%'\n",
       "               GROUP BY a.owner_user_id\n",
       "               \"\"\"\n",
       "               \n",
       "    # Set up the query (a real service would have good error handling for \n",
       "    # queries that scan too much data)\n",
       "    safe_config = bigquery.QueryJobConfig(maximum_bytes_billed=10**10)      \n",
       "    my_query_job = client.query(my_query, job_config=safe_config)\n",
       "    \n",
       "    # API request - run the query, and return a pandas DataFrame\n",
       "    results = my_query_job.to_dataframe()\n",
       "\n",
       "    return results\n",
       "\n",
       "```"
      ],
      "text/plain": [
       "Solution: \n",
       "```python\n",
       "\n",
       "def expert_finder(topic, client):\n",
       "    '''\n",
       "    Returns a DataFrame with the user IDs who have written Stack Overflow answers on a topic.\n",
       "\n",
       "    Inputs:\n",
       "        topic: A string with the topic of interest\n",
       "        client: A Client object that specifies the connection to the Stack Overflow dataset\n",
       "\n",
       "    Outputs:\n",
       "        results: A DataFrame with columns for user_id and number_of_answers. Follows similar logic to bigquery_experts_results shown above.\n",
       "    '''\n",
       "    my_query = \"\"\"\n",
       "               SELECT a.owner_user_id AS user_id, COUNT(1) AS number_of_answers\n",
       "               FROM `bigquery-public-data.stackoverflow.posts_questions` AS q\n",
       "               INNER JOIN `bigquery-public-data.stackoverflow.posts_answers` AS a\n",
       "                   ON q.id = a.parent_Id\n",
       "               WHERE q.tags like '%{topic}%'\n",
       "               GROUP BY a.owner_user_id\n",
       "               \"\"\"\n",
       "               \n",
       "    # Set up the query (a real service would have good error handling for \n",
       "    # queries that scan too much data)\n",
       "    safe_config = bigquery.QueryJobConfig(maximum_bytes_billed=10**10)      \n",
       "    my_query_job = client.query(my_query, job_config=safe_config)\n",
       "    \n",
       "    # API request - run the query, and return a pandas DataFrame\n",
       "    results = my_query_job.to_dataframe()\n",
       "\n",
       "    return results\n",
       "\n",
       "```"
      ]
     },
     "metadata": {},
     "output_type": "display_data"
    }
   ],
   "source": [
    "# Check your answer (Run this code cell to receive credit!)\n",
    "q_6.solution()"
   ]
  },
  {
   "cell_type": "markdown",
   "id": "fa904094",
   "metadata": {
    "papermill": {
     "duration": 0.009175,
     "end_time": "2025-04-25T07:33:59.639854",
     "exception": false,
     "start_time": "2025-04-25T07:33:59.630679",
     "status": "completed"
    },
    "tags": []
   },
   "source": [
    "# Congratulations!\n",
    "\n",
    "You know all the key components to use BigQuery and SQL effectively. Your SQL skills are sufficient to unlock many of the world's largest datasets.\n",
    "\n",
    "Want to go play with your new powers?  Kaggle has BigQuery datasets available [here](https://www.kaggle.com/datasets?fileType=bigQuery)."
   ]
  },
  {
   "cell_type": "markdown",
   "id": "65e5a972",
   "metadata": {
    "papermill": {
     "duration": 0.009147,
     "end_time": "2025-04-25T07:33:59.658507",
     "exception": false,
     "start_time": "2025-04-25T07:33:59.649360",
     "status": "completed"
    },
    "tags": []
   },
   "source": [
    "---\n",
    "\n",
    "\n",
    "\n",
    "\n",
    "*Have questions or comments? Visit the [course discussion forum](https://www.kaggle.com/learn/intro-to-sql/discussion) to chat with other learners.*"
   ]
  }
 ],
 "metadata": {
  "kaggle": {
   "accelerator": "none",
   "dataSources": [
    {
     "datasetId": 22685,
     "sourceId": 337535,
     "sourceType": "datasetVersion"
    }
   ],
   "isGpuEnabled": false,
   "isInternetEnabled": false,
   "language": "python",
   "sourceType": "notebook"
  },
  "kernelspec": {
   "display_name": "Python 3",
   "language": "python",
   "name": "python3"
  },
  "language_info": {
   "codemirror_mode": {
    "name": "ipython",
    "version": 3
   },
   "file_extension": ".py",
   "mimetype": "text/x-python",
   "name": "python",
   "nbconvert_exporter": "python",
   "pygments_lexer": "ipython3",
   "version": "3.11.11"
  },
  "papermill": {
   "default_parameters": {},
   "duration": 68.159958,
   "end_time": "2025-04-25T07:34:02.525702",
   "environment_variables": {},
   "exception": null,
   "input_path": "__notebook__.ipynb",
   "output_path": "__notebook__.ipynb",
   "parameters": {},
   "start_time": "2025-04-25T07:32:54.365744",
   "version": "2.6.0"
  }
 },
 "nbformat": 4,
 "nbformat_minor": 5
}
