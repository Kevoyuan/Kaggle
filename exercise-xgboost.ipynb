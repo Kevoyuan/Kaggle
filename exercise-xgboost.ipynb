{
 "cells": [
  {
   "cell_type": "markdown",
   "id": "ad2072cf",
   "metadata": {
    "papermill": {
     "duration": 0.004849,
     "end_time": "2022-08-31T14:36:04.719995",
     "exception": false,
     "start_time": "2022-08-31T14:36:04.715146",
     "status": "completed"
    },
    "tags": []
   },
   "source": [
    "**This notebook is an exercise in the [Intermediate Machine Learning](https://www.kaggle.com/learn/intermediate-machine-learning) course.  You can reference the tutorial at [this link](https://www.kaggle.com/alexisbcook/xgboost).**\n",
    "\n",
    "---\n"
   ]
  },
  {
   "cell_type": "markdown",
   "id": "f73d0a7f",
   "metadata": {
    "papermill": {
     "duration": 0.004099,
     "end_time": "2022-08-31T14:36:04.728877",
     "exception": false,
     "start_time": "2022-08-31T14:36:04.724778",
     "status": "completed"
    },
    "tags": []
   },
   "source": [
    "In this exercise, you will use your new knowledge to train a model with **gradient boosting**.\n",
    "\n",
    "# Setup\n",
    "\n",
    "The questions below will give you feedback on your work. Run the following cell to set up the feedback system."
   ]
  },
  {
   "cell_type": "code",
   "execution_count": 1,
   "id": "9342c36b",
   "metadata": {
    "execution": {
     "iopub.execute_input": "2022-08-31T14:36:04.739297Z",
     "iopub.status.busy": "2022-08-31T14:36:04.738560Z",
     "iopub.status.idle": "2022-08-31T14:36:06.967664Z",
     "shell.execute_reply": "2022-08-31T14:36:06.966361Z"
    },
    "papermill": {
     "duration": 2.238387,
     "end_time": "2022-08-31T14:36:06.971366",
     "exception": false,
     "start_time": "2022-08-31T14:36:04.732979",
     "status": "completed"
    },
    "tags": []
   },
   "outputs": [
    {
     "name": "stdout",
     "output_type": "stream",
     "text": [
      "Setup Complete\n"
     ]
    }
   ],
   "source": [
    "# Set up code checking\n",
    "import os\n",
    "if not os.path.exists(\"../input/train.csv\"):\n",
    "    os.symlink(\"../input/home-data-for-ml-course/train.csv\", \"../input/train.csv\")  \n",
    "    os.symlink(\"../input/home-data-for-ml-course/test.csv\", \"../input/test.csv\") \n",
    "from learntools.core import binder\n",
    "binder.bind(globals())\n",
    "from learntools.ml_intermediate.ex6 import *\n",
    "print(\"Setup Complete\")"
   ]
  },
  {
   "cell_type": "markdown",
   "id": "8ab83282",
   "metadata": {
    "papermill": {
     "duration": 0.003875,
     "end_time": "2022-08-31T14:36:06.980303",
     "exception": false,
     "start_time": "2022-08-31T14:36:06.976428",
     "status": "completed"
    },
    "tags": []
   },
   "source": [
    "You will work with the [Housing Prices Competition for Kaggle Learn Users](https://www.kaggle.com/c/home-data-for-ml-course) dataset from the previous exercise. \n",
    "\n",
    "![Ames Housing dataset image](https://i.imgur.com/lTJVG4e.png)\n",
    "\n",
    "Run the next code cell without changes to load the training and validation sets in `X_train`, `X_valid`, `y_train`, and `y_valid`.  The test set is loaded in `X_test`."
   ]
  },
  {
   "cell_type": "code",
   "execution_count": 2,
   "id": "a3787a13",
   "metadata": {
    "execution": {
     "iopub.execute_input": "2022-08-31T14:36:06.989466Z",
     "iopub.status.busy": "2022-08-31T14:36:06.989009Z",
     "iopub.status.idle": "2022-08-31T14:36:07.133529Z",
     "shell.execute_reply": "2022-08-31T14:36:07.132427Z"
    },
    "papermill": {
     "duration": 0.1519,
     "end_time": "2022-08-31T14:36:07.135965",
     "exception": false,
     "start_time": "2022-08-31T14:36:06.984065",
     "status": "completed"
    },
    "tags": []
   },
   "outputs": [],
   "source": [
    "import pandas as pd\n",
    "from sklearn.model_selection import train_test_split\n",
    "\n",
    "# Read the data\n",
    "X = pd.read_csv('../input/train.csv', index_col='Id')\n",
    "X_test_full = pd.read_csv('../input/test.csv', index_col='Id')\n",
    "\n",
    "# Remove rows with missing target, separate target from predictors\n",
    "X.dropna(axis=0, subset=['SalePrice'], inplace=True)\n",
    "y = X.SalePrice              \n",
    "X.drop(['SalePrice'], axis=1, inplace=True)\n",
    "\n",
    "# Break off validation set from training data\n",
    "X_train_full, X_valid_full, y_train, y_valid = train_test_split(X, y, train_size=0.8, test_size=0.2,\n",
    "                                                                random_state=0)\n",
    "\n",
    "# \"Cardinality\" means the number of unique values in a column\n",
    "# Select categorical columns with relatively low cardinality (convenient but arbitrary)\n",
    "low_cardinality_cols = [cname for cname in X_train_full.columns if X_train_full[cname].nunique() < 10 and \n",
    "                        X_train_full[cname].dtype == \"object\"]\n",
    "\n",
    "# Select numeric columns\n",
    "numeric_cols = [cname for cname in X_train_full.columns if X_train_full[cname].dtype in ['int64', 'float64']]\n",
    "\n",
    "# Keep selected columns only\n",
    "my_cols = low_cardinality_cols + numeric_cols\n",
    "X_train = X_train_full[my_cols].copy()\n",
    "X_valid = X_valid_full[my_cols].copy()\n",
    "X_test = X_test_full[my_cols].copy()\n",
    "\n",
    "# One-hot encode the data (to shorten the code, we use pandas)\n",
    "X_train = pd.get_dummies(X_train)\n",
    "X_valid = pd.get_dummies(X_valid)\n",
    "X_test = pd.get_dummies(X_test)\n",
    "X_train, X_valid = X_train.align(X_valid, join='left', axis=1)\n",
    "X_train, X_test = X_train.align(X_test, join='left', axis=1)"
   ]
  },
  {
   "cell_type": "markdown",
   "id": "a3b10041",
   "metadata": {
    "papermill": {
     "duration": 0.004113,
     "end_time": "2022-08-31T14:36:07.144538",
     "exception": false,
     "start_time": "2022-08-31T14:36:07.140425",
     "status": "completed"
    },
    "tags": []
   },
   "source": [
    "# Step 1: Build model\n",
    "\n",
    "### Part A\n",
    "\n",
    "In this step, you'll build and train your first model with gradient boosting.\n",
    "\n",
    "- Begin by setting `my_model_1` to an XGBoost model.  Use the [XGBRegressor](https://xgboost.readthedocs.io/en/latest/python/python_api.html#xgboost.XGBRegressor) class, and set the random seed to 0 (`random_state=0`).  **Leave all other parameters as default.**\n",
    "- Then, fit the model to the training data in `X_train` and `y_train`."
   ]
  },
  {
   "cell_type": "code",
   "execution_count": 3,
   "id": "b4976109",
   "metadata": {
    "execution": {
     "iopub.execute_input": "2022-08-31T14:36:07.154397Z",
     "iopub.status.busy": "2022-08-31T14:36:07.154046Z",
     "iopub.status.idle": "2022-08-31T14:36:07.946781Z",
     "shell.execute_reply": "2022-08-31T14:36:07.946001Z"
    },
    "papermill": {
     "duration": 0.800166,
     "end_time": "2022-08-31T14:36:07.948878",
     "exception": false,
     "start_time": "2022-08-31T14:36:07.148712",
     "status": "completed"
    },
    "tags": []
   },
   "outputs": [
    {
     "data": {
      "application/javascript": [
       "parent.postMessage({\"jupyterEvent\": \"custom.exercise_interaction\", \"data\": {\"outcomeType\": 1, \"valueTowardsCompletion\": 0.5, \"interactionType\": 1, \"questionType\": 2, \"questionId\": \"1.1_Model1A\", \"learnToolsVersion\": \"0.3.4\", \"failureMessage\": \"\", \"exceptionClass\": \"\", \"trace\": \"\"}}, \"*\")"
      ],
      "text/plain": [
       "<IPython.core.display.Javascript object>"
      ]
     },
     "metadata": {},
     "output_type": "display_data"
    },
    {
     "data": {
      "text/markdown": [
       "<span style=\"color:#33cc33\">Correct</span>"
      ],
      "text/plain": [
       "Correct"
      ]
     },
     "metadata": {},
     "output_type": "display_data"
    }
   ],
   "source": [
    "from xgboost import XGBRegressor\n",
    "\n",
    "# Define the model\n",
    "my_model_1 = XGBRegressor(random_state=0) # Your code here\n",
    "\n",
    "# Fit the model\n",
    "my_model_1.fit(X_train, y_train) # Your code here\n",
    "\n",
    "# Check your answer\n",
    "step_1.a.check()"
   ]
  },
  {
   "cell_type": "code",
   "execution_count": 4,
   "id": "b52ed936",
   "metadata": {
    "execution": {
     "iopub.execute_input": "2022-08-31T14:36:07.960015Z",
     "iopub.status.busy": "2022-08-31T14:36:07.959677Z",
     "iopub.status.idle": "2022-08-31T14:36:07.967176Z",
     "shell.execute_reply": "2022-08-31T14:36:07.966226Z"
    },
    "papermill": {
     "duration": 0.015107,
     "end_time": "2022-08-31T14:36:07.968973",
     "exception": false,
     "start_time": "2022-08-31T14:36:07.953866",
     "status": "completed"
    },
    "tags": []
   },
   "outputs": [
    {
     "data": {
      "application/javascript": [
       "parent.postMessage({\"jupyterEvent\": \"custom.exercise_interaction\", \"data\": {\"interactionType\": 3, \"questionType\": 2, \"questionId\": \"1.1_Model1A\", \"learnToolsVersion\": \"0.3.4\", \"valueTowardsCompletion\": 0.0, \"failureMessage\": \"\", \"exceptionClass\": \"\", \"trace\": \"\", \"outcomeType\": 4}}, \"*\")"
      ],
      "text/plain": [
       "<IPython.core.display.Javascript object>"
      ]
     },
     "metadata": {},
     "output_type": "display_data"
    },
    {
     "data": {
      "text/markdown": [
       "<span style=\"color:#33cc99\">Solution:</span> \n",
       "```python\n",
       "# Define the model\n",
       "my_model_1 = XGBRegressor(random_state=0)\n",
       "\n",
       "# Fit the model\n",
       "my_model_1.fit(X_train, y_train)\n",
       "\n",
       "```"
      ],
      "text/plain": [
       "Solution: \n",
       "```python\n",
       "# Define the model\n",
       "my_model_1 = XGBRegressor(random_state=0)\n",
       "\n",
       "# Fit the model\n",
       "my_model_1.fit(X_train, y_train)\n",
       "\n",
       "```"
      ]
     },
     "metadata": {},
     "output_type": "display_data"
    }
   ],
   "source": [
    "# Lines below will give you a hint or solution code\n",
    "#step_1.a.hint()\n",
    "step_1.a.solution()"
   ]
  },
  {
   "cell_type": "markdown",
   "id": "11629b07",
   "metadata": {
    "papermill": {
     "duration": 0.004656,
     "end_time": "2022-08-31T14:36:07.978658",
     "exception": false,
     "start_time": "2022-08-31T14:36:07.974002",
     "status": "completed"
    },
    "tags": []
   },
   "source": [
    "### Part B\n",
    "\n",
    "Set `predictions_1` to the model's predictions for the validation data.  Recall that the validation features are stored in `X_valid`."
   ]
  },
  {
   "cell_type": "code",
   "execution_count": 5,
   "id": "db54e07b",
   "metadata": {
    "execution": {
     "iopub.execute_input": "2022-08-31T14:36:07.989771Z",
     "iopub.status.busy": "2022-08-31T14:36:07.989266Z",
     "iopub.status.idle": "2022-08-31T14:36:08.008907Z",
     "shell.execute_reply": "2022-08-31T14:36:08.008073Z"
    },
    "papermill": {
     "duration": 0.027726,
     "end_time": "2022-08-31T14:36:08.011032",
     "exception": false,
     "start_time": "2022-08-31T14:36:07.983306",
     "status": "completed"
    },
    "tags": []
   },
   "outputs": [
    {
     "data": {
      "application/javascript": [
       "parent.postMessage({\"jupyterEvent\": \"custom.exercise_interaction\", \"data\": {\"outcomeType\": 1, \"valueTowardsCompletion\": 0.5, \"interactionType\": 1, \"questionType\": 2, \"questionId\": \"1.2_Model1B\", \"learnToolsVersion\": \"0.3.4\", \"failureMessage\": \"\", \"exceptionClass\": \"\", \"trace\": \"\"}}, \"*\")"
      ],
      "text/plain": [
       "<IPython.core.display.Javascript object>"
      ]
     },
     "metadata": {},
     "output_type": "display_data"
    },
    {
     "data": {
      "text/markdown": [
       "<span style=\"color:#33cc33\">Correct</span>"
      ],
      "text/plain": [
       "Correct"
      ]
     },
     "metadata": {},
     "output_type": "display_data"
    }
   ],
   "source": [
    "from sklearn.metrics import mean_absolute_error\n",
    "\n",
    "# Get predictions\n",
    "predictions_1 = my_model_1.predict(X_valid) # Your code here\n",
    "\n",
    "# Check your answer\n",
    "step_1.b.check()"
   ]
  },
  {
   "cell_type": "code",
   "execution_count": 6,
   "id": "ee7649b1",
   "metadata": {
    "execution": {
     "iopub.execute_input": "2022-08-31T14:36:08.024342Z",
     "iopub.status.busy": "2022-08-31T14:36:08.023984Z",
     "iopub.status.idle": "2022-08-31T14:36:08.028183Z",
     "shell.execute_reply": "2022-08-31T14:36:08.027497Z"
    },
    "papermill": {
     "duration": 0.013295,
     "end_time": "2022-08-31T14:36:08.030603",
     "exception": false,
     "start_time": "2022-08-31T14:36:08.017308",
     "status": "completed"
    },
    "tags": []
   },
   "outputs": [],
   "source": [
    "# Lines below will give you a hint or solution code\n",
    "#step_1.b.hint()\n",
    "#step_1.b.solution()"
   ]
  },
  {
   "cell_type": "markdown",
   "id": "50f4c19a",
   "metadata": {
    "papermill": {
     "duration": 0.005157,
     "end_time": "2022-08-31T14:36:08.041205",
     "exception": false,
     "start_time": "2022-08-31T14:36:08.036048",
     "status": "completed"
    },
    "tags": []
   },
   "source": [
    "### Part C\n",
    "\n",
    "Finally, use the `mean_absolute_error()` function to calculate the mean absolute error (MAE) corresponding to the predictions for the validation set.  Recall that the labels for the validation data are stored in `y_valid`."
   ]
  },
  {
   "cell_type": "code",
   "execution_count": 7,
   "id": "d3eaacbd",
   "metadata": {
    "execution": {
     "iopub.execute_input": "2022-08-31T14:36:08.053559Z",
     "iopub.status.busy": "2022-08-31T14:36:08.053224Z",
     "iopub.status.idle": "2022-08-31T14:36:08.062673Z",
     "shell.execute_reply": "2022-08-31T14:36:08.061881Z"
    },
    "papermill": {
     "duration": 0.018063,
     "end_time": "2022-08-31T14:36:08.064630",
     "exception": false,
     "start_time": "2022-08-31T14:36:08.046567",
     "status": "completed"
    },
    "tags": []
   },
   "outputs": [
    {
     "name": "stdout",
     "output_type": "stream",
     "text": [
      "Mean Absolute Error: 17662.736729452055\n"
     ]
    },
    {
     "data": {
      "application/javascript": [
       "parent.postMessage({\"jupyterEvent\": \"custom.exercise_interaction\", \"data\": {\"outcomeType\": 1, \"valueTowardsCompletion\": 0.5, \"interactionType\": 1, \"questionType\": 2, \"questionId\": \"1.3_Model1C\", \"learnToolsVersion\": \"0.3.4\", \"failureMessage\": \"\", \"exceptionClass\": \"\", \"trace\": \"\"}}, \"*\")"
      ],
      "text/plain": [
       "<IPython.core.display.Javascript object>"
      ]
     },
     "metadata": {},
     "output_type": "display_data"
    },
    {
     "data": {
      "text/markdown": [
       "<span style=\"color:#33cc33\">Correct</span>"
      ],
      "text/plain": [
       "Correct"
      ]
     },
     "metadata": {},
     "output_type": "display_data"
    }
   ],
   "source": [
    "# Calculate MAE\n",
    "mae_1 = mean_absolute_error(predictions_1, y_valid) # Your code here\n",
    "\n",
    "# Uncomment to print MAE\n",
    "print(\"Mean Absolute Error:\" , mae_1)\n",
    "\n",
    "# Check your answer\n",
    "step_1.c.check()"
   ]
  },
  {
   "cell_type": "code",
   "execution_count": 8,
   "id": "ff25046d",
   "metadata": {
    "execution": {
     "iopub.execute_input": "2022-08-31T14:36:08.076863Z",
     "iopub.status.busy": "2022-08-31T14:36:08.076311Z",
     "iopub.status.idle": "2022-08-31T14:36:08.082572Z",
     "shell.execute_reply": "2022-08-31T14:36:08.081578Z"
    },
    "papermill": {
     "duration": 0.014369,
     "end_time": "2022-08-31T14:36:08.084296",
     "exception": false,
     "start_time": "2022-08-31T14:36:08.069927",
     "status": "completed"
    },
    "tags": []
   },
   "outputs": [
    {
     "data": {
      "application/javascript": [
       "parent.postMessage({\"jupyterEvent\": \"custom.exercise_interaction\", \"data\": {\"interactionType\": 3, \"questionType\": 2, \"questionId\": \"1.3_Model1C\", \"learnToolsVersion\": \"0.3.4\", \"valueTowardsCompletion\": 0.0, \"failureMessage\": \"\", \"exceptionClass\": \"\", \"trace\": \"\", \"outcomeType\": 4}}, \"*\")"
      ],
      "text/plain": [
       "<IPython.core.display.Javascript object>"
      ]
     },
     "metadata": {},
     "output_type": "display_data"
    },
    {
     "data": {
      "text/markdown": [
       "<span style=\"color:#33cc99\">Solution:</span> \n",
       "```python\n",
       "# Calculate MAE\n",
       "mae_1 = mean_absolute_error(predictions_1, y_valid)\n",
       "print(\"Mean Absolute Error:\" , mae_1)\n",
       "\n",
       "```"
      ],
      "text/plain": [
       "Solution: \n",
       "```python\n",
       "# Calculate MAE\n",
       "mae_1 = mean_absolute_error(predictions_1, y_valid)\n",
       "print(\"Mean Absolute Error:\" , mae_1)\n",
       "\n",
       "```"
      ]
     },
     "metadata": {},
     "output_type": "display_data"
    }
   ],
   "source": [
    "# Lines below will give you a hint or solution code\n",
    "#step_1.c.hint()\n",
    "step_1.c.solution()"
   ]
  },
  {
   "cell_type": "markdown",
   "id": "a987769b",
   "metadata": {
    "papermill": {
     "duration": 0.005221,
     "end_time": "2022-08-31T14:36:08.095546",
     "exception": false,
     "start_time": "2022-08-31T14:36:08.090325",
     "status": "completed"
    },
    "tags": []
   },
   "source": [
    "# Step 2: Improve the model\n",
    "\n",
    "Now that you've trained a default model as baseline, it's time to tinker with the parameters, to see if you can get better performance!\n",
    "- Begin by setting `my_model_2` to an XGBoost model, using the [XGBRegressor](https://xgboost.readthedocs.io/en/latest/python/python_api.html#xgboost.XGBRegressor) class.  Use what you learned in the previous tutorial to figure out how to change the default parameters (like `n_estimators` and `learning_rate`) to get better results.\n",
    "- Then, fit the model to the training data in `X_train` and `y_train`.\n",
    "- Set `predictions_2` to the model's predictions for the validation data.  Recall that the validation features are stored in `X_valid`.\n",
    "- Finally, use the `mean_absolute_error()` function to calculate the mean absolute error (MAE) corresponding to the predictions on the validation set.  Recall that the labels for the validation data are stored in `y_valid`.\n",
    "\n",
    "In order for this step to be marked correct, your model in `my_model_2` must attain lower MAE than the model in `my_model_1`. "
   ]
  },
  {
   "cell_type": "code",
   "execution_count": 9,
   "id": "c9b7540a",
   "metadata": {
    "execution": {
     "iopub.execute_input": "2022-08-31T14:36:08.108319Z",
     "iopub.status.busy": "2022-08-31T14:36:08.107779Z",
     "iopub.status.idle": "2022-08-31T14:36:08.114870Z",
     "shell.execute_reply": "2022-08-31T14:36:08.113634Z"
    },
    "papermill": {
     "duration": 0.015474,
     "end_time": "2022-08-31T14:36:08.116598",
     "exception": false,
     "start_time": "2022-08-31T14:36:08.101124",
     "status": "completed"
    },
    "tags": []
   },
   "outputs": [
    {
     "data": {
      "application/javascript": [
       "parent.postMessage({\"jupyterEvent\": \"custom.exercise_interaction\", \"data\": {\"outcomeType\": 4, \"interactionType\": 1, \"questionType\": 2, \"questionId\": \"2_Model2\", \"learnToolsVersion\": \"0.3.4\", \"valueTowardsCompletion\": 0.0, \"failureMessage\": \"\", \"exceptionClass\": \"\", \"trace\": \"\"}}, \"*\")"
      ],
      "text/plain": [
       "<IPython.core.display.Javascript object>"
      ]
     },
     "metadata": {},
     "output_type": "display_data"
    },
    {
     "data": {
      "text/markdown": [
       "<span style=\"color:#ccaa33\">Check:</span> When you've updated the starter code, `check()` will tell you whether your code is correct. You need to update the code that creates variables `my_model_2`, `predictions_2`, `mae_2`"
      ],
      "text/plain": [
       "Check: When you've updated the starter code, `check()` will tell you whether your code is correct. You need to update the code that creates variables `my_model_2`, `predictions_2`, `mae_2`"
      ]
     },
     "metadata": {},
     "output_type": "display_data"
    }
   ],
   "source": [
    "# Define the model\n",
    "my_model_2 = ____ # Your code here\n",
    "\n",
    "# Fit the model\n",
    "____ # Your code here\n",
    "\n",
    "# Get predictions\n",
    "predictions_2 = ____ # Your code here\n",
    "\n",
    "# Calculate MAE\n",
    "mae_2 = ____ # Your code here\n",
    "\n",
    "# Uncomment to print MAE\n",
    "# print(\"Mean Absolute Error:\" , mae_2)\n",
    "\n",
    "# Check your answer\n",
    "step_2.check()"
   ]
  },
  {
   "cell_type": "code",
   "execution_count": 10,
   "id": "9dc4b711",
   "metadata": {
    "execution": {
     "iopub.execute_input": "2022-08-31T14:36:08.130421Z",
     "iopub.status.busy": "2022-08-31T14:36:08.130056Z",
     "iopub.status.idle": "2022-08-31T14:36:08.134700Z",
     "shell.execute_reply": "2022-08-31T14:36:08.133187Z"
    },
    "papermill": {
     "duration": 0.014497,
     "end_time": "2022-08-31T14:36:08.137073",
     "exception": false,
     "start_time": "2022-08-31T14:36:08.122576",
     "status": "completed"
    },
    "tags": []
   },
   "outputs": [],
   "source": [
    "# Lines below will give you a hint or solution code\n",
    "#step_2.hint()\n",
    "#step_2.solution()"
   ]
  },
  {
   "cell_type": "markdown",
   "id": "57d6e997",
   "metadata": {
    "papermill": {
     "duration": 0.006118,
     "end_time": "2022-08-31T14:36:08.149559",
     "exception": false,
     "start_time": "2022-08-31T14:36:08.143441",
     "status": "completed"
    },
    "tags": []
   },
   "source": [
    "# Step 3: Break the model\n",
    "\n",
    "In this step, you will create a model that performs worse than the original model in Step 1.  This will help you to develop your intuition for how to set parameters.  You might even find that you accidentally get better performance, which is ultimately a nice problem to have and a valuable learning experience!\n",
    "- Begin by setting `my_model_3` to an XGBoost model, using the [XGBRegressor](https://xgboost.readthedocs.io/en/latest/python/python_api.html#xgboost.XGBRegressor) class.  Use what you learned in the previous tutorial to figure out how to change the default parameters (like `n_estimators` and `learning_rate`) to design a model to get high MAE.\n",
    "- Then, fit the model to the training data in `X_train` and `y_train`.\n",
    "- Set `predictions_3` to the model's predictions for the validation data.  Recall that the validation features are stored in `X_valid`.\n",
    "- Finally, use the `mean_absolute_error()` function to calculate the mean absolute error (MAE) corresponding to the predictions on the validation set.  Recall that the labels for the validation data are stored in `y_valid`.\n",
    "\n",
    "In order for this step to be marked correct, your model in `my_model_3` must attain higher MAE than the model in `my_model_1`. "
   ]
  },
  {
   "cell_type": "code",
   "execution_count": 11,
   "id": "3eb0d217",
   "metadata": {
    "execution": {
     "iopub.execute_input": "2022-08-31T14:36:08.163080Z",
     "iopub.status.busy": "2022-08-31T14:36:08.162747Z",
     "iopub.status.idle": "2022-08-31T14:36:08.171190Z",
     "shell.execute_reply": "2022-08-31T14:36:08.170161Z"
    },
    "papermill": {
     "duration": 0.018285,
     "end_time": "2022-08-31T14:36:08.173775",
     "exception": false,
     "start_time": "2022-08-31T14:36:08.155490",
     "status": "completed"
    },
    "tags": []
   },
   "outputs": [
    {
     "data": {
      "application/javascript": [
       "parent.postMessage({\"jupyterEvent\": \"custom.exercise_interaction\", \"data\": {\"outcomeType\": 4, \"interactionType\": 1, \"questionType\": 2, \"questionId\": \"3_Model3\", \"learnToolsVersion\": \"0.3.4\", \"valueTowardsCompletion\": 0.0, \"failureMessage\": \"\", \"exceptionClass\": \"\", \"trace\": \"\"}}, \"*\")"
      ],
      "text/plain": [
       "<IPython.core.display.Javascript object>"
      ]
     },
     "metadata": {},
     "output_type": "display_data"
    },
    {
     "data": {
      "text/markdown": [
       "<span style=\"color:#ccaa33\">Check:</span> When you've updated the starter code, `check()` will tell you whether your code is correct. You need to update the code that creates variables `my_model_3`, `predictions_3`, `mae_3`"
      ],
      "text/plain": [
       "Check: When you've updated the starter code, `check()` will tell you whether your code is correct. You need to update the code that creates variables `my_model_3`, `predictions_3`, `mae_3`"
      ]
     },
     "metadata": {},
     "output_type": "display_data"
    }
   ],
   "source": [
    "# Define the model\n",
    "my_model_3 = ____\n",
    "\n",
    "# Fit the model\n",
    "____ # Your code here\n",
    "\n",
    "# Get predictions\n",
    "predictions_3 = ____\n",
    "\n",
    "# Calculate MAE\n",
    "mae_3 = ____\n",
    "\n",
    "# Uncomment to print MAE\n",
    "# print(\"Mean Absolute Error:\" , mae_3)\n",
    "\n",
    "# Check your answer\n",
    "step_3.check()"
   ]
  },
  {
   "cell_type": "code",
   "execution_count": 12,
   "id": "665f646e",
   "metadata": {
    "execution": {
     "iopub.execute_input": "2022-08-31T14:36:08.188112Z",
     "iopub.status.busy": "2022-08-31T14:36:08.187021Z",
     "iopub.status.idle": "2022-08-31T14:36:08.191543Z",
     "shell.execute_reply": "2022-08-31T14:36:08.190576Z"
    },
    "papermill": {
     "duration": 0.013503,
     "end_time": "2022-08-31T14:36:08.193380",
     "exception": false,
     "start_time": "2022-08-31T14:36:08.179877",
     "status": "completed"
    },
    "tags": []
   },
   "outputs": [],
   "source": [
    "# Lines below will give you a hint or solution code\n",
    "#step_3.hint()\n",
    "#step_3.solution()"
   ]
  },
  {
   "cell_type": "markdown",
   "id": "c97fbd43",
   "metadata": {
    "papermill": {
     "duration": 0.006309,
     "end_time": "2022-08-31T14:36:08.205916",
     "exception": false,
     "start_time": "2022-08-31T14:36:08.199607",
     "status": "completed"
    },
    "tags": []
   },
   "source": [
    "# Keep going\n",
    "\n",
    "Continue to learn about **[data leakage](https://www.kaggle.com/alexisbcook/data-leakage)**.  This is an important issue for a data scientist to understand, and it has the potential to ruin your models in subtle and dangerous ways!"
   ]
  },
  {
   "cell_type": "markdown",
   "id": "27837669",
   "metadata": {
    "papermill": {
     "duration": 0.005843,
     "end_time": "2022-08-31T14:36:08.218552",
     "exception": false,
     "start_time": "2022-08-31T14:36:08.212709",
     "status": "completed"
    },
    "tags": []
   },
   "source": [
    "---\n",
    "\n",
    "\n",
    "\n",
    "\n",
    "*Have questions or comments? Visit the [course discussion forum](https://www.kaggle.com/learn/intermediate-machine-learning/discussion) to chat with other learners.*"
   ]
  }
 ],
 "metadata": {
  "kernelspec": {
   "display_name": "Python 3",
   "language": "python",
   "name": "python3"
  },
  "language_info": {
   "codemirror_mode": {
    "name": "ipython",
    "version": 3
   },
   "file_extension": ".py",
   "mimetype": "text/x-python",
   "name": "python",
   "nbconvert_exporter": "python",
   "pygments_lexer": "ipython3",
   "version": "3.7.12"
  },
  "papermill": {
   "default_parameters": {},
   "duration": 13.218974,
   "end_time": "2022-08-31T14:36:08.844678",
   "environment_variables": {},
   "exception": null,
   "input_path": "__notebook__.ipynb",
   "output_path": "__notebook__.ipynb",
   "parameters": {},
   "start_time": "2022-08-31T14:35:55.625704",
   "version": "2.3.4"
  }
 },
 "nbformat": 4,
 "nbformat_minor": 5
}
