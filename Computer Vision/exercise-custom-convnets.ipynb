{
 "cells": [
  {
   "cell_type": "markdown",
   "id": "0d813189",
   "metadata": {
    "papermill": {
     "duration": 0.00904,
     "end_time": "2022-10-16T15:35:04.627056",
     "exception": false,
     "start_time": "2022-10-16T15:35:04.618016",
     "status": "completed"
    },
    "tags": []
   },
   "source": [
    "**This notebook is an exercise in the [Computer Vision](https://www.kaggle.com/learn/computer-vision) course.  You can reference the tutorial at [this link](https://www.kaggle.com/ryanholbrook/custom-convnets).**\n",
    "\n",
    "---\n"
   ]
  },
  {
   "cell_type": "markdown",
   "id": "d0ac338d",
   "metadata": {
    "papermill": {
     "duration": 0.003884,
     "end_time": "2022-10-16T15:35:04.634862",
     "exception": false,
     "start_time": "2022-10-16T15:35:04.630978",
     "status": "completed"
    },
    "tags": []
   },
   "source": [
    "# Introduction #\n",
    "\n",
    "In these exercises, you'll build a custom convnet with performance competitive to the VGG16 model from Lesson 1.\n",
    "\n",
    "Get started by running the code cell below."
   ]
  },
  {
   "cell_type": "code",
   "execution_count": 1,
   "id": "d2206019",
   "metadata": {
    "execution": {
     "iopub.execute_input": "2022-10-16T15:35:04.644178Z",
     "iopub.status.busy": "2022-10-16T15:35:04.643613Z",
     "iopub.status.idle": "2022-10-16T15:35:20.247600Z",
     "shell.execute_reply": "2022-10-16T15:35:20.246618Z"
    },
    "papermill": {
     "duration": 15.612082,
     "end_time": "2022-10-16T15:35:20.250564",
     "exception": false,
     "start_time": "2022-10-16T15:35:04.638482",
     "status": "completed"
    },
    "tags": []
   },
   "outputs": [
    {
     "name": "stdout",
     "output_type": "stream",
     "text": [
      "Found 5117 files belonging to 2 classes.\n"
     ]
    },
    {
     "name": "stderr",
     "output_type": "stream",
     "text": [
      "2022-10-16 15:35:13.749014: I tensorflow/stream_executor/cuda/cuda_gpu_executor.cc:937] successful NUMA node read from SysFS had negative value (-1), but there must be at least one NUMA node, so returning NUMA node zero\n",
      "2022-10-16 15:35:13.847034: I tensorflow/stream_executor/cuda/cuda_gpu_executor.cc:937] successful NUMA node read from SysFS had negative value (-1), but there must be at least one NUMA node, so returning NUMA node zero\n",
      "2022-10-16 15:35:13.847883: I tensorflow/stream_executor/cuda/cuda_gpu_executor.cc:937] successful NUMA node read from SysFS had negative value (-1), but there must be at least one NUMA node, so returning NUMA node zero\n",
      "2022-10-16 15:35:13.856540: I tensorflow/core/platform/cpu_feature_guard.cc:142] This TensorFlow binary is optimized with oneAPI Deep Neural Network Library (oneDNN) to use the following CPU instructions in performance-critical operations:  AVX2 AVX512F FMA\n",
      "To enable them in other operations, rebuild TensorFlow with the appropriate compiler flags.\n",
      "2022-10-16 15:35:13.856906: I tensorflow/stream_executor/cuda/cuda_gpu_executor.cc:937] successful NUMA node read from SysFS had negative value (-1), but there must be at least one NUMA node, so returning NUMA node zero\n",
      "2022-10-16 15:35:13.858031: I tensorflow/stream_executor/cuda/cuda_gpu_executor.cc:937] successful NUMA node read from SysFS had negative value (-1), but there must be at least one NUMA node, so returning NUMA node zero\n",
      "2022-10-16 15:35:13.858920: I tensorflow/stream_executor/cuda/cuda_gpu_executor.cc:937] successful NUMA node read from SysFS had negative value (-1), but there must be at least one NUMA node, so returning NUMA node zero\n",
      "2022-10-16 15:35:16.100661: I tensorflow/stream_executor/cuda/cuda_gpu_executor.cc:937] successful NUMA node read from SysFS had negative value (-1), but there must be at least one NUMA node, so returning NUMA node zero\n",
      "2022-10-16 15:35:16.101522: I tensorflow/stream_executor/cuda/cuda_gpu_executor.cc:937] successful NUMA node read from SysFS had negative value (-1), but there must be at least one NUMA node, so returning NUMA node zero\n",
      "2022-10-16 15:35:16.102191: I tensorflow/stream_executor/cuda/cuda_gpu_executor.cc:937] successful NUMA node read from SysFS had negative value (-1), but there must be at least one NUMA node, so returning NUMA node zero\n",
      "2022-10-16 15:35:16.102839: I tensorflow/core/common_runtime/gpu/gpu_device.cc:1510] Created device /job:localhost/replica:0/task:0/device:GPU:0 with 15401 MB memory:  -> device: 0, name: Tesla P100-PCIE-16GB, pci bus id: 0000:00:04.0, compute capability: 6.0\n"
     ]
    },
    {
     "name": "stdout",
     "output_type": "stream",
     "text": [
      "Found 5051 files belonging to 2 classes.\n"
     ]
    }
   ],
   "source": [
    "# Setup feedback system\n",
    "from learntools.core import binder\n",
    "binder.bind(globals())\n",
    "from learntools.computer_vision.ex5 import *\n",
    "\n",
    "# Imports\n",
    "import os, warnings\n",
    "import matplotlib.pyplot as plt\n",
    "from matplotlib import gridspec\n",
    "\n",
    "import numpy as np\n",
    "import tensorflow as tf\n",
    "from tensorflow.keras.preprocessing import image_dataset_from_directory\n",
    "\n",
    "# Reproducability\n",
    "def set_seed(seed=31415):\n",
    "    np.random.seed(seed)\n",
    "    tf.random.set_seed(seed)\n",
    "    os.environ['PYTHONHASHSEED'] = str(seed)\n",
    "    os.environ['TF_DETERMINISTIC_OPS'] = '1'\n",
    "set_seed()\n",
    "\n",
    "# Set Matplotlib defaults\n",
    "plt.rc('figure', autolayout=True)\n",
    "plt.rc('axes', labelweight='bold', labelsize='large',\n",
    "       titleweight='bold', titlesize=18, titlepad=10)\n",
    "plt.rc('image', cmap='magma')\n",
    "warnings.filterwarnings(\"ignore\") # to clean up output cells\n",
    "\n",
    "\n",
    "# Load training and validation sets\n",
    "ds_train_ = image_dataset_from_directory(\n",
    "    '../input/car-or-truck/train',\n",
    "    labels='inferred',\n",
    "    label_mode='binary',\n",
    "    image_size=[128, 128],\n",
    "    interpolation='nearest',\n",
    "    batch_size=64,\n",
    "    shuffle=True,\n",
    ")\n",
    "ds_valid_ = image_dataset_from_directory(\n",
    "    '../input/car-or-truck/valid',\n",
    "    labels='inferred',\n",
    "    label_mode='binary',\n",
    "    image_size=[128, 128],\n",
    "    interpolation='nearest',\n",
    "    batch_size=64,\n",
    "    shuffle=False,\n",
    ")\n",
    "\n",
    "# Data Pipeline\n",
    "def convert_to_float(image, label):\n",
    "    image = tf.image.convert_image_dtype(image, dtype=tf.float32)\n",
    "    return image, label\n",
    "\n",
    "AUTOTUNE = tf.data.experimental.AUTOTUNE\n",
    "ds_train = (\n",
    "    ds_train_\n",
    "    .map(convert_to_float)\n",
    "    .cache()\n",
    "    .prefetch(buffer_size=AUTOTUNE)\n",
    ")\n",
    "ds_valid = (\n",
    "    ds_valid_\n",
    "    .map(convert_to_float)\n",
    "    .cache()\n",
    "    .prefetch(buffer_size=AUTOTUNE)\n",
    ")\n"
   ]
  },
  {
   "cell_type": "markdown",
   "id": "41248aa7",
   "metadata": {
    "papermill": {
     "duration": 0.005667,
     "end_time": "2022-10-16T15:35:20.262649",
     "exception": false,
     "start_time": "2022-10-16T15:35:20.256982",
     "status": "completed"
    },
    "tags": []
   },
   "source": [
    "# Design a Convnet #\n",
    "\n",
    "Let's design a convolutional network with a block architecture like we saw in the tutorial. The model from the example had three blocks, each with a single convolutional layer. Its performance on the \"Car or Truck\" problem was okay, but far from what the pretrained VGG16 could achieve. It might be that our simple network lacks the ability to extract sufficiently complex features. We could try improving the model either by adding more blocks or by adding convolutions to the blocks we have.\n",
    "\n",
    "Let's go with the second approach. We'll keep the three block structure, but increase the number of `Conv2D` layer in the second block to two, and in the third block to three.\n",
    "\n",
    "<figure>\n",
    "<!-- <img src=\"./images/2-convmodel-2.png\" width=\"250\" alt=\"Diagram of a convolutional model.\"> -->\n",
    "<img src=\"https://i.imgur.com/Vko6nCK.png\" width=\"250\" alt=\"Diagram of a convolutional model.\">\n",
    "</figure>\n",
    "\n",
    "# 1) Define Model #\n",
    "\n",
    "Given the diagram above, complete the model by defining the layers of the third block."
   ]
  },
  {
   "cell_type": "code",
   "execution_count": 2,
   "id": "59b128ed",
   "metadata": {
    "execution": {
     "iopub.execute_input": "2022-10-16T15:35:20.273242Z",
     "iopub.status.busy": "2022-10-16T15:35:20.272822Z",
     "iopub.status.idle": "2022-10-16T15:35:20.606412Z",
     "shell.execute_reply": "2022-10-16T15:35:20.605571Z"
    },
    "lines_to_next_cell": 0,
    "papermill": {
     "duration": 0.342045,
     "end_time": "2022-10-16T15:35:20.608962",
     "exception": false,
     "start_time": "2022-10-16T15:35:20.266917",
     "status": "completed"
    },
    "tags": []
   },
   "outputs": [
    {
     "data": {
      "application/javascript": [
       "parent.postMessage({\"jupyterEvent\": \"custom.exercise_interaction\", \"data\": {\"outcomeType\": 1, \"valueTowardsCompletion\": 0.3333333333333333, \"interactionType\": 1, \"questionType\": 2, \"questionId\": \"1_Q1\", \"learnToolsVersion\": \"0.3.4\", \"failureMessage\": \"\", \"exceptionClass\": \"\", \"trace\": \"\"}}, \"*\")"
      ],
      "text/plain": [
       "<IPython.core.display.Javascript object>"
      ]
     },
     "metadata": {},
     "output_type": "display_data"
    },
    {
     "data": {
      "text/markdown": [
       "<span style=\"color:#33cc33\">Correct</span>"
      ],
      "text/plain": [
       "Correct"
      ]
     },
     "metadata": {},
     "output_type": "display_data"
    }
   ],
   "source": [
    "from tensorflow import keras\n",
    "from tensorflow.keras import layers\n",
    "\n",
    "model = keras.Sequential([\n",
    "    # Block One\n",
    "    layers.Conv2D(filters=32, kernel_size=3, activation='relu', padding='same',\n",
    "                  input_shape=[128, 128, 3]),\n",
    "    layers.MaxPool2D(),\n",
    "\n",
    "    # Block Two\n",
    "    layers.Conv2D(filters=64, kernel_size=3, activation='relu', padding='same'),\n",
    "    layers.MaxPool2D(),\n",
    "\n",
    "    # Block Three\n",
    "    # YOUR CODE HERE\n",
    "    layers.Conv2D(filters=128, kernel_size=3, activation=\"relu\", padding='same'),\n",
    "    layers.Conv2D(filters=128, kernel_size=3, activation=\"relu\", padding='same'),\n",
    "    layers.MaxPool2D(),\n",
    "\n",
    "\n",
    "    # Head\n",
    "    layers.Flatten(),\n",
    "    layers.Dense(6, activation='relu'),\n",
    "    layers.Dropout(0.2),\n",
    "    layers.Dense(1, activation='sigmoid'),\n",
    "])\n",
    "\n",
    "# Check your answer\n",
    "q_1.check()"
   ]
  },
  {
   "cell_type": "code",
   "execution_count": 3,
   "id": "977ed5cd",
   "metadata": {
    "execution": {
     "iopub.execute_input": "2022-10-16T15:35:20.623532Z",
     "iopub.status.busy": "2022-10-16T15:35:20.623173Z",
     "iopub.status.idle": "2022-10-16T15:35:20.640419Z",
     "shell.execute_reply": "2022-10-16T15:35:20.639581Z"
    },
    "papermill": {
     "duration": 0.027823,
     "end_time": "2022-10-16T15:35:20.643874",
     "exception": false,
     "start_time": "2022-10-16T15:35:20.616051",
     "status": "completed"
    },
    "tags": []
   },
   "outputs": [
    {
     "data": {
      "application/javascript": [
       "parent.postMessage({\"jupyterEvent\": \"custom.exercise_interaction\", \"data\": {\"interactionType\": 2, \"questionType\": 2, \"questionId\": \"1_Q1\", \"learnToolsVersion\": \"0.3.4\", \"valueTowardsCompletion\": 0.0, \"failureMessage\": \"\", \"exceptionClass\": \"\", \"trace\": \"\", \"outcomeType\": 4}}, \"*\")"
      ],
      "text/plain": [
       "<IPython.core.display.Javascript object>"
      ]
     },
     "metadata": {},
     "output_type": "display_data"
    },
    {
     "data": {
      "text/markdown": [
       "<span style=\"color:#3366cc\">Hint:</span> You should add two `Conv2D` layers and then a `MaxPool2D` layer. They will be just the same as the other layers in the model, except for some of the parameter values."
      ],
      "text/plain": [
       "Hint: You should add two `Conv2D` layers and then a `MaxPool2D` layer. They will be just the same as the other layers in the model, except for some of the parameter values."
      ]
     },
     "metadata": {},
     "output_type": "display_data"
    },
    {
     "data": {
      "application/javascript": [
       "parent.postMessage({\"jupyterEvent\": \"custom.exercise_interaction\", \"data\": {\"interactionType\": 3, \"questionType\": 2, \"questionId\": \"1_Q1\", \"learnToolsVersion\": \"0.3.4\", \"valueTowardsCompletion\": 0.0, \"failureMessage\": \"\", \"exceptionClass\": \"\", \"trace\": \"\", \"outcomeType\": 4}}, \"*\")"
      ],
      "text/plain": [
       "<IPython.core.display.Javascript object>"
      ]
     },
     "metadata": {},
     "output_type": "display_data"
    },
    {
     "data": {
      "text/markdown": [
       "<span style=\"color:#33cc99\">Solution:</span> \n",
       "```python\n",
       "\n",
       "from tensorflow import keras\n",
       "from tensorflow.keras import layers\n",
       "\n",
       "model = keras.Sequential([\n",
       "    # Block One\n",
       "    layers.Conv2D(filters=32, kernel_size=3, activation='relu', padding='same',\n",
       "                  input_shape=[128, 128, 3]),\n",
       "    layers.MaxPool2D(),\n",
       "\n",
       "    # Block Two\n",
       "    layers.Conv2D(filters=64, kernel_size=3, activation='relu', padding='same'),\n",
       "    layers.MaxPool2D(),\n",
       "\n",
       "    # Block Three\n",
       "    layers.Conv2D(filters=128, kernel_size=3, activation='relu', padding='same'),\n",
       "    layers.Conv2D(filters=128, kernel_size=3, activation='relu', padding='same'),\n",
       "    layers.MaxPool2D(),\n",
       "\n",
       "    # Head\n",
       "    layers.Flatten(),\n",
       "    layers.Dense(6, activation='relu'),\n",
       "    layers.Dropout(0.2),\n",
       "    layers.Dense(1, activation='sigmoid'),\n",
       "])\n",
       "\n",
       "```"
      ],
      "text/plain": [
       "Solution: \n",
       "```python\n",
       "\n",
       "from tensorflow import keras\n",
       "from tensorflow.keras import layers\n",
       "\n",
       "model = keras.Sequential([\n",
       "    # Block One\n",
       "    layers.Conv2D(filters=32, kernel_size=3, activation='relu', padding='same',\n",
       "                  input_shape=[128, 128, 3]),\n",
       "    layers.MaxPool2D(),\n",
       "\n",
       "    # Block Two\n",
       "    layers.Conv2D(filters=64, kernel_size=3, activation='relu', padding='same'),\n",
       "    layers.MaxPool2D(),\n",
       "\n",
       "    # Block Three\n",
       "    layers.Conv2D(filters=128, kernel_size=3, activation='relu', padding='same'),\n",
       "    layers.Conv2D(filters=128, kernel_size=3, activation='relu', padding='same'),\n",
       "    layers.MaxPool2D(),\n",
       "\n",
       "    # Head\n",
       "    layers.Flatten(),\n",
       "    layers.Dense(6, activation='relu'),\n",
       "    layers.Dropout(0.2),\n",
       "    layers.Dense(1, activation='sigmoid'),\n",
       "])\n",
       "\n",
       "```"
      ]
     },
     "metadata": {},
     "output_type": "display_data"
    }
   ],
   "source": [
    "# Lines below will give you a hint or solution code\n",
    "q_1.hint()\n",
    "q_1.solution()"
   ]
  },
  {
   "cell_type": "markdown",
   "id": "58f487f3",
   "metadata": {
    "papermill": {
     "duration": 0.006431,
     "end_time": "2022-10-16T15:35:20.657147",
     "exception": false,
     "start_time": "2022-10-16T15:35:20.650716",
     "status": "completed"
    },
    "tags": []
   },
   "source": [
    "# 2) Compile #\n",
    "\n",
    "To prepare for training, compile the model with an appropriate loss and accuracy metric for the \"Car or Truck\" dataset."
   ]
  },
  {
   "cell_type": "code",
   "execution_count": 4,
   "id": "e12c2139",
   "metadata": {
    "execution": {
     "iopub.execute_input": "2022-10-16T15:35:20.672305Z",
     "iopub.status.busy": "2022-10-16T15:35:20.671885Z",
     "iopub.status.idle": "2022-10-16T15:35:20.695154Z",
     "shell.execute_reply": "2022-10-16T15:35:20.694293Z"
    },
    "lines_to_next_cell": 0,
    "papermill": {
     "duration": 0.033894,
     "end_time": "2022-10-16T15:35:20.697673",
     "exception": false,
     "start_time": "2022-10-16T15:35:20.663779",
     "status": "completed"
    },
    "tags": []
   },
   "outputs": [
    {
     "data": {
      "application/javascript": [
       "parent.postMessage({\"jupyterEvent\": \"custom.exercise_interaction\", \"data\": {\"outcomeType\": 1, \"valueTowardsCompletion\": 0.3333333333333333, \"interactionType\": 1, \"questionType\": 2, \"questionId\": \"2_Q2\", \"learnToolsVersion\": \"0.3.4\", \"failureMessage\": \"\", \"exceptionClass\": \"\", \"trace\": \"\"}}, \"*\")"
      ],
      "text/plain": [
       "<IPython.core.display.Javascript object>"
      ]
     },
     "metadata": {},
     "output_type": "display_data"
    },
    {
     "data": {
      "text/markdown": [
       "<span style=\"color:#33cc33\">Correct</span>"
      ],
      "text/plain": [
       "Correct"
      ]
     },
     "metadata": {},
     "output_type": "display_data"
    }
   ],
   "source": [
    "model.compile(\n",
    "    optimizer=tf.keras.optimizers.Adam(epsilon=0.01),\n",
    "    loss = \"binary_crossentropy\",\n",
    "    metrics=[\"binary_accuracy\"]\n",
    ")\n",
    "\n",
    "# Check your answer\n",
    "q_2.check()"
   ]
  },
  {
   "cell_type": "code",
   "execution_count": 5,
   "id": "efebd27e",
   "metadata": {
    "execution": {
     "iopub.execute_input": "2022-10-16T15:35:20.714205Z",
     "iopub.status.busy": "2022-10-16T15:35:20.713744Z",
     "iopub.status.idle": "2022-10-16T15:35:20.732459Z",
     "shell.execute_reply": "2022-10-16T15:35:20.731658Z"
    },
    "lines_to_next_cell": 0,
    "papermill": {
     "duration": 0.029267,
     "end_time": "2022-10-16T15:35:20.734709",
     "exception": false,
     "start_time": "2022-10-16T15:35:20.705442",
     "status": "completed"
    },
    "tags": []
   },
   "outputs": [
    {
     "data": {
      "application/javascript": [
       "parent.postMessage({\"jupyterEvent\": \"custom.exercise_interaction\", \"data\": {\"outcomeType\": 1, \"valueTowardsCompletion\": 0.3333333333333333, \"interactionType\": 1, \"questionType\": 2, \"questionId\": \"2_Q2\", \"learnToolsVersion\": \"0.3.4\", \"failureMessage\": \"\", \"exceptionClass\": \"\", \"trace\": \"\"}}, \"*\")"
      ],
      "text/plain": [
       "<IPython.core.display.Javascript object>"
      ]
     },
     "metadata": {},
     "output_type": "display_data"
    },
    {
     "data": {
      "text/markdown": [
       "<span style=\"color:#33cc33\">Correct</span>"
      ],
      "text/plain": [
       "Correct"
      ]
     },
     "metadata": {},
     "output_type": "display_data"
    }
   ],
   "source": [
    "model.compile(\n",
    "    optimizer=tf.keras.optimizers.Adam(epsilon=0.01),\n",
    "    loss='binary_crossentropy',\n",
    "    metrics=['binary_accuracy'],\n",
    ")\n",
    "q_2.assert_check_passed()"
   ]
  },
  {
   "cell_type": "code",
   "execution_count": 6,
   "id": "bde94aa8",
   "metadata": {
    "execution": {
     "iopub.execute_input": "2022-10-16T15:35:20.750640Z",
     "iopub.status.busy": "2022-10-16T15:35:20.750332Z",
     "iopub.status.idle": "2022-10-16T15:35:20.766845Z",
     "shell.execute_reply": "2022-10-16T15:35:20.766064Z"
    },
    "lines_to_next_cell": 0,
    "papermill": {
     "duration": 0.027882,
     "end_time": "2022-10-16T15:35:20.770186",
     "exception": false,
     "start_time": "2022-10-16T15:35:20.742304",
     "status": "completed"
    },
    "tags": []
   },
   "outputs": [
    {
     "data": {
      "application/javascript": [
       "parent.postMessage({\"jupyterEvent\": \"custom.exercise_interaction\", \"data\": {\"interactionType\": 2, \"questionType\": 2, \"questionId\": \"2_Q2\", \"learnToolsVersion\": \"0.3.4\", \"valueTowardsCompletion\": 0.0, \"failureMessage\": \"\", \"exceptionClass\": \"\", \"trace\": \"\", \"outcomeType\": 4}}, \"*\")"
      ],
      "text/plain": [
       "<IPython.core.display.Javascript object>"
      ]
     },
     "metadata": {},
     "output_type": "display_data"
    },
    {
     "data": {
      "text/markdown": [
       "<span style=\"color:#3366cc\">Hint:</span> This is a *binary* classification problem."
      ],
      "text/plain": [
       "Hint: This is a *binary* classification problem."
      ]
     },
     "metadata": {},
     "output_type": "display_data"
    },
    {
     "data": {
      "application/javascript": [
       "parent.postMessage({\"jupyterEvent\": \"custom.exercise_interaction\", \"data\": {\"interactionType\": 3, \"questionType\": 2, \"questionId\": \"2_Q2\", \"learnToolsVersion\": \"0.3.4\", \"valueTowardsCompletion\": 0.0, \"failureMessage\": \"\", \"exceptionClass\": \"\", \"trace\": \"\", \"outcomeType\": 4}}, \"*\")"
      ],
      "text/plain": [
       "<IPython.core.display.Javascript object>"
      ]
     },
     "metadata": {},
     "output_type": "display_data"
    },
    {
     "data": {
      "text/markdown": [
       "<span style=\"color:#33cc99\">Solution:</span> \n",
       "```python\n",
       "\n",
       "model.compile(\n",
       "    optimizer=tf.keras.optimizers.Adam(learning_rate=0.0001),\n",
       "    loss='binary_crossentropy',\n",
       "    metrics=['binary_accuracy'],\n",
       ")\n",
       "\n",
       "```"
      ],
      "text/plain": [
       "Solution: \n",
       "```python\n",
       "\n",
       "model.compile(\n",
       "    optimizer=tf.keras.optimizers.Adam(learning_rate=0.0001),\n",
       "    loss='binary_crossentropy',\n",
       "    metrics=['binary_accuracy'],\n",
       ")\n",
       "\n",
       "```"
      ]
     },
     "metadata": {},
     "output_type": "display_data"
    }
   ],
   "source": [
    "# Lines below will give you a hint or solution code\n",
    "q_2.hint()\n",
    "q_2.solution()"
   ]
  },
  {
   "cell_type": "markdown",
   "id": "8e2839e2",
   "metadata": {
    "papermill": {
     "duration": 0.007455,
     "end_time": "2022-10-16T15:35:20.785470",
     "exception": false,
     "start_time": "2022-10-16T15:35:20.778015",
     "status": "completed"
    },
    "tags": []
   },
   "source": [
    "Finally, let's test the performance of this new model. First run this cell to fit the model to the training set."
   ]
  },
  {
   "cell_type": "code",
   "execution_count": 7,
   "id": "c76b40ba",
   "metadata": {
    "execution": {
     "iopub.execute_input": "2022-10-16T15:35:20.803262Z",
     "iopub.status.busy": "2022-10-16T15:35:20.802904Z",
     "iopub.status.idle": "2022-10-16T15:39:21.854473Z",
     "shell.execute_reply": "2022-10-16T15:39:21.853385Z"
    },
    "papermill": {
     "duration": 241.063503,
     "end_time": "2022-10-16T15:39:21.856988",
     "exception": false,
     "start_time": "2022-10-16T15:35:20.793485",
     "status": "completed"
    },
    "tags": []
   },
   "outputs": [
    {
     "name": "stderr",
     "output_type": "stream",
     "text": [
      "2022-10-16 15:35:20.848247: I tensorflow/compiler/mlir/mlir_graph_optimization_pass.cc:185] None of the MLIR Optimization Passes are enabled (registered 2)\n"
     ]
    },
    {
     "name": "stdout",
     "output_type": "stream",
     "text": [
      "Epoch 1/50\n"
     ]
    },
    {
     "name": "stderr",
     "output_type": "stream",
     "text": [
      "2022-10-16 15:35:24.010221: I tensorflow/stream_executor/cuda/cuda_dnn.cc:369] Loaded cuDNN version 8005\n"
     ]
    },
    {
     "name": "stdout",
     "output_type": "stream",
     "text": [
      "80/80 [==============================] - 36s 341ms/step - loss: 0.6816 - binary_accuracy: 0.5744 - val_loss: 0.6691 - val_binary_accuracy: 0.5785\n",
      "Epoch 2/50\n",
      "80/80 [==============================] - 3s 42ms/step - loss: 0.6667 - binary_accuracy: 0.5787 - val_loss: 0.6610 - val_binary_accuracy: 0.5785\n",
      "Epoch 3/50\n",
      "80/80 [==============================] - 3s 43ms/step - loss: 0.6621 - binary_accuracy: 0.5787 - val_loss: 0.6507 - val_binary_accuracy: 0.5785\n",
      "Epoch 4/50\n",
      "80/80 [==============================] - 3s 43ms/step - loss: 0.6534 - binary_accuracy: 0.5787 - val_loss: 0.6450 - val_binary_accuracy: 0.5785\n",
      "Epoch 5/50\n",
      "80/80 [==============================] - 3s 43ms/step - loss: 0.6493 - binary_accuracy: 0.6002 - val_loss: 0.6381 - val_binary_accuracy: 0.5991\n",
      "Epoch 6/50\n",
      "80/80 [==============================] - 3s 43ms/step - loss: 0.6390 - binary_accuracy: 0.6316 - val_loss: 0.6346 - val_binary_accuracy: 0.5955\n",
      "Epoch 7/50\n",
      "80/80 [==============================] - 3s 42ms/step - loss: 0.6371 - binary_accuracy: 0.6344 - val_loss: 0.6367 - val_binary_accuracy: 0.6023\n",
      "Epoch 8/50\n",
      "80/80 [==============================] - 3s 43ms/step - loss: 0.6276 - binary_accuracy: 0.6547 - val_loss: 0.6194 - val_binary_accuracy: 0.6452\n",
      "Epoch 9/50\n",
      "80/80 [==============================] - 3s 43ms/step - loss: 0.6236 - binary_accuracy: 0.6598 - val_loss: 0.6175 - val_binary_accuracy: 0.6440\n",
      "Epoch 10/50\n",
      "80/80 [==============================] - 3s 43ms/step - loss: 0.6169 - binary_accuracy: 0.6691 - val_loss: 0.6091 - val_binary_accuracy: 0.6638\n",
      "Epoch 11/50\n",
      "80/80 [==============================] - 3s 43ms/step - loss: 0.6064 - binary_accuracy: 0.6826 - val_loss: 0.6039 - val_binary_accuracy: 0.6710\n",
      "Epoch 12/50\n",
      "80/80 [==============================] - 3s 42ms/step - loss: 0.6024 - binary_accuracy: 0.6873 - val_loss: 0.6019 - val_binary_accuracy: 0.6698\n",
      "Epoch 13/50\n",
      "80/80 [==============================] - 3s 43ms/step - loss: 0.5899 - binary_accuracy: 0.6959 - val_loss: 0.5929 - val_binary_accuracy: 0.6840\n",
      "Epoch 14/50\n",
      "80/80 [==============================] - 3s 43ms/step - loss: 0.5828 - binary_accuracy: 0.7059 - val_loss: 0.5990 - val_binary_accuracy: 0.6789\n",
      "Epoch 15/50\n",
      "80/80 [==============================] - 4s 44ms/step - loss: 0.5687 - binary_accuracy: 0.7286 - val_loss: 0.5747 - val_binary_accuracy: 0.7113\n",
      "Epoch 16/50\n",
      "80/80 [==============================] - 3s 43ms/step - loss: 0.5503 - binary_accuracy: 0.7370 - val_loss: 0.5535 - val_binary_accuracy: 0.7161\n",
      "Epoch 17/50\n",
      "80/80 [==============================] - 3s 43ms/step - loss: 0.5263 - binary_accuracy: 0.7452 - val_loss: 0.5308 - val_binary_accuracy: 0.7434\n",
      "Epoch 18/50\n",
      "80/80 [==============================] - 3s 43ms/step - loss: 0.4979 - binary_accuracy: 0.7608 - val_loss: 0.5163 - val_binary_accuracy: 0.7408\n",
      "Epoch 19/50\n",
      "80/80 [==============================] - 3s 43ms/step - loss: 0.4739 - binary_accuracy: 0.7813 - val_loss: 0.5060 - val_binary_accuracy: 0.7531\n",
      "Epoch 20/50\n",
      "80/80 [==============================] - 3s 43ms/step - loss: 0.4418 - binary_accuracy: 0.8036 - val_loss: 0.4887 - val_binary_accuracy: 0.7753\n",
      "Epoch 21/50\n",
      "80/80 [==============================] - 3s 43ms/step - loss: 0.4199 - binary_accuracy: 0.8163 - val_loss: 0.5053 - val_binary_accuracy: 0.7410\n",
      "Epoch 22/50\n",
      "80/80 [==============================] - 3s 42ms/step - loss: 0.3867 - binary_accuracy: 0.8319 - val_loss: 0.4326 - val_binary_accuracy: 0.8052\n",
      "Epoch 23/50\n",
      "80/80 [==============================] - 3s 43ms/step - loss: 0.3524 - binary_accuracy: 0.8507 - val_loss: 0.4820 - val_binary_accuracy: 0.7612\n",
      "Epoch 24/50\n",
      "80/80 [==============================] - 3s 43ms/step - loss: 0.3386 - binary_accuracy: 0.8554 - val_loss: 0.4324 - val_binary_accuracy: 0.7957\n",
      "Epoch 25/50\n",
      "80/80 [==============================] - 3s 42ms/step - loss: 0.3089 - binary_accuracy: 0.8697 - val_loss: 0.4353 - val_binary_accuracy: 0.7886\n",
      "Epoch 26/50\n",
      "80/80 [==============================] - 3s 42ms/step - loss: 0.2793 - binary_accuracy: 0.8865 - val_loss: 0.4330 - val_binary_accuracy: 0.8101\n",
      "Epoch 27/50\n",
      "80/80 [==============================] - 3s 42ms/step - loss: 0.2638 - binary_accuracy: 0.8988 - val_loss: 0.4213 - val_binary_accuracy: 0.8236\n",
      "Epoch 28/50\n",
      "80/80 [==============================] - 3s 42ms/step - loss: 0.2580 - binary_accuracy: 0.8943 - val_loss: 0.4508 - val_binary_accuracy: 0.8240\n",
      "Epoch 29/50\n",
      "80/80 [==============================] - 3s 43ms/step - loss: 0.2387 - binary_accuracy: 0.9021 - val_loss: 0.4321 - val_binary_accuracy: 0.8157\n",
      "Epoch 30/50\n",
      "80/80 [==============================] - 3s 44ms/step - loss: 0.2155 - binary_accuracy: 0.9162 - val_loss: 0.4086 - val_binary_accuracy: 0.8379\n",
      "Epoch 31/50\n",
      "80/80 [==============================] - 3s 43ms/step - loss: 0.2069 - binary_accuracy: 0.9214 - val_loss: 0.4341 - val_binary_accuracy: 0.8266\n",
      "Epoch 32/50\n",
      "80/80 [==============================] - 3s 43ms/step - loss: 0.2185 - binary_accuracy: 0.9111 - val_loss: 0.4584 - val_binary_accuracy: 0.8293\n",
      "Epoch 33/50\n",
      "80/80 [==============================] - 3s 42ms/step - loss: 0.2165 - binary_accuracy: 0.9107 - val_loss: 0.6101 - val_binary_accuracy: 0.8048\n",
      "Epoch 34/50\n",
      "80/80 [==============================] - 3s 43ms/step - loss: 0.1811 - binary_accuracy: 0.9306 - val_loss: 0.6718 - val_binary_accuracy: 0.8072\n",
      "Epoch 35/50\n",
      "80/80 [==============================] - 3s 42ms/step - loss: 0.1589 - binary_accuracy: 0.9425 - val_loss: 0.6969 - val_binary_accuracy: 0.8054\n",
      "Epoch 36/50\n",
      "80/80 [==============================] - 3s 42ms/step - loss: 0.1445 - binary_accuracy: 0.9492 - val_loss: 0.6911 - val_binary_accuracy: 0.8086\n",
      "Epoch 37/50\n",
      "80/80 [==============================] - 3s 43ms/step - loss: 0.1331 - binary_accuracy: 0.9556 - val_loss: 0.7400 - val_binary_accuracy: 0.8050\n",
      "Epoch 38/50\n",
      "80/80 [==============================] - 3s 43ms/step - loss: 0.1316 - binary_accuracy: 0.9545 - val_loss: 0.5597 - val_binary_accuracy: 0.8373\n",
      "Epoch 39/50\n",
      "80/80 [==============================] - 3s 43ms/step - loss: 0.1397 - binary_accuracy: 0.9519 - val_loss: 0.5774 - val_binary_accuracy: 0.8420\n",
      "Epoch 40/50\n",
      "80/80 [==============================] - 3s 42ms/step - loss: 0.1258 - binary_accuracy: 0.9566 - val_loss: 0.5190 - val_binary_accuracy: 0.8390\n",
      "Epoch 41/50\n",
      "80/80 [==============================] - 3s 42ms/step - loss: 0.1123 - binary_accuracy: 0.9635 - val_loss: 0.5814 - val_binary_accuracy: 0.8442\n",
      "Epoch 42/50\n",
      "80/80 [==============================] - 3s 42ms/step - loss: 0.0997 - binary_accuracy: 0.9707 - val_loss: 0.5954 - val_binary_accuracy: 0.8357\n",
      "Epoch 43/50\n",
      "80/80 [==============================] - 3s 42ms/step - loss: 0.0983 - binary_accuracy: 0.9683 - val_loss: 0.5909 - val_binary_accuracy: 0.8299\n",
      "Epoch 44/50\n",
      "80/80 [==============================] - 3s 42ms/step - loss: 0.0973 - binary_accuracy: 0.9703 - val_loss: 0.5616 - val_binary_accuracy: 0.8149\n",
      "Epoch 45/50\n",
      "80/80 [==============================] - 4s 44ms/step - loss: 0.0878 - binary_accuracy: 0.9724 - val_loss: 0.6567 - val_binary_accuracy: 0.8070\n",
      "Epoch 46/50\n",
      "80/80 [==============================] - 3s 42ms/step - loss: 0.0812 - binary_accuracy: 0.9775 - val_loss: 0.5631 - val_binary_accuracy: 0.8388\n",
      "Epoch 47/50\n",
      "80/80 [==============================] - 3s 42ms/step - loss: 0.0699 - binary_accuracy: 0.9803 - val_loss: 0.6587 - val_binary_accuracy: 0.8505\n",
      "Epoch 48/50\n",
      "80/80 [==============================] - 3s 43ms/step - loss: 0.0716 - binary_accuracy: 0.9808 - val_loss: 0.6274 - val_binary_accuracy: 0.8462\n",
      "Epoch 49/50\n",
      "80/80 [==============================] - 3s 42ms/step - loss: 0.0693 - binary_accuracy: 0.9818 - val_loss: 0.6884 - val_binary_accuracy: 0.8462\n",
      "Epoch 50/50\n",
      "80/80 [==============================] - 3s 43ms/step - loss: 0.0622 - binary_accuracy: 0.9838 - val_loss: 0.6890 - val_binary_accuracy: 0.8501\n"
     ]
    }
   ],
   "source": [
    "history = model.fit(\n",
    "    ds_train,\n",
    "    validation_data=ds_valid,\n",
    "    epochs=50,\n",
    ")"
   ]
  },
  {
   "cell_type": "markdown",
   "id": "8618aea2",
   "metadata": {
    "papermill": {
     "duration": 0.109612,
     "end_time": "2022-10-16T15:39:22.078748",
     "exception": false,
     "start_time": "2022-10-16T15:39:21.969136",
     "status": "completed"
    },
    "tags": []
   },
   "source": [
    "And now run the cell below to plot the loss and metric curves for this training run."
   ]
  },
  {
   "cell_type": "code",
   "execution_count": 8,
   "id": "79fd43f5",
   "metadata": {
    "execution": {
     "iopub.execute_input": "2022-10-16T15:39:22.302701Z",
     "iopub.status.busy": "2022-10-16T15:39:22.302345Z",
     "iopub.status.idle": "2022-10-16T15:39:22.870434Z",
     "shell.execute_reply": "2022-10-16T15:39:22.869526Z"
    },
    "papermill": {
     "duration": 0.681261,
     "end_time": "2022-10-16T15:39:22.872465",
     "exception": false,
     "start_time": "2022-10-16T15:39:22.191204",
     "status": "completed"
    },
    "tags": []
   },
   "outputs": [
    {
     "data": {
      "image/png": "[encoded data removed]",
      "text/plain": [
       "<Figure size 432x288 with 1 Axes>"
      ]
     },
     "metadata": {
      "needs_background": "light"
     },
     "output_type": "display_data"
    },
    {
     "data": {
      "image/png": "[encoded data removed]",
      "text/plain": [
       "<Figure size 432x288 with 1 Axes>"
      ]
     },
     "metadata": {
      "needs_background": "light"
     },
     "output_type": "display_data"
    }
   ],
   "source": [
    "import pandas as pd\n",
    "history_frame = pd.DataFrame(history.history)\n",
    "history_frame.loc[:, ['loss', 'val_loss']].plot()\n",
    "history_frame.loc[:, ['binary_accuracy', 'val_binary_accuracy']].plot();"
   ]
  },
  {
   "cell_type": "markdown",
   "id": "ce8c858a",
   "metadata": {
    "papermill": {
     "duration": 0.111591,
     "end_time": "2022-10-16T15:39:23.096615",
     "exception": false,
     "start_time": "2022-10-16T15:39:22.985024",
     "status": "completed"
    },
    "tags": []
   },
   "source": [
    "# 3) Train the Model #\n",
    "\n",
    "How would you interpret these training curves? Did this model improve upon the model from the tutorial?"
   ]
  },
  {
   "cell_type": "code",
   "execution_count": 9,
   "id": "595341f9",
   "metadata": {
    "execution": {
     "iopub.execute_input": "2022-10-16T15:39:23.321169Z",
     "iopub.status.busy": "2022-10-16T15:39:23.320793Z",
     "iopub.status.idle": "2022-10-16T15:39:23.328937Z",
     "shell.execute_reply": "2022-10-16T15:39:23.328059Z"
    },
    "lines_to_next_cell": 0,
    "papermill": {
     "duration": 0.121876,
     "end_time": "2022-10-16T15:39:23.331060",
     "exception": false,
     "start_time": "2022-10-16T15:39:23.209184",
     "status": "completed"
    },
    "tags": []
   },
   "outputs": [
    {
     "data": {
      "application/javascript": [
       "parent.postMessage({\"jupyterEvent\": \"custom.exercise_interaction\", \"data\": {\"outcomeType\": 1, \"valueTowardsCompletion\": 0.3333333333333333, \"interactionType\": 1, \"questionType\": 4, \"questionId\": \"3_Q3\", \"learnToolsVersion\": \"0.3.4\", \"failureMessage\": \"\", \"exceptionClass\": \"\", \"trace\": \"\"}}, \"*\")"
      ],
      "text/plain": [
       "<IPython.core.display.Javascript object>"
      ]
     },
     "metadata": {},
     "output_type": "display_data"
    },
    {
     "data": {
      "text/markdown": [
       "<span style=\"color:#33cc33\">Correct:</span> \n",
       "\n",
       "\n",
       "The learning curves for the model from the tutorial diverged fairly rapidly. This would indicate that it was prone to overfitting and in need of some regularization. The additional layer in our new model would make it even more prone to overfitting. However, adding some regularization with the `Dropout` layer helped prevent this. These changes improved the validation accuracy of the model by several points.\n"
      ],
      "text/plain": [
       "Correct: \n",
       "\n",
       "\n",
       "The learning curves for the model from the tutorial diverged fairly rapidly. This would indicate that it was prone to overfitting and in need of some regularization. The additional layer in our new model would make it even more prone to overfitting. However, adding some regularization with the `Dropout` layer helped prevent this. These changes improved the validation accuracy of the model by several points."
      ]
     },
     "metadata": {},
     "output_type": "display_data"
    }
   ],
   "source": [
    "# View the solution (Run this code cell to receive credit!)\n",
    "q_3.check()"
   ]
  },
  {
   "cell_type": "markdown",
   "id": "2a70ec82",
   "metadata": {
    "papermill": {
     "duration": 0.110739,
     "end_time": "2022-10-16T15:39:23.552836",
     "exception": false,
     "start_time": "2022-10-16T15:39:23.442097",
     "status": "completed"
    },
    "tags": []
   },
   "source": [
    "# Conclusion #\n",
    "\n",
    "These exercises showed you how to design a custom convolutional network to solve a specific classification problem. Though most models these days will be built on top of a pretrained base, it certain circumstances a smaller custom convnet might still be preferable -- such as with a smaller or unusual dataset or when computing resources are very limited. As you saw here, for certain problems they can perform just as well as a pretrained model.\n",
    "\n",
    "# Keep Going #\n",
    "\n",
    "Continue on to [**Lesson 6**](https://www.kaggle.com/ryanholbrook/data-augmentation), where you'll learn a widely-used technique that can give a boost to your training data: **data augmentation**."
   ]
  },
  {
   "cell_type": "markdown",
   "id": "114cf88b",
   "metadata": {
    "papermill": {
     "duration": 0.111482,
     "end_time": "2022-10-16T15:39:23.775031",
     "exception": false,
     "start_time": "2022-10-16T15:39:23.663549",
     "status": "completed"
    },
    "tags": []
   },
   "source": [
    "---\n",
    "\n",
    "\n",
    "\n",
    "\n",
    "*Have questions or comments? Visit the [course discussion forum](https://www.kaggle.com/learn/computer-vision/discussion) to chat with other learners.*"
   ]
  }
 ],
 "metadata": {
  "kernelspec": {
   "display_name": "Python 3",
   "language": "python",
   "name": "python3"
  },
  "language_info": {
   "codemirror_mode": {
    "name": "ipython",
    "version": 3
   },
   "file_extension": ".py",
   "mimetype": "text/x-python",
   "name": "python",
   "nbconvert_exporter": "python",
   "pygments_lexer": "ipython3",
   "version": "3.7.12"
  },
  "papermill": {
   "default_parameters": {},
   "duration": 270.434295,
   "end_time": "2022-10-16T15:39:27.144120",
   "environment_variables": {},
   "exception": null,
   "input_path": "__notebook__.ipynb",
   "output_path": "__notebook__.ipynb",
   "parameters": {},
   "start_time": "2022-10-16T15:34:56.709825",
   "version": "2.3.4"
  }
 },
 "nbformat": 4,
 "nbformat_minor": 5
}
